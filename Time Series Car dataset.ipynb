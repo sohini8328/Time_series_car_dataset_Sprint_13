{
 "cells": [
  {
   "cell_type": "markdown",
   "metadata": {},
   "source": [
    "## Project Title\n",
    "Best model to predict most demanding time for Sweet Lift taxis"
   ]
  },
  {
   "cell_type": "markdown",
   "metadata": {},
   "source": [
    "## Introduction\n",
    "The purpose of this project is to assist Sweet Lift company to create a machine learning model so that it can predict which time of the day gets more busier so that it can higher more drivers at that time. \n",
    "They can focus on correct marketing channel so that more efficient hiring can be done with less marketing cost.\n"
   ]
  },
  {
   "cell_type": "code",
   "execution_count": 1,
   "metadata": {},
   "outputs": [],
   "source": [
    "import pandas as pd\n",
    "import numpy as np\n",
    "import math\n",
    "\n",
    "import matplotlib.pyplot as plt\n",
    "from statsmodels.tsa.seasonal import seasonal_decompose\n",
    "from sklearn.compose import ColumnTransformer\n",
    "from sklearn.preprocessing import StandardScaler\n",
    "\n",
    "from sklearn.linear_model import LinearRegression\n",
    "from sklearn.tree import DecisionTreeRegressor\n",
    "from sklearn.ensemble import RandomForestRegressor\n",
    "import lightgbm as lgb\n",
    "from lightgbm import LGBMRegressor\n",
    "from xgboost import XGBRegressor\n",
    "\n",
    "from sklearn.model_selection import train_test_split\n",
    "from sklearn.model_selection import TimeSeriesSplit\n",
    "from sklearn.metrics import mean_squared_error "
   ]
  },
  {
   "cell_type": "code",
   "execution_count": 3,
   "metadata": {},
   "outputs": [
    {
     "data": {
      "application/vnd.microsoft.datawrangler.viewer.v0+json": {
       "columns": [
        {
         "name": "index",
         "rawType": "int64",
         "type": "integer"
        },
        {
         "name": "datetime",
         "rawType": "object",
         "type": "string"
        },
        {
         "name": "num_orders",
         "rawType": "int64",
         "type": "integer"
        }
       ],
       "conversionMethod": "pd.DataFrame",
       "ref": "292891c5-ce9e-49b6-af18-955399801eec",
       "rows": [
        [
         "0",
         "3/1/2018 0:00",
         "9"
        ],
        [
         "1",
         "3/1/2018 0:10",
         "14"
        ],
        [
         "2",
         "3/1/2018 0:20",
         "28"
        ],
        [
         "3",
         "3/1/2018 0:30",
         "20"
        ],
        [
         "4",
         "3/1/2018 0:40",
         "32"
        ],
        [
         "5",
         "3/1/2018 0:50",
         "21"
        ],
        [
         "6",
         "3/1/2018 1:00",
         "7"
        ],
        [
         "7",
         "3/1/2018 1:10",
         "5"
        ],
        [
         "8",
         "3/1/2018 1:20",
         "17"
        ],
        [
         "9",
         "3/1/2018 1:30",
         "12"
        ],
        [
         "10",
         "3/1/2018 1:40",
         "19"
        ],
        [
         "11",
         "3/1/2018 1:50",
         "25"
        ],
        [
         "12",
         "3/1/2018 2:00",
         "22"
        ],
        [
         "13",
         "3/1/2018 2:10",
         "12"
        ],
        [
         "14",
         "3/1/2018 2:20",
         "19"
        ],
        [
         "15",
         "3/1/2018 2:30",
         "8"
        ],
        [
         "16",
         "3/1/2018 2:40",
         "6"
        ],
        [
         "17",
         "3/1/2018 2:50",
         "4"
        ],
        [
         "18",
         "3/1/2018 3:00",
         "8"
        ],
        [
         "19",
         "3/1/2018 3:10",
         "17"
        ],
        [
         "20",
         "3/1/2018 3:20",
         "7"
        ],
        [
         "21",
         "3/1/2018 3:30",
         "4"
        ],
        [
         "22",
         "3/1/2018 3:40",
         "10"
        ],
        [
         "23",
         "3/1/2018 3:50",
         "20"
        ],
        [
         "24",
         "3/1/2018 4:00",
         "13"
        ],
        [
         "25",
         "3/1/2018 4:10",
         "17"
        ],
        [
         "26",
         "3/1/2018 4:20",
         "5"
        ],
        [
         "27",
         "3/1/2018 4:30",
         "2"
        ],
        [
         "28",
         "3/1/2018 4:40",
         "3"
        ],
        [
         "29",
         "3/1/2018 4:50",
         "3"
        ],
        [
         "30",
         "3/1/2018 5:00",
         "3"
        ],
        [
         "31",
         "3/1/2018 5:10",
         "2"
        ],
        [
         "32",
         "3/1/2018 5:20",
         "0"
        ],
        [
         "33",
         "3/1/2018 5:30",
         "1"
        ],
        [
         "34",
         "3/1/2018 5:40",
         "0"
        ],
        [
         "35",
         "3/1/2018 5:50",
         "0"
        ],
        [
         "36",
         "3/1/2018 6:00",
         "0"
        ],
        [
         "37",
         "3/1/2018 6:10",
         "0"
        ],
        [
         "38",
         "3/1/2018 6:20",
         "2"
        ],
        [
         "39",
         "3/1/2018 6:30",
         "1"
        ],
        [
         "40",
         "3/1/2018 6:40",
         "7"
        ],
        [
         "41",
         "3/1/2018 6:50",
         "2"
        ],
        [
         "42",
         "3/1/2018 7:00",
         "0"
        ],
        [
         "43",
         "3/1/2018 7:10",
         "1"
        ],
        [
         "44",
         "3/1/2018 7:20",
         "1"
        ],
        [
         "45",
         "3/1/2018 7:30",
         "2"
        ],
        [
         "46",
         "3/1/2018 7:40",
         "4"
        ],
        [
         "47",
         "3/1/2018 7:50",
         "7"
        ],
        [
         "48",
         "3/1/2018 8:00",
         "9"
        ],
        [
         "49",
         "3/1/2018 8:10",
         "8"
        ]
       ],
       "shape": {
        "columns": 2,
        "rows": 26496
       }
      },
      "text/html": [
       "<div>\n",
       "<style scoped>\n",
       "    .dataframe tbody tr th:only-of-type {\n",
       "        vertical-align: middle;\n",
       "    }\n",
       "\n",
       "    .dataframe tbody tr th {\n",
       "        vertical-align: top;\n",
       "    }\n",
       "\n",
       "    .dataframe thead th {\n",
       "        text-align: right;\n",
       "    }\n",
       "</style>\n",
       "<table border=\"1\" class=\"dataframe\">\n",
       "  <thead>\n",
       "    <tr style=\"text-align: right;\">\n",
       "      <th></th>\n",
       "      <th>datetime</th>\n",
       "      <th>num_orders</th>\n",
       "    </tr>\n",
       "  </thead>\n",
       "  <tbody>\n",
       "    <tr>\n",
       "      <th>0</th>\n",
       "      <td>3/1/2018 0:00</td>\n",
       "      <td>9</td>\n",
       "    </tr>\n",
       "    <tr>\n",
       "      <th>1</th>\n",
       "      <td>3/1/2018 0:10</td>\n",
       "      <td>14</td>\n",
       "    </tr>\n",
       "    <tr>\n",
       "      <th>2</th>\n",
       "      <td>3/1/2018 0:20</td>\n",
       "      <td>28</td>\n",
       "    </tr>\n",
       "    <tr>\n",
       "      <th>3</th>\n",
       "      <td>3/1/2018 0:30</td>\n",
       "      <td>20</td>\n",
       "    </tr>\n",
       "    <tr>\n",
       "      <th>4</th>\n",
       "      <td>3/1/2018 0:40</td>\n",
       "      <td>32</td>\n",
       "    </tr>\n",
       "    <tr>\n",
       "      <th>...</th>\n",
       "      <td>...</td>\n",
       "      <td>...</td>\n",
       "    </tr>\n",
       "    <tr>\n",
       "      <th>26491</th>\n",
       "      <td>8/31/2018 23:10</td>\n",
       "      <td>32</td>\n",
       "    </tr>\n",
       "    <tr>\n",
       "      <th>26492</th>\n",
       "      <td>8/31/2018 23:20</td>\n",
       "      <td>24</td>\n",
       "    </tr>\n",
       "    <tr>\n",
       "      <th>26493</th>\n",
       "      <td>8/31/2018 23:30</td>\n",
       "      <td>27</td>\n",
       "    </tr>\n",
       "    <tr>\n",
       "      <th>26494</th>\n",
       "      <td>8/31/2018 23:40</td>\n",
       "      <td>39</td>\n",
       "    </tr>\n",
       "    <tr>\n",
       "      <th>26495</th>\n",
       "      <td>8/31/2018 23:50</td>\n",
       "      <td>53</td>\n",
       "    </tr>\n",
       "  </tbody>\n",
       "</table>\n",
       "<p>26496 rows × 2 columns</p>\n",
       "</div>"
      ],
      "text/plain": [
       "              datetime  num_orders\n",
       "0        3/1/2018 0:00           9\n",
       "1        3/1/2018 0:10          14\n",
       "2        3/1/2018 0:20          28\n",
       "3        3/1/2018 0:30          20\n",
       "4        3/1/2018 0:40          32\n",
       "...                ...         ...\n",
       "26491  8/31/2018 23:10          32\n",
       "26492  8/31/2018 23:20          24\n",
       "26493  8/31/2018 23:30          27\n",
       "26494  8/31/2018 23:40          39\n",
       "26495  8/31/2018 23:50          53\n",
       "\n",
       "[26496 rows x 2 columns]"
      ]
     },
     "execution_count": 3,
     "metadata": {},
     "output_type": "execute_result"
    }
   ],
   "source": [
    "df = pd.read_csv('taxi.csv')\n",
    "df"
   ]
  },
  {
   "cell_type": "code",
   "execution_count": 5,
   "metadata": {},
   "outputs": [
    {
     "data": {
      "application/vnd.microsoft.datawrangler.viewer.v0+json": {
       "columns": [
        {
         "name": "datetime",
         "rawType": "datetime64[ns]",
         "type": "datetime"
        },
        {
         "name": "num_orders",
         "rawType": "int64",
         "type": "integer"
        }
       ],
       "conversionMethod": "pd.DataFrame",
       "ref": "4b0d7c4a-ee85-4cfc-8c52-409e22e14b8f",
       "rows": [
        [
         "2018-03-01 00:00:00",
         "9"
        ],
        [
         "2018-03-01 00:10:00",
         "14"
        ],
        [
         "2018-03-01 00:20:00",
         "28"
        ],
        [
         "2018-03-01 00:30:00",
         "20"
        ],
        [
         "2018-03-01 00:40:00",
         "32"
        ],
        [
         "2018-03-01 00:50:00",
         "21"
        ],
        [
         "2018-03-01 01:00:00",
         "7"
        ],
        [
         "2018-03-01 01:10:00",
         "5"
        ],
        [
         "2018-03-01 01:20:00",
         "17"
        ],
        [
         "2018-03-01 01:30:00",
         "12"
        ],
        [
         "2018-03-01 01:40:00",
         "19"
        ],
        [
         "2018-03-01 01:50:00",
         "25"
        ],
        [
         "2018-03-01 02:00:00",
         "22"
        ],
        [
         "2018-03-01 02:10:00",
         "12"
        ],
        [
         "2018-03-01 02:20:00",
         "19"
        ],
        [
         "2018-03-01 02:30:00",
         "8"
        ],
        [
         "2018-03-01 02:40:00",
         "6"
        ],
        [
         "2018-03-01 02:50:00",
         "4"
        ],
        [
         "2018-03-01 03:00:00",
         "8"
        ],
        [
         "2018-03-01 03:10:00",
         "17"
        ],
        [
         "2018-03-01 03:20:00",
         "7"
        ],
        [
         "2018-03-01 03:30:00",
         "4"
        ],
        [
         "2018-03-01 03:40:00",
         "10"
        ],
        [
         "2018-03-01 03:50:00",
         "20"
        ],
        [
         "2018-03-01 04:00:00",
         "13"
        ],
        [
         "2018-03-01 04:10:00",
         "17"
        ],
        [
         "2018-03-01 04:20:00",
         "5"
        ],
        [
         "2018-03-01 04:30:00",
         "2"
        ],
        [
         "2018-03-01 04:40:00",
         "3"
        ],
        [
         "2018-03-01 04:50:00",
         "3"
        ],
        [
         "2018-03-01 05:00:00",
         "3"
        ],
        [
         "2018-03-01 05:10:00",
         "2"
        ],
        [
         "2018-03-01 05:20:00",
         "0"
        ],
        [
         "2018-03-01 05:30:00",
         "1"
        ],
        [
         "2018-03-01 05:40:00",
         "0"
        ],
        [
         "2018-03-01 05:50:00",
         "0"
        ],
        [
         "2018-03-01 06:00:00",
         "0"
        ],
        [
         "2018-03-01 06:10:00",
         "0"
        ],
        [
         "2018-03-01 06:20:00",
         "2"
        ],
        [
         "2018-03-01 06:30:00",
         "1"
        ],
        [
         "2018-03-01 06:40:00",
         "7"
        ],
        [
         "2018-03-01 06:50:00",
         "2"
        ],
        [
         "2018-03-01 07:00:00",
         "0"
        ],
        [
         "2018-03-01 07:10:00",
         "1"
        ],
        [
         "2018-03-01 07:20:00",
         "1"
        ],
        [
         "2018-03-01 07:30:00",
         "2"
        ],
        [
         "2018-03-01 07:40:00",
         "4"
        ],
        [
         "2018-03-01 07:50:00",
         "7"
        ],
        [
         "2018-03-01 08:00:00",
         "9"
        ],
        [
         "2018-03-01 08:10:00",
         "8"
        ]
       ],
       "shape": {
        "columns": 1,
        "rows": 26496
       }
      },
      "text/html": [
       "<div>\n",
       "<style scoped>\n",
       "    .dataframe tbody tr th:only-of-type {\n",
       "        vertical-align: middle;\n",
       "    }\n",
       "\n",
       "    .dataframe tbody tr th {\n",
       "        vertical-align: top;\n",
       "    }\n",
       "\n",
       "    .dataframe thead th {\n",
       "        text-align: right;\n",
       "    }\n",
       "</style>\n",
       "<table border=\"1\" class=\"dataframe\">\n",
       "  <thead>\n",
       "    <tr style=\"text-align: right;\">\n",
       "      <th></th>\n",
       "      <th>num_orders</th>\n",
       "    </tr>\n",
       "    <tr>\n",
       "      <th>datetime</th>\n",
       "      <th></th>\n",
       "    </tr>\n",
       "  </thead>\n",
       "  <tbody>\n",
       "    <tr>\n",
       "      <th>2018-03-01 00:00:00</th>\n",
       "      <td>9</td>\n",
       "    </tr>\n",
       "    <tr>\n",
       "      <th>2018-03-01 00:10:00</th>\n",
       "      <td>14</td>\n",
       "    </tr>\n",
       "    <tr>\n",
       "      <th>2018-03-01 00:20:00</th>\n",
       "      <td>28</td>\n",
       "    </tr>\n",
       "    <tr>\n",
       "      <th>2018-03-01 00:30:00</th>\n",
       "      <td>20</td>\n",
       "    </tr>\n",
       "    <tr>\n",
       "      <th>2018-03-01 00:40:00</th>\n",
       "      <td>32</td>\n",
       "    </tr>\n",
       "    <tr>\n",
       "      <th>...</th>\n",
       "      <td>...</td>\n",
       "    </tr>\n",
       "    <tr>\n",
       "      <th>2018-08-31 23:10:00</th>\n",
       "      <td>32</td>\n",
       "    </tr>\n",
       "    <tr>\n",
       "      <th>2018-08-31 23:20:00</th>\n",
       "      <td>24</td>\n",
       "    </tr>\n",
       "    <tr>\n",
       "      <th>2018-08-31 23:30:00</th>\n",
       "      <td>27</td>\n",
       "    </tr>\n",
       "    <tr>\n",
       "      <th>2018-08-31 23:40:00</th>\n",
       "      <td>39</td>\n",
       "    </tr>\n",
       "    <tr>\n",
       "      <th>2018-08-31 23:50:00</th>\n",
       "      <td>53</td>\n",
       "    </tr>\n",
       "  </tbody>\n",
       "</table>\n",
       "<p>26496 rows × 1 columns</p>\n",
       "</div>"
      ],
      "text/plain": [
       "                     num_orders\n",
       "datetime                       \n",
       "2018-03-01 00:00:00           9\n",
       "2018-03-01 00:10:00          14\n",
       "2018-03-01 00:20:00          28\n",
       "2018-03-01 00:30:00          20\n",
       "2018-03-01 00:40:00          32\n",
       "...                         ...\n",
       "2018-08-31 23:10:00          32\n",
       "2018-08-31 23:20:00          24\n",
       "2018-08-31 23:30:00          27\n",
       "2018-08-31 23:40:00          39\n",
       "2018-08-31 23:50:00          53\n",
       "\n",
       "[26496 rows x 1 columns]"
      ]
     },
     "execution_count": 5,
     "metadata": {},
     "output_type": "execute_result"
    }
   ],
   "source": [
    "df = pd.read_csv('taxi.csv', index_col=[0], parse_dates=[0])\n",
    "df.sort_index(inplace=True)\n",
    "df"
   ]
  },
  {
   "cell_type": "code",
   "execution_count": 6,
   "metadata": {},
   "outputs": [
    {
     "data": {
      "text/plain": [
       "(26496, 1)"
      ]
     },
     "execution_count": 6,
     "metadata": {},
     "output_type": "execute_result"
    }
   ],
   "source": [
    "df.shape"
   ]
  },
  {
   "cell_type": "code",
   "execution_count": 7,
   "metadata": {},
   "outputs": [
    {
     "data": {
      "text/plain": [
       "num_orders    0\n",
       "dtype: int64"
      ]
     },
     "execution_count": 7,
     "metadata": {},
     "output_type": "execute_result"
    }
   ],
   "source": [
    "df.isna().sum()"
   ]
  },
  {
   "cell_type": "code",
   "execution_count": 8,
   "metadata": {},
   "outputs": [
    {
     "name": "stderr",
     "output_type": "stream",
     "text": [
      "C:\\Users\\Sohin\\AppData\\Local\\Temp\\ipykernel_144312\\3929153409.py:1: FutureWarning: 'H' is deprecated and will be removed in a future version, please use 'h' instead.\n",
      "  df_resampled = df.resample('1H').sum()\n"
     ]
    },
    {
     "data": {
      "image/png": "[encoded data removed]",
      "text/plain": [
       "<Figure size 800x800 with 3 Axes>"
      ]
     },
     "metadata": {},
     "output_type": "display_data"
    }
   ],
   "source": [
    "\n",
    "df_resampled = df.resample('1H').sum()\n",
    "decomposed= seasonal_decompose(df_resampled['num_orders'], model='additive', period= 24)\n",
    " \n",
    "plt.figure(figsize=(8,8))\n",
    "\n",
    "plt.subplot(311)\n",
    "decomposed.trend.plot(ax=plt.gca())\n",
    "plt.title('Trend')\n",
    "\n",
    "plt.subplot(312)\n",
    "decomposed.seasonal.plot(ax=plt.gca())\n",
    "plt.title('Seasonality')\n",
    "\n",
    "plt.subplot(313)\n",
    "decomposed.resid.plot(ax=plt.gca())\n",
    "plt.title('Residuals')\n",
    "\n",
    "plt.tight_layout()"
   ]
  },
  {
   "cell_type": "markdown",
   "metadata": {},
   "source": [
    "#### sampling the number of taxi orders on hourly basis and we can see the trend is rising as August is approaching."
   ]
  },
  {
   "cell_type": "code",
   "execution_count": 9,
   "metadata": {},
   "outputs": [],
   "source": [
    "def make_features(df_resampled, max_lag, rolling_mean_size):\n",
    "        \n",
    "        df_resampled['month'] = df_resampled.index.month\n",
    "        df_resampled['day'] = df_resampled.index.day\n",
    "        df_resampled['dayofweek'] = df_resampled.index.dayofweek\n",
    "        df_resampled['hour'] = df_resampled.index.hour\n",
    "        \n",
    "        for lag in range (1, max_lag + 1): df_resampled['lag_{}'. format(lag)] = df_resampled['num_orders'].shift(lag)\n",
    "\n",
    "        df_resampled['rolling_mean'] = (df_resampled['num_orders'].shift().rolling(rolling_mean_size).mean())\n",
    "\n",
    "make_features(df_resampled,3,3)        \n"
   ]
  },
  {
   "cell_type": "markdown",
   "metadata": {},
   "source": [
    "#### creating features like month, day, dayofweek and hour with numeric values to have proper model training."
   ]
  },
  {
   "cell_type": "code",
   "execution_count": 10,
   "metadata": {},
   "outputs": [
    {
     "name": "stdout",
     "output_type": "stream",
     "text": [
      "<class 'pandas.core.frame.DataFrame'>\n",
      "DatetimeIndex: 4416 entries, 2018-03-01 00:00:00 to 2018-08-31 23:00:00\n",
      "Freq: h\n",
      "Data columns (total 9 columns):\n",
      " #   Column        Non-Null Count  Dtype  \n",
      "---  ------        --------------  -----  \n",
      " 0   num_orders    4416 non-null   int64  \n",
      " 1   month         4416 non-null   int32  \n",
      " 2   day           4416 non-null   int32  \n",
      " 3   dayofweek     4416 non-null   int32  \n",
      " 4   hour          4416 non-null   int32  \n",
      " 5   lag_1         4415 non-null   float64\n",
      " 6   lag_2         4414 non-null   float64\n",
      " 7   lag_3         4413 non-null   float64\n",
      " 8   rolling_mean  4413 non-null   float64\n",
      "dtypes: float64(4), int32(4), int64(1)\n",
      "memory usage: 276.0 KB\n"
     ]
    }
   ],
   "source": [
    "df_resampled.info()"
   ]
  },
  {
   "cell_type": "code",
   "execution_count": 11,
   "metadata": {},
   "outputs": [
    {
     "data": {
      "application/vnd.microsoft.datawrangler.viewer.v0+json": {
       "columns": [
        {
         "name": "index",
         "rawType": "object",
         "type": "string"
        },
        {
         "name": "num_orders",
         "rawType": "float64",
         "type": "float"
        },
        {
         "name": "month",
         "rawType": "float64",
         "type": "float"
        },
        {
         "name": "day",
         "rawType": "float64",
         "type": "float"
        },
        {
         "name": "dayofweek",
         "rawType": "float64",
         "type": "float"
        },
        {
         "name": "hour",
         "rawType": "float64",
         "type": "float"
        },
        {
         "name": "lag_1",
         "rawType": "float64",
         "type": "float"
        },
        {
         "name": "lag_2",
         "rawType": "float64",
         "type": "float"
        },
        {
         "name": "lag_3",
         "rawType": "float64",
         "type": "float"
        },
        {
         "name": "rolling_mean",
         "rawType": "float64",
         "type": "float"
        }
       ],
       "conversionMethod": "pd.DataFrame",
       "ref": "4fd0f8bd-83ce-4d66-ac4a-4d47197b99e6",
       "rows": [
        [
         "count",
         "4416.0",
         "4416.0",
         "4416.0",
         "4416.0",
         "4416.0",
         "4415.0",
         "4414.0",
         "4413.0",
         "4413.0"
        ],
        [
         "mean",
         "84.42278079710145",
         "5.505434782608695",
         "15.83695652173913",
         "3.005434782608696",
         "11.5",
         "84.39546998867498",
         "84.36406887177164",
         "84.34715612961703",
         "84.36286728604881"
        ],
        [
         "std",
         "45.023853419354054",
         "1.7133061008081103",
         "8.855229353736858",
         "1.9906843957751645",
         "6.922970447632977",
         "44.992355765671626",
         "44.949043186900965",
         "44.94008844666594",
         "37.98453939589901"
        ],
        [
         "min",
         "0.0",
         "3.0",
         "1.0",
         "0.0",
         "0.0",
         "0.0",
         "0.0",
         "0.0",
         "3.3333333333333335"
        ],
        [
         "25%",
         "54.0",
         "4.0",
         "8.0",
         "1.0",
         "5.75",
         "54.0",
         "54.0",
         "54.0",
         "59.333333333333336"
        ],
        [
         "50%",
         "78.0",
         "5.5",
         "16.0",
         "3.0",
         "11.5",
         "78.0",
         "78.0",
         "78.0",
         "78.66666666666667"
        ],
        [
         "75%",
         "107.0",
         "7.0",
         "23.25",
         "5.0",
         "17.25",
         "107.0",
         "107.0",
         "107.0",
         "104.33333333333333"
        ],
        [
         "max",
         "462.0",
         "8.0",
         "31.0",
         "6.0",
         "23.0",
         "462.0",
         "462.0",
         "462.0",
         "319.6666666666667"
        ]
       ],
       "shape": {
        "columns": 9,
        "rows": 8
       }
      },
      "text/html": [
       "<div>\n",
       "<style scoped>\n",
       "    .dataframe tbody tr th:only-of-type {\n",
       "        vertical-align: middle;\n",
       "    }\n",
       "\n",
       "    .dataframe tbody tr th {\n",
       "        vertical-align: top;\n",
       "    }\n",
       "\n",
       "    .dataframe thead th {\n",
       "        text-align: right;\n",
       "    }\n",
       "</style>\n",
       "<table border=\"1\" class=\"dataframe\">\n",
       "  <thead>\n",
       "    <tr style=\"text-align: right;\">\n",
       "      <th></th>\n",
       "      <th>num_orders</th>\n",
       "      <th>month</th>\n",
       "      <th>day</th>\n",
       "      <th>dayofweek</th>\n",
       "      <th>hour</th>\n",
       "      <th>lag_1</th>\n",
       "      <th>lag_2</th>\n",
       "      <th>lag_3</th>\n",
       "      <th>rolling_mean</th>\n",
       "    </tr>\n",
       "  </thead>\n",
       "  <tbody>\n",
       "    <tr>\n",
       "      <th>count</th>\n",
       "      <td>4416.000000</td>\n",
       "      <td>4416.000000</td>\n",
       "      <td>4416.000000</td>\n",
       "      <td>4416.000000</td>\n",
       "      <td>4416.00000</td>\n",
       "      <td>4415.000000</td>\n",
       "      <td>4414.000000</td>\n",
       "      <td>4413.000000</td>\n",
       "      <td>4413.000000</td>\n",
       "    </tr>\n",
       "    <tr>\n",
       "      <th>mean</th>\n",
       "      <td>84.422781</td>\n",
       "      <td>5.505435</td>\n",
       "      <td>15.836957</td>\n",
       "      <td>3.005435</td>\n",
       "      <td>11.50000</td>\n",
       "      <td>84.395470</td>\n",
       "      <td>84.364069</td>\n",
       "      <td>84.347156</td>\n",
       "      <td>84.362867</td>\n",
       "    </tr>\n",
       "    <tr>\n",
       "      <th>std</th>\n",
       "      <td>45.023853</td>\n",
       "      <td>1.713306</td>\n",
       "      <td>8.855229</td>\n",
       "      <td>1.990684</td>\n",
       "      <td>6.92297</td>\n",
       "      <td>44.992356</td>\n",
       "      <td>44.949043</td>\n",
       "      <td>44.940088</td>\n",
       "      <td>37.984539</td>\n",
       "    </tr>\n",
       "    <tr>\n",
       "      <th>min</th>\n",
       "      <td>0.000000</td>\n",
       "      <td>3.000000</td>\n",
       "      <td>1.000000</td>\n",
       "      <td>0.000000</td>\n",
       "      <td>0.00000</td>\n",
       "      <td>0.000000</td>\n",
       "      <td>0.000000</td>\n",
       "      <td>0.000000</td>\n",
       "      <td>3.333333</td>\n",
       "    </tr>\n",
       "    <tr>\n",
       "      <th>25%</th>\n",
       "      <td>54.000000</td>\n",
       "      <td>4.000000</td>\n",
       "      <td>8.000000</td>\n",
       "      <td>1.000000</td>\n",
       "      <td>5.75000</td>\n",
       "      <td>54.000000</td>\n",
       "      <td>54.000000</td>\n",
       "      <td>54.000000</td>\n",
       "      <td>59.333333</td>\n",
       "    </tr>\n",
       "    <tr>\n",
       "      <th>50%</th>\n",
       "      <td>78.000000</td>\n",
       "      <td>5.500000</td>\n",
       "      <td>16.000000</td>\n",
       "      <td>3.000000</td>\n",
       "      <td>11.50000</td>\n",
       "      <td>78.000000</td>\n",
       "      <td>78.000000</td>\n",
       "      <td>78.000000</td>\n",
       "      <td>78.666667</td>\n",
       "    </tr>\n",
       "    <tr>\n",
       "      <th>75%</th>\n",
       "      <td>107.000000</td>\n",
       "      <td>7.000000</td>\n",
       "      <td>23.250000</td>\n",
       "      <td>5.000000</td>\n",
       "      <td>17.25000</td>\n",
       "      <td>107.000000</td>\n",
       "      <td>107.000000</td>\n",
       "      <td>107.000000</td>\n",
       "      <td>104.333333</td>\n",
       "    </tr>\n",
       "    <tr>\n",
       "      <th>max</th>\n",
       "      <td>462.000000</td>\n",
       "      <td>8.000000</td>\n",
       "      <td>31.000000</td>\n",
       "      <td>6.000000</td>\n",
       "      <td>23.00000</td>\n",
       "      <td>462.000000</td>\n",
       "      <td>462.000000</td>\n",
       "      <td>462.000000</td>\n",
       "      <td>319.666667</td>\n",
       "    </tr>\n",
       "  </tbody>\n",
       "</table>\n",
       "</div>"
      ],
      "text/plain": [
       "        num_orders        month          day    dayofweek        hour  \\\n",
       "count  4416.000000  4416.000000  4416.000000  4416.000000  4416.00000   \n",
       "mean     84.422781     5.505435    15.836957     3.005435    11.50000   \n",
       "std      45.023853     1.713306     8.855229     1.990684     6.92297   \n",
       "min       0.000000     3.000000     1.000000     0.000000     0.00000   \n",
       "25%      54.000000     4.000000     8.000000     1.000000     5.75000   \n",
       "50%      78.000000     5.500000    16.000000     3.000000    11.50000   \n",
       "75%     107.000000     7.000000    23.250000     5.000000    17.25000   \n",
       "max     462.000000     8.000000    31.000000     6.000000    23.00000   \n",
       "\n",
       "             lag_1        lag_2        lag_3  rolling_mean  \n",
       "count  4415.000000  4414.000000  4413.000000   4413.000000  \n",
       "mean     84.395470    84.364069    84.347156     84.362867  \n",
       "std      44.992356    44.949043    44.940088     37.984539  \n",
       "min       0.000000     0.000000     0.000000      3.333333  \n",
       "25%      54.000000    54.000000    54.000000     59.333333  \n",
       "50%      78.000000    78.000000    78.000000     78.666667  \n",
       "75%     107.000000   107.000000   107.000000    104.333333  \n",
       "max     462.000000   462.000000   462.000000    319.666667  "
      ]
     },
     "execution_count": 11,
     "metadata": {},
     "output_type": "execute_result"
    }
   ],
   "source": [
    "df_resampled.describe()"
   ]
  },
  {
   "cell_type": "code",
   "execution_count": 12,
   "metadata": {},
   "outputs": [],
   "source": [
    "df_resampled= df_resampled.dropna()"
   ]
  },
  {
   "cell_type": "code",
   "execution_count": 13,
   "metadata": {},
   "outputs": [],
   "source": [
    "train, test = train_test_split(df_resampled, shuffle = False, test_size= 0.1)\n"
   ]
  },
  {
   "cell_type": "markdown",
   "metadata": {},
   "source": [
    "### Splitting the dataset in training and testing data set. "
   ]
  },
  {
   "cell_type": "code",
   "execution_count": 14,
   "metadata": {},
   "outputs": [
    {
     "data": {
      "text/plain": [
       "num_orders      0\n",
       "month           0\n",
       "day             0\n",
       "dayofweek       0\n",
       "hour            0\n",
       "lag_1           0\n",
       "lag_2           0\n",
       "lag_3           0\n",
       "rolling_mean    0\n",
       "dtype: int64"
      ]
     },
     "execution_count": 14,
     "metadata": {},
     "output_type": "execute_result"
    }
   ],
   "source": [
    "train.isna().sum()\n"
   ]
  },
  {
   "cell_type": "markdown",
   "metadata": {},
   "source": [
    "#### Found some missing data in train dataset. Lag columns has missing data because they do not have no previous information to work with."
   ]
  },
  {
   "cell_type": "code",
   "execution_count": 15,
   "metadata": {},
   "outputs": [
    {
     "data": {
      "application/vnd.microsoft.datawrangler.viewer.v0+json": {
       "columns": [
        {
         "name": "datetime",
         "rawType": "datetime64[ns]",
         "type": "datetime"
        },
        {
         "name": "num_orders",
         "rawType": "int64",
         "type": "integer"
        },
        {
         "name": "month",
         "rawType": "int32",
         "type": "integer"
        },
        {
         "name": "day",
         "rawType": "int32",
         "type": "integer"
        },
        {
         "name": "dayofweek",
         "rawType": "int32",
         "type": "integer"
        },
        {
         "name": "hour",
         "rawType": "int32",
         "type": "integer"
        },
        {
         "name": "lag_1",
         "rawType": "float64",
         "type": "float"
        },
        {
         "name": "lag_2",
         "rawType": "float64",
         "type": "float"
        },
        {
         "name": "lag_3",
         "rawType": "float64",
         "type": "float"
        },
        {
         "name": "rolling_mean",
         "rawType": "float64",
         "type": "float"
        }
       ],
       "conversionMethod": "pd.DataFrame",
       "ref": "d3f9dcfd-6450-44f3-ae33-e7be32ce55c0",
       "rows": [
        [
         "2018-03-01 03:00:00",
         "66",
         "3",
         "1",
         "3",
         "3",
         "71.0",
         "85.0",
         "124.0",
         "93.33333333333333"
        ],
        [
         "2018-03-01 04:00:00",
         "43",
         "3",
         "1",
         "3",
         "4",
         "66.0",
         "71.0",
         "85.0",
         "74.0"
        ],
        [
         "2018-03-01 05:00:00",
         "6",
         "3",
         "1",
         "3",
         "5",
         "43.0",
         "66.0",
         "71.0",
         "60.0"
        ],
        [
         "2018-03-01 06:00:00",
         "12",
         "3",
         "1",
         "3",
         "6",
         "6.0",
         "43.0",
         "66.0",
         "38.333333333333336"
        ],
        [
         "2018-03-01 07:00:00",
         "15",
         "3",
         "1",
         "3",
         "7",
         "12.0",
         "6.0",
         "43.0",
         "20.333333333333332"
        ],
        [
         "2018-03-01 08:00:00",
         "34",
         "3",
         "1",
         "3",
         "8",
         "15.0",
         "12.0",
         "6.0",
         "11.0"
        ],
        [
         "2018-03-01 09:00:00",
         "69",
         "3",
         "1",
         "3",
         "9",
         "34.0",
         "15.0",
         "12.0",
         "20.333333333333332"
        ],
        [
         "2018-03-01 10:00:00",
         "64",
         "3",
         "1",
         "3",
         "10",
         "69.0",
         "34.0",
         "15.0",
         "39.333333333333336"
        ],
        [
         "2018-03-01 11:00:00",
         "96",
         "3",
         "1",
         "3",
         "11",
         "64.0",
         "69.0",
         "34.0",
         "55.666666666666664"
        ],
        [
         "2018-03-01 12:00:00",
         "30",
         "3",
         "1",
         "3",
         "12",
         "96.0",
         "64.0",
         "69.0",
         "76.33333333333333"
        ],
        [
         "2018-03-01 13:00:00",
         "32",
         "3",
         "1",
         "3",
         "13",
         "30.0",
         "96.0",
         "64.0",
         "63.333333333333336"
        ],
        [
         "2018-03-01 14:00:00",
         "48",
         "3",
         "1",
         "3",
         "14",
         "32.0",
         "30.0",
         "96.0",
         "52.666666666666664"
        ],
        [
         "2018-03-01 15:00:00",
         "66",
         "3",
         "1",
         "3",
         "15",
         "48.0",
         "32.0",
         "30.0",
         "36.666666666666664"
        ],
        [
         "2018-03-01 16:00:00",
         "43",
         "3",
         "1",
         "3",
         "16",
         "66.0",
         "48.0",
         "32.0",
         "48.666666666666664"
        ],
        [
         "2018-03-01 17:00:00",
         "44",
         "3",
         "1",
         "3",
         "17",
         "43.0",
         "66.0",
         "48.0",
         "52.333333333333336"
        ],
        [
         "2018-03-01 18:00:00",
         "73",
         "3",
         "1",
         "3",
         "18",
         "44.0",
         "43.0",
         "66.0",
         "51.0"
        ],
        [
         "2018-03-01 19:00:00",
         "45",
         "3",
         "1",
         "3",
         "19",
         "73.0",
         "44.0",
         "43.0",
         "53.333333333333336"
        ],
        [
         "2018-03-01 20:00:00",
         "61",
         "3",
         "1",
         "3",
         "20",
         "45.0",
         "73.0",
         "44.0",
         "54.0"
        ],
        [
         "2018-03-01 21:00:00",
         "66",
         "3",
         "1",
         "3",
         "21",
         "61.0",
         "45.0",
         "73.0",
         "59.666666666666664"
        ],
        [
         "2018-03-01 22:00:00",
         "113",
         "3",
         "1",
         "3",
         "22",
         "66.0",
         "61.0",
         "45.0",
         "57.333333333333336"
        ],
        [
         "2018-03-01 23:00:00",
         "58",
         "3",
         "1",
         "3",
         "23",
         "113.0",
         "66.0",
         "61.0",
         "80.0"
        ],
        [
         "2018-03-02 00:00:00",
         "90",
         "3",
         "2",
         "4",
         "0",
         "58.0",
         "113.0",
         "66.0",
         "79.0"
        ],
        [
         "2018-03-02 01:00:00",
         "120",
         "3",
         "2",
         "4",
         "1",
         "90.0",
         "58.0",
         "113.0",
         "87.0"
        ],
        [
         "2018-03-02 02:00:00",
         "75",
         "3",
         "2",
         "4",
         "2",
         "120.0",
         "90.0",
         "58.0",
         "89.33333333333333"
        ],
        [
         "2018-03-02 03:00:00",
         "64",
         "3",
         "2",
         "4",
         "3",
         "75.0",
         "120.0",
         "90.0",
         "95.0"
        ],
        [
         "2018-03-02 04:00:00",
         "20",
         "3",
         "2",
         "4",
         "4",
         "64.0",
         "75.0",
         "120.0",
         "86.33333333333333"
        ],
        [
         "2018-03-02 05:00:00",
         "11",
         "3",
         "2",
         "4",
         "5",
         "20.0",
         "64.0",
         "75.0",
         "53.0"
        ],
        [
         "2018-03-02 06:00:00",
         "11",
         "3",
         "2",
         "4",
         "6",
         "11.0",
         "20.0",
         "64.0",
         "31.666666666666668"
        ],
        [
         "2018-03-02 07:00:00",
         "7",
         "3",
         "2",
         "4",
         "7",
         "11.0",
         "11.0",
         "20.0",
         "14.0"
        ],
        [
         "2018-03-02 08:00:00",
         "46",
         "3",
         "2",
         "4",
         "8",
         "7.0",
         "11.0",
         "11.0",
         "9.666666666666666"
        ],
        [
         "2018-03-02 09:00:00",
         "45",
         "3",
         "2",
         "4",
         "9",
         "46.0",
         "7.0",
         "11.0",
         "21.333333333333332"
        ],
        [
         "2018-03-02 10:00:00",
         "54",
         "3",
         "2",
         "4",
         "10",
         "45.0",
         "46.0",
         "7.0",
         "32.666666666666664"
        ],
        [
         "2018-03-02 11:00:00",
         "91",
         "3",
         "2",
         "4",
         "11",
         "54.0",
         "45.0",
         "46.0",
         "48.333333333333336"
        ],
        [
         "2018-03-02 12:00:00",
         "36",
         "3",
         "2",
         "4",
         "12",
         "91.0",
         "54.0",
         "45.0",
         "63.333333333333336"
        ],
        [
         "2018-03-02 13:00:00",
         "45",
         "3",
         "2",
         "4",
         "13",
         "36.0",
         "91.0",
         "54.0",
         "60.333333333333336"
        ],
        [
         "2018-03-02 14:00:00",
         "44",
         "3",
         "2",
         "4",
         "14",
         "45.0",
         "36.0",
         "91.0",
         "57.333333333333336"
        ],
        [
         "2018-03-02 15:00:00",
         "59",
         "3",
         "2",
         "4",
         "15",
         "44.0",
         "45.0",
         "36.0",
         "41.666666666666664"
        ],
        [
         "2018-03-02 16:00:00",
         "82",
         "3",
         "2",
         "4",
         "16",
         "59.0",
         "44.0",
         "45.0",
         "49.333333333333336"
        ],
        [
         "2018-03-02 17:00:00",
         "83",
         "3",
         "2",
         "4",
         "17",
         "82.0",
         "59.0",
         "44.0",
         "61.666666666666664"
        ],
        [
         "2018-03-02 18:00:00",
         "89",
         "3",
         "2",
         "4",
         "18",
         "83.0",
         "82.0",
         "59.0",
         "74.66666666666667"
        ],
        [
         "2018-03-02 19:00:00",
         "49",
         "3",
         "2",
         "4",
         "19",
         "89.0",
         "83.0",
         "82.0",
         "84.66666666666667"
        ],
        [
         "2018-03-02 20:00:00",
         "93",
         "3",
         "2",
         "4",
         "20",
         "49.0",
         "89.0",
         "83.0",
         "73.66666666666667"
        ],
        [
         "2018-03-02 21:00:00",
         "101",
         "3",
         "2",
         "4",
         "21",
         "93.0",
         "49.0",
         "89.0",
         "77.0"
        ],
        [
         "2018-03-02 22:00:00",
         "119",
         "3",
         "2",
         "4",
         "22",
         "101.0",
         "93.0",
         "49.0",
         "81.0"
        ],
        [
         "2018-03-02 23:00:00",
         "72",
         "3",
         "2",
         "4",
         "23",
         "119.0",
         "101.0",
         "93.0",
         "104.33333333333333"
        ],
        [
         "2018-03-03 00:00:00",
         "163",
         "3",
         "3",
         "5",
         "0",
         "72.0",
         "119.0",
         "101.0",
         "97.33333333333333"
        ],
        [
         "2018-03-03 01:00:00",
         "108",
         "3",
         "3",
         "5",
         "1",
         "163.0",
         "72.0",
         "119.0",
         "118.0"
        ],
        [
         "2018-03-03 02:00:00",
         "25",
         "3",
         "3",
         "5",
         "2",
         "108.0",
         "163.0",
         "72.0",
         "114.33333333333333"
        ],
        [
         "2018-03-03 03:00:00",
         "64",
         "3",
         "3",
         "5",
         "3",
         "25.0",
         "108.0",
         "163.0",
         "98.66666666666667"
        ],
        [
         "2018-03-03 04:00:00",
         "44",
         "3",
         "3",
         "5",
         "4",
         "64.0",
         "25.0",
         "108.0",
         "65.66666666666667"
        ]
       ],
       "shape": {
        "columns": 9,
        "rows": 3971
       }
      },
      "text/html": [
       "<div>\n",
       "<style scoped>\n",
       "    .dataframe tbody tr th:only-of-type {\n",
       "        vertical-align: middle;\n",
       "    }\n",
       "\n",
       "    .dataframe tbody tr th {\n",
       "        vertical-align: top;\n",
       "    }\n",
       "\n",
       "    .dataframe thead th {\n",
       "        text-align: right;\n",
       "    }\n",
       "</style>\n",
       "<table border=\"1\" class=\"dataframe\">\n",
       "  <thead>\n",
       "    <tr style=\"text-align: right;\">\n",
       "      <th></th>\n",
       "      <th>num_orders</th>\n",
       "      <th>month</th>\n",
       "      <th>day</th>\n",
       "      <th>dayofweek</th>\n",
       "      <th>hour</th>\n",
       "      <th>lag_1</th>\n",
       "      <th>lag_2</th>\n",
       "      <th>lag_3</th>\n",
       "      <th>rolling_mean</th>\n",
       "    </tr>\n",
       "    <tr>\n",
       "      <th>datetime</th>\n",
       "      <th></th>\n",
       "      <th></th>\n",
       "      <th></th>\n",
       "      <th></th>\n",
       "      <th></th>\n",
       "      <th></th>\n",
       "      <th></th>\n",
       "      <th></th>\n",
       "      <th></th>\n",
       "    </tr>\n",
       "  </thead>\n",
       "  <tbody>\n",
       "    <tr>\n",
       "      <th>2018-03-01 03:00:00</th>\n",
       "      <td>66</td>\n",
       "      <td>3</td>\n",
       "      <td>1</td>\n",
       "      <td>3</td>\n",
       "      <td>3</td>\n",
       "      <td>71.0</td>\n",
       "      <td>85.0</td>\n",
       "      <td>124.0</td>\n",
       "      <td>93.333333</td>\n",
       "    </tr>\n",
       "    <tr>\n",
       "      <th>2018-03-01 04:00:00</th>\n",
       "      <td>43</td>\n",
       "      <td>3</td>\n",
       "      <td>1</td>\n",
       "      <td>3</td>\n",
       "      <td>4</td>\n",
       "      <td>66.0</td>\n",
       "      <td>71.0</td>\n",
       "      <td>85.0</td>\n",
       "      <td>74.000000</td>\n",
       "    </tr>\n",
       "    <tr>\n",
       "      <th>2018-03-01 05:00:00</th>\n",
       "      <td>6</td>\n",
       "      <td>3</td>\n",
       "      <td>1</td>\n",
       "      <td>3</td>\n",
       "      <td>5</td>\n",
       "      <td>43.0</td>\n",
       "      <td>66.0</td>\n",
       "      <td>71.0</td>\n",
       "      <td>60.000000</td>\n",
       "    </tr>\n",
       "    <tr>\n",
       "      <th>2018-03-01 06:00:00</th>\n",
       "      <td>12</td>\n",
       "      <td>3</td>\n",
       "      <td>1</td>\n",
       "      <td>3</td>\n",
       "      <td>6</td>\n",
       "      <td>6.0</td>\n",
       "      <td>43.0</td>\n",
       "      <td>66.0</td>\n",
       "      <td>38.333333</td>\n",
       "    </tr>\n",
       "    <tr>\n",
       "      <th>2018-03-01 07:00:00</th>\n",
       "      <td>15</td>\n",
       "      <td>3</td>\n",
       "      <td>1</td>\n",
       "      <td>3</td>\n",
       "      <td>7</td>\n",
       "      <td>12.0</td>\n",
       "      <td>6.0</td>\n",
       "      <td>43.0</td>\n",
       "      <td>20.333333</td>\n",
       "    </tr>\n",
       "    <tr>\n",
       "      <th>...</th>\n",
       "      <td>...</td>\n",
       "      <td>...</td>\n",
       "      <td>...</td>\n",
       "      <td>...</td>\n",
       "      <td>...</td>\n",
       "      <td>...</td>\n",
       "      <td>...</td>\n",
       "      <td>...</td>\n",
       "      <td>...</td>\n",
       "    </tr>\n",
       "    <tr>\n",
       "      <th>2018-08-13 09:00:00</th>\n",
       "      <td>137</td>\n",
       "      <td>8</td>\n",
       "      <td>13</td>\n",
       "      <td>0</td>\n",
       "      <td>9</td>\n",
       "      <td>91.0</td>\n",
       "      <td>39.0</td>\n",
       "      <td>66.0</td>\n",
       "      <td>65.333333</td>\n",
       "    </tr>\n",
       "    <tr>\n",
       "      <th>2018-08-13 10:00:00</th>\n",
       "      <td>156</td>\n",
       "      <td>8</td>\n",
       "      <td>13</td>\n",
       "      <td>0</td>\n",
       "      <td>10</td>\n",
       "      <td>137.0</td>\n",
       "      <td>91.0</td>\n",
       "      <td>39.0</td>\n",
       "      <td>89.000000</td>\n",
       "    </tr>\n",
       "    <tr>\n",
       "      <th>2018-08-13 11:00:00</th>\n",
       "      <td>144</td>\n",
       "      <td>8</td>\n",
       "      <td>13</td>\n",
       "      <td>0</td>\n",
       "      <td>11</td>\n",
       "      <td>156.0</td>\n",
       "      <td>137.0</td>\n",
       "      <td>91.0</td>\n",
       "      <td>128.000000</td>\n",
       "    </tr>\n",
       "    <tr>\n",
       "      <th>2018-08-13 12:00:00</th>\n",
       "      <td>92</td>\n",
       "      <td>8</td>\n",
       "      <td>13</td>\n",
       "      <td>0</td>\n",
       "      <td>12</td>\n",
       "      <td>144.0</td>\n",
       "      <td>156.0</td>\n",
       "      <td>137.0</td>\n",
       "      <td>145.666667</td>\n",
       "    </tr>\n",
       "    <tr>\n",
       "      <th>2018-08-13 13:00:00</th>\n",
       "      <td>119</td>\n",
       "      <td>8</td>\n",
       "      <td>13</td>\n",
       "      <td>0</td>\n",
       "      <td>13</td>\n",
       "      <td>92.0</td>\n",
       "      <td>144.0</td>\n",
       "      <td>156.0</td>\n",
       "      <td>130.666667</td>\n",
       "    </tr>\n",
       "  </tbody>\n",
       "</table>\n",
       "<p>3971 rows × 9 columns</p>\n",
       "</div>"
      ],
      "text/plain": [
       "                     num_orders  month  day  dayofweek  hour  lag_1  lag_2  \\\n",
       "datetime                                                                     \n",
       "2018-03-01 03:00:00          66      3    1          3     3   71.0   85.0   \n",
       "2018-03-01 04:00:00          43      3    1          3     4   66.0   71.0   \n",
       "2018-03-01 05:00:00           6      3    1          3     5   43.0   66.0   \n",
       "2018-03-01 06:00:00          12      3    1          3     6    6.0   43.0   \n",
       "2018-03-01 07:00:00          15      3    1          3     7   12.0    6.0   \n",
       "...                         ...    ...  ...        ...   ...    ...    ...   \n",
       "2018-08-13 09:00:00         137      8   13          0     9   91.0   39.0   \n",
       "2018-08-13 10:00:00         156      8   13          0    10  137.0   91.0   \n",
       "2018-08-13 11:00:00         144      8   13          0    11  156.0  137.0   \n",
       "2018-08-13 12:00:00          92      8   13          0    12  144.0  156.0   \n",
       "2018-08-13 13:00:00         119      8   13          0    13   92.0  144.0   \n",
       "\n",
       "                     lag_3  rolling_mean  \n",
       "datetime                                  \n",
       "2018-03-01 03:00:00  124.0     93.333333  \n",
       "2018-03-01 04:00:00   85.0     74.000000  \n",
       "2018-03-01 05:00:00   71.0     60.000000  \n",
       "2018-03-01 06:00:00   66.0     38.333333  \n",
       "2018-03-01 07:00:00   43.0     20.333333  \n",
       "...                    ...           ...  \n",
       "2018-08-13 09:00:00   66.0     65.333333  \n",
       "2018-08-13 10:00:00   39.0     89.000000  \n",
       "2018-08-13 11:00:00   91.0    128.000000  \n",
       "2018-08-13 12:00:00  137.0    145.666667  \n",
       "2018-08-13 13:00:00  156.0    130.666667  \n",
       "\n",
       "[3971 rows x 9 columns]"
      ]
     },
     "execution_count": 15,
     "metadata": {},
     "output_type": "execute_result"
    }
   ],
   "source": [
    "train.dropna()"
   ]
  },
  {
   "cell_type": "code",
   "execution_count": 16,
   "metadata": {},
   "outputs": [
    {
     "data": {
      "text/plain": [
       "num_orders      0\n",
       "month           0\n",
       "day             0\n",
       "dayofweek       0\n",
       "hour            0\n",
       "lag_1           0\n",
       "lag_2           0\n",
       "lag_3           0\n",
       "rolling_mean    0\n",
       "dtype: int64"
      ]
     },
     "execution_count": 16,
     "metadata": {},
     "output_type": "execute_result"
    }
   ],
   "source": [
    "test.isna().sum()"
   ]
  },
  {
   "cell_type": "code",
   "execution_count": 17,
   "metadata": {},
   "outputs": [],
   "source": [
    "features_train = train.drop(['num_orders'], axis=1)\n",
    "target_train = train['num_orders']\n",
    "\n",
    "features_test = test.drop(['num_orders'], axis=1)\n",
    "target_test = test['num_orders']\n"
   ]
  },
  {
   "cell_type": "code",
   "execution_count": 18,
   "metadata": {},
   "outputs": [
    {
     "name": "stdout",
     "output_type": "stream",
     "text": [
      "(3971, 8)\n",
      "(3971,)\n",
      "(442, 8)\n",
      "(442,)\n"
     ]
    }
   ],
   "source": [
    "print(features_train.shape)\n",
    "print(target_train.shape)\n",
    "\n",
    "print(features_test.shape)\n",
    "print(target_test.shape)\n"
   ]
  },
  {
   "cell_type": "code",
   "execution_count": 19,
   "metadata": {},
   "outputs": [],
   "source": [
    "# Define the columns\n",
    "numeric =['lag_1','lag_2','lag_3','rolling_mean']            \n",
    "\n",
    "# Create a column transformer\n",
    "preprocessor = ColumnTransformer(\n",
    "    transformers=[\n",
    "        ('num', StandardScaler(), numeric)])\n",
    "\n",
    "features_train_transformed = preprocessor.fit_transform(features_train)\n",
    "features_test_transformed = preprocessor.transform(features_test)"
   ]
  },
  {
   "cell_type": "markdown",
   "metadata": {},
   "source": [
    "### Model training"
   ]
  },
  {
   "cell_type": "code",
   "execution_count": 20,
   "metadata": {},
   "outputs": [
    {
     "name": "stdout",
     "output_type": "stream",
     "text": [
      " RMSE of DecisionTree Model for training set: 21.34185724908328\n"
     ]
    }
   ],
   "source": [
    "model_dt = DecisionTreeRegressor(max_depth = 12, random_state =1234)\n",
    "model_dt.fit(features_train_transformed, target_train)\n",
    "pred_train= model_dt.predict(features_train_transformed)\n",
    "rmse = mean_squared_error(pred_train, target_train)**0.5\n",
    "\n",
    "print(f' RMSE of DecisionTree Model for training set:', rmse)\n"
   ]
  },
  {
   "cell_type": "markdown",
   "metadata": {},
   "source": [
    "#### The DecisionTree model has RMSE of 21.34 on training dataset."
   ]
  },
  {
   "cell_type": "code",
   "execution_count": 21,
   "metadata": {},
   "outputs": [
    {
     "name": "stdout",
     "output_type": "stream",
     "text": [
      "RMSE for the training set of RandomForest Model: 22.55867513543693\n"
     ]
    }
   ],
   "source": [
    "model_rf = RandomForestRegressor(max_depth=6, n_estimators= 100, random_state=1234)\n",
    "model_rf.fit(features_train, target_train)\n",
    "pred_train= model_rf.predict(features_train)\n",
    "rmse = mean_squared_error(pred_train, target_train)**0.5\n",
    "\n",
    "print(f'RMSE for the training set of RandomForest Model:', rmse)"
   ]
  },
  {
   "cell_type": "markdown",
   "metadata": {},
   "source": [
    "#### The RandomForest model has RSME of 22.55 on training dataset higher than DecisionTree model."
   ]
  },
  {
   "cell_type": "code",
   "execution_count": 22,
   "metadata": {},
   "outputs": [
    {
     "name": "stdout",
     "output_type": "stream",
     "text": [
      "RMSE for the training set of LinearRegression Model: 30.562437475482493\n"
     ]
    }
   ],
   "source": [
    "model = LinearRegression()\n",
    "model.fit(features_train,target_train)\n",
    "pred_train = model.predict(features_train)\n",
    "rmse = mean_squared_error(pred_train, target_train)**0.5\n",
    "\n",
    "print(f'RMSE for the training set of LinearRegression Model:', rmse)"
   ]
  },
  {
   "cell_type": "markdown",
   "metadata": {},
   "source": [
    "#### The LinearRegression model has highest RSME of 30.56 on training dataset."
   ]
  },
  {
   "cell_type": "code",
   "execution_count": 23,
   "metadata": {},
   "outputs": [
    {
     "name": "stdout",
     "output_type": "stream",
     "text": [
      "[LightGBM] [Info] Auto-choosing col-wise multi-threading, the overhead of testing was 0.000305 seconds.\n",
      "You can set `force_col_wise=true` to remove the overhead.\n",
      "[LightGBM] [Info] Total Bins 895\n",
      "[LightGBM] [Info] Number of data points in the train set: 3971, number of used features: 8\n",
      "[LightGBM] [Info] Start training from score 78.279275\n"
     ]
    },
    {
     "name": "stderr",
     "output_type": "stream",
     "text": [
      "c:\\Users\\Sohin\\anaconda3\\Lib\\site-packages\\joblib\\externals\\loky\\backend\\context.py:136: UserWarning: Could not find the number of physical cores for the following reason:\n",
      "[WinError 2] The system cannot find the file specified\n",
      "Returning the number of logical cores instead. You can silence this warning by setting LOKY_MAX_CPU_COUNT to the number of cores you want to use.\n",
      "  warnings.warn(\n",
      "  File \"c:\\Users\\Sohin\\anaconda3\\Lib\\site-packages\\joblib\\externals\\loky\\backend\\context.py\", line 257, in _count_physical_cores\n",
      "    cpu_info = subprocess.run(\n",
      "               ^^^^^^^^^^^^^^^\n",
      "  File \"c:\\Users\\Sohin\\anaconda3\\Lib\\subprocess.py\", line 548, in run\n",
      "    with Popen(*popenargs, **kwargs) as process:\n",
      "         ^^^^^^^^^^^^^^^^^^^^^^^^^^^\n",
      "  File \"c:\\Users\\Sohin\\anaconda3\\Lib\\subprocess.py\", line 1026, in __init__\n",
      "    self._execute_child(args, executable, preexec_fn, close_fds,\n",
      "  File \"c:\\Users\\Sohin\\anaconda3\\Lib\\subprocess.py\", line 1538, in _execute_child\n",
      "    hp, ht, pid, tid = _winapi.CreateProcess(executable, args,\n",
      "                       ^^^^^^^^^^^^^^^^^^^^^^^^^^^^^^^^^^^^^^^\n"
     ]
    },
    {
     "name": "stdout",
     "output_type": "stream",
     "text": [
      "RMSE for the training set of LightGBMRegressor Model: 13.16657098224225\n"
     ]
    }
   ],
   "source": [
    "model_lgb = LGBMRegressor(learning_rate =0.1, num_leaves =50)\n",
    "model_lgb.fit(features_train, target_train)\n",
    "pred_train = model_lgb.predict(features_train)\n",
    "rmse = mean_squared_error(pred_train, target_train)**0.5\n",
    "\n",
    "print(f'RMSE for the training set of LightGBMRegressor Model:', rmse)"
   ]
  },
  {
   "cell_type": "markdown",
   "metadata": {},
   "source": [
    "#### The LightGBMRegressor model has RMSE  of 13.16 on training dataset."
   ]
  },
  {
   "cell_type": "code",
   "execution_count": 24,
   "metadata": {},
   "outputs": [
    {
     "name": "stdout",
     "output_type": "stream",
     "text": [
      "RMSE for the training set of XGBMRegressor Model: 13.216328631486311\n"
     ]
    }
   ],
   "source": [
    "model_xgb = XGBRegressor(eta= 0.1, seed= 123)\n",
    "model_xgb.fit(features_train, target_train)\n",
    "pred_train = model_xgb.predict(features_train)\n",
    "rmse = mean_squared_error(pred_train, target_train)**0.5\n",
    "\n",
    "print(f'RMSE for the training set of XGBMRegressor Model:', rmse)"
   ]
  },
  {
   "cell_type": "markdown",
   "metadata": {},
   "source": [
    "#### The XGBRegressor model has RSME of 13.24 on training dataset similar to LightGBM model."
   ]
  },
  {
   "cell_type": "code",
   "execution_count": 25,
   "metadata": {},
   "outputs": [
    {
     "name": "stdout",
     "output_type": "stream",
     "text": [
      "[LightGBM] [Info] Auto-choosing col-wise multi-threading, the overhead of testing was 0.000205 seconds.\n",
      "You can set `force_col_wise=true` to remove the overhead.\n",
      "[LightGBM] [Info] Total Bins 895\n",
      "[LightGBM] [Info] Number of data points in the train set: 3971, number of used features: 8\n",
      "[LightGBM] [Info] Start training from score 78.279275\n",
      "Best Parameters: {'learning_rate': 0.1, 'max_depth': 10, 'n_estimators': 100, 'num_leaves': 10}\n",
      "Best RMSE: 25.493622027431012\n"
     ]
    }
   ],
   "source": [
    "from sklearn.model_selection import TimeSeriesSplit, GridSearchCV\n",
    "model_lgb = LGBMRegressor()\n",
    "# Define the hyperparameters and their possible values\n",
    "param_grid = {\n",
    "    'learning_rate': [0.1, 0.2],\n",
    "    'max_depth': [10],\n",
    "    'n_estimators':[100],\n",
    "    'num_leaves':[10, 20, 50],  \n",
    "\n",
    "}\n",
    "\n",
    "# Create a TimeSeriesSplit object\n",
    "tscv = TimeSeriesSplit(n_splits=5)\n",
    "\n",
    "# Create a GridSearchCV object with TimeSeriesSplit\n",
    "grid_search = GridSearchCV(estimator=model_lgb, param_grid=param_grid,\n",
    "                           cv=tscv, n_jobs=-1, scoring='neg_mean_squared_error')\n",
    "\n",
    "# Fit to the data\n",
    "grid_search.fit(features_train, target_train)\n",
    "\n",
    "# Print the best parameters and RMSE\n",
    "best_params = grid_search.best_params_\n",
    "best_rmse = np.sqrt(-grid_search.best_score_)\n",
    "\n",
    "print(f'Best Parameters: {best_params}')\n",
    "print(f'Best RMSE: {best_rmse}')\n"
   ]
  },
  {
   "cell_type": "markdown",
   "metadata": {},
   "source": [
    "#### We can see that the best RMSE derived from TimeSeriesSplit is more than the earlier model training.The reason can be TimeSeriesSplit prioritizes generalization: It ensures that training happens on earlier data while validation occurs on later data, respecting the temporal order. This setup often sacrifices training accuracy (higher RMSE) in favor of producing a model that better predicts future data. In contrast, traditional cross-validation might allow leakage of future information, artificially lowering RMSE."
   ]
  },
  {
   "cell_type": "code",
   "execution_count": 26,
   "metadata": {},
   "outputs": [
    {
     "name": "stdout",
     "output_type": "stream",
     "text": [
      "[LightGBM] [Info] Auto-choosing col-wise multi-threading, the overhead of testing was 0.000174 seconds.\n",
      "You can set `force_col_wise=true` to remove the overhead.\n",
      "[LightGBM] [Info] Total Bins 895\n",
      "[LightGBM] [Info] Number of data points in the train set: 3971, number of used features: 8\n",
      "[LightGBM] [Info] Start training from score 78.279275\n",
      "RMSE for the testing set of LGBMRegressor Model: 44.620277730206915\n"
     ]
    }
   ],
   "source": [
    "best_model = LGBMRegressor(max_depth= 10, learning_rate= 0.1, n_estimators= 100, num_leaves= 10)\n",
    "best_model.fit(features_train, target_train)\n",
    "pred_test = best_model.predict(features_test)\n",
    "rmse = mean_squared_error(pred_test, target_test)**0.5\n",
    "\n",
    "print(f'RMSE for the testing set of LGBMRegressor Model:', rmse)"
   ]
  },
  {
   "cell_type": "markdown",
   "metadata": {},
   "source": [
    "#### The best model during training dataset was acquired by LGBMRegressor model. The best model was tested on testing dataset  and produced RMSE  of 44.62. The testing dataset has higher RMSE than training data set it means that the model is overfitted which means that the model was trained very specific to training dataset."
   ]
  },
  {
   "cell_type": "markdown",
   "metadata": {},
   "source": [
    "#### "
   ]
  },
  {
   "cell_type": "markdown",
   "metadata": {},
   "source": [
    "## Conclusion:\n",
    "\n",
    "With help of this project Sweet Lift company will be successful in creating a machine learning model predict popular time of the day when there is high demand of taxi rides. The LGBMRegressor model is best model with the lowest RMSE of 44.62 on testing dataset. It performs well with non-linear relationships and high-dimensional datasets. LightGBM provides a clear ranking of feature importance, which aids interpretability.The other model were used for model training for comparision purposes were DecisionTreeRegressor, RandomForestRegressor and XGBoostRegressor. The DecisionTreeRegressor model has a RMSE of 21.34.The RandomForestRegressor model has RMSE of 22.55  .The LightGBMRegressor model has RMSE similar to XGBRegressor. Linear Regression has the worst RMSE.\n",
    "\n",
    "This project was created by resampling the data by hourly basis and creating features like hour, day, day of week and month. Missing values were dropped from train data. dataset was split into training and test dataset and eventually trained the model.\n"
   ]
  }
 ],
 "metadata": {
  "ExecuteTimeLog": [
   {
    "duration": 7,
    "start_time": "2025-03-05T11:31:54.838Z"
   },
   {
    "duration": 3029,
    "start_time": "2025-03-05T16:10:47.538Z"
   },
   {
    "duration": 0,
    "start_time": "2025-03-05T16:10:50.570Z"
   },
   {
    "duration": 0,
    "start_time": "2025-03-05T16:10:50.571Z"
   },
   {
    "duration": 0,
    "start_time": "2025-03-05T16:10:50.573Z"
   },
   {
    "duration": 0,
    "start_time": "2025-03-05T16:10:50.575Z"
   },
   {
    "duration": 0,
    "start_time": "2025-03-05T16:10:50.586Z"
   },
   {
    "duration": 0,
    "start_time": "2025-03-05T16:10:50.587Z"
   },
   {
    "duration": 0,
    "start_time": "2025-03-05T16:10:50.589Z"
   },
   {
    "duration": 0,
    "start_time": "2025-03-05T16:10:50.591Z"
   },
   {
    "duration": 0,
    "start_time": "2025-03-05T16:10:50.592Z"
   },
   {
    "duration": 0,
    "start_time": "2025-03-05T16:10:50.593Z"
   },
   {
    "duration": 0,
    "start_time": "2025-03-05T16:10:50.595Z"
   },
   {
    "duration": 0,
    "start_time": "2025-03-05T16:10:50.596Z"
   },
   {
    "duration": 0,
    "start_time": "2025-03-05T16:10:50.597Z"
   },
   {
    "duration": 0,
    "start_time": "2025-03-05T16:10:50.598Z"
   },
   {
    "duration": 0,
    "start_time": "2025-03-05T16:10:50.599Z"
   },
   {
    "duration": 0,
    "start_time": "2025-03-05T16:10:50.600Z"
   },
   {
    "duration": 0,
    "start_time": "2025-03-05T16:10:50.601Z"
   },
   {
    "duration": 0,
    "start_time": "2025-03-05T16:10:50.602Z"
   },
   {
    "duration": 15,
    "start_time": "2025-03-05T16:12:14.415Z"
   },
   {
    "duration": 16,
    "start_time": "2025-03-05T16:13:13.303Z"
   },
   {
    "duration": 318,
    "start_time": "2025-03-05T16:13:57.033Z"
   },
   {
    "duration": 34,
    "start_time": "2025-03-05T16:14:30.570Z"
   },
   {
    "duration": 4,
    "start_time": "2025-03-05T16:14:41.224Z"
   },
   {
    "duration": 25,
    "start_time": "2025-03-05T16:14:55.507Z"
   },
   {
    "duration": 5,
    "start_time": "2025-03-05T16:14:58.371Z"
   },
   {
    "duration": 20,
    "start_time": "2025-03-05T16:15:00.135Z"
   },
   {
    "duration": 24,
    "start_time": "2025-03-05T16:15:19.914Z"
   },
   {
    "duration": 23,
    "start_time": "2025-03-05T16:15:21.783Z"
   },
   {
    "duration": 26,
    "start_time": "2025-03-05T16:15:23.818Z"
   },
   {
    "duration": 5,
    "start_time": "2025-03-05T16:15:25.725Z"
   },
   {
    "duration": 142,
    "start_time": "2025-03-05T16:15:27.612Z"
   },
   {
    "duration": 180,
    "start_time": "2025-03-05T16:16:45.727Z"
   },
   {
    "duration": 125,
    "start_time": "2025-03-05T16:19:05.496Z"
   },
   {
    "duration": 208,
    "start_time": "2025-03-05T16:19:18.980Z"
   },
   {
    "duration": 170,
    "start_time": "2025-03-05T16:20:09.276Z"
   },
   {
    "duration": 146,
    "start_time": "2025-03-05T16:20:33.101Z"
   },
   {
    "duration": 124,
    "start_time": "2025-03-05T16:20:42.651Z"
   },
   {
    "duration": 130,
    "start_time": "2025-03-05T16:21:12.633Z"
   },
   {
    "duration": 113,
    "start_time": "2025-03-05T16:21:24.508Z"
   },
   {
    "duration": 335,
    "start_time": "2025-03-05T16:23:00.639Z"
   },
   {
    "duration": 418,
    "start_time": "2025-03-05T16:24:10.698Z"
   },
   {
    "duration": 5,
    "start_time": "2025-03-05T16:24:14.489Z"
   },
   {
    "duration": 12,
    "start_time": "2025-03-05T16:24:16.226Z"
   },
   {
    "duration": 422,
    "start_time": "2025-03-05T16:24:25.272Z"
   },
   {
    "duration": 347,
    "start_time": "2025-03-05T16:25:52.192Z"
   },
   {
    "duration": 317,
    "start_time": "2025-03-05T16:26:19.103Z"
   },
   {
    "duration": 575,
    "start_time": "2025-03-05T16:32:04.890Z"
   },
   {
    "duration": 1045,
    "start_time": "2025-03-05T16:32:24.751Z"
   },
   {
    "duration": 26,
    "start_time": "2025-03-05T16:32:25.798Z"
   },
   {
    "duration": 25,
    "start_time": "2025-03-05T16:32:25.826Z"
   },
   {
    "duration": 5,
    "start_time": "2025-03-05T16:32:25.853Z"
   },
   {
    "duration": 197,
    "start_time": "2025-03-05T16:32:25.860Z"
   },
   {
    "duration": 444,
    "start_time": "2025-03-05T16:32:26.059Z"
   },
   {
    "duration": 402,
    "start_time": "2025-03-05T16:32:26.505Z"
   },
   {
    "duration": 15,
    "start_time": "2025-03-05T16:32:26.909Z"
   },
   {
    "duration": 4,
    "start_time": "2025-03-05T16:32:26.925Z"
   },
   {
    "duration": 5,
    "start_time": "2025-03-05T16:32:26.932Z"
   },
   {
    "duration": 14,
    "start_time": "2025-03-05T16:32:26.938Z"
   },
   {
    "duration": 34,
    "start_time": "2025-03-05T16:32:26.954Z"
   },
   {
    "duration": 4,
    "start_time": "2025-03-05T16:32:26.990Z"
   },
   {
    "duration": 4,
    "start_time": "2025-03-05T16:32:26.996Z"
   },
   {
    "duration": 417,
    "start_time": "2025-03-05T16:32:27.002Z"
   },
   {
    "duration": 0,
    "start_time": "2025-03-05T16:32:27.421Z"
   },
   {
    "duration": 0,
    "start_time": "2025-03-05T16:32:27.421Z"
   },
   {
    "duration": 0,
    "start_time": "2025-03-05T16:32:27.423Z"
   },
   {
    "duration": 637,
    "start_time": "2025-03-05T16:33:14.434Z"
   },
   {
    "duration": 3,
    "start_time": "2025-03-05T16:33:20.940Z"
   },
   {
    "duration": 20,
    "start_time": "2025-03-05T16:33:24.511Z"
   },
   {
    "duration": 309,
    "start_time": "2025-03-05T16:33:28.597Z"
   },
   {
    "duration": 1043,
    "start_time": "2025-03-05T16:33:38.598Z"
   },
   {
    "duration": 24,
    "start_time": "2025-03-05T16:33:39.644Z"
   },
   {
    "duration": 28,
    "start_time": "2025-03-05T16:33:39.670Z"
   },
   {
    "duration": 4,
    "start_time": "2025-03-05T16:33:39.700Z"
   },
   {
    "duration": 180,
    "start_time": "2025-03-05T16:33:39.706Z"
   },
   {
    "duration": 435,
    "start_time": "2025-03-05T16:33:39.888Z"
   },
   {
    "duration": 417,
    "start_time": "2025-03-05T16:33:40.325Z"
   },
   {
    "duration": 16,
    "start_time": "2025-03-05T16:33:40.744Z"
   },
   {
    "duration": 4,
    "start_time": "2025-03-05T16:33:40.762Z"
   },
   {
    "duration": 21,
    "start_time": "2025-03-05T16:33:40.768Z"
   },
   {
    "duration": 14,
    "start_time": "2025-03-05T16:33:40.791Z"
   },
   {
    "duration": 5,
    "start_time": "2025-03-05T16:33:40.807Z"
   },
   {
    "duration": 4,
    "start_time": "2025-03-05T16:33:40.813Z"
   },
   {
    "duration": 4,
    "start_time": "2025-03-05T16:33:40.819Z"
   },
   {
    "duration": 417,
    "start_time": "2025-03-05T16:33:40.824Z"
   },
   {
    "duration": 0,
    "start_time": "2025-03-05T16:33:41.244Z"
   },
   {
    "duration": 0,
    "start_time": "2025-03-05T16:33:41.245Z"
   },
   {
    "duration": 0,
    "start_time": "2025-03-05T16:33:41.247Z"
   },
   {
    "duration": 664,
    "start_time": "2025-03-05T16:34:21.061Z"
   },
   {
    "duration": 4,
    "start_time": "2025-03-05T16:34:47.015Z"
   },
   {
    "duration": 23,
    "start_time": "2025-03-05T16:34:47.022Z"
   },
   {
    "duration": 24,
    "start_time": "2025-03-05T16:34:47.047Z"
   },
   {
    "duration": 5,
    "start_time": "2025-03-05T16:34:47.073Z"
   },
   {
    "duration": 168,
    "start_time": "2025-03-05T16:34:47.080Z"
   },
   {
    "duration": 553,
    "start_time": "2025-03-05T16:35:00.995Z"
   },
   {
    "duration": 543,
    "start_time": "2025-03-05T16:36:19.079Z"
   },
   {
    "duration": 541,
    "start_time": "2025-03-05T16:36:39.896Z"
   },
   {
    "duration": 511,
    "start_time": "2025-03-05T16:40:26.022Z"
   },
   {
    "duration": 90,
    "start_time": "2025-03-05T16:40:57.473Z"
   },
   {
    "duration": 50,
    "start_time": "2025-03-05T16:41:13.077Z"
   },
   {
    "duration": 657,
    "start_time": "2025-03-05T16:41:20.154Z"
   },
   {
    "duration": 45,
    "start_time": "2025-03-05T16:41:36.696Z"
   },
   {
    "duration": 524,
    "start_time": "2025-03-05T16:41:49.191Z"
   },
   {
    "duration": 533,
    "start_time": "2025-03-05T16:43:45.771Z"
   },
   {
    "duration": 52,
    "start_time": "2025-03-05T16:44:46.714Z"
   },
   {
    "duration": 1103,
    "start_time": "2025-03-05T16:45:03.495Z"
   },
   {
    "duration": 25,
    "start_time": "2025-03-05T16:45:04.600Z"
   },
   {
    "duration": 24,
    "start_time": "2025-03-05T16:45:04.627Z"
   },
   {
    "duration": 5,
    "start_time": "2025-03-05T16:45:04.654Z"
   },
   {
    "duration": 581,
    "start_time": "2025-03-05T16:45:04.662Z"
   },
   {
    "duration": 503,
    "start_time": "2025-03-05T16:45:05.245Z"
   },
   {
    "duration": 677,
    "start_time": "2025-03-05T16:45:05.750Z"
   },
   {
    "duration": 0,
    "start_time": "2025-03-05T16:45:06.430Z"
   },
   {
    "duration": 0,
    "start_time": "2025-03-05T16:45:06.431Z"
   },
   {
    "duration": 0,
    "start_time": "2025-03-05T16:45:06.432Z"
   },
   {
    "duration": 0,
    "start_time": "2025-03-05T16:45:06.433Z"
   },
   {
    "duration": 0,
    "start_time": "2025-03-05T16:45:06.434Z"
   },
   {
    "duration": 0,
    "start_time": "2025-03-05T16:45:06.435Z"
   },
   {
    "duration": 0,
    "start_time": "2025-03-05T16:45:06.436Z"
   },
   {
    "duration": 0,
    "start_time": "2025-03-05T16:45:06.438Z"
   },
   {
    "duration": 0,
    "start_time": "2025-03-05T16:45:06.439Z"
   },
   {
    "duration": 0,
    "start_time": "2025-03-05T16:45:06.440Z"
   },
   {
    "duration": 1,
    "start_time": "2025-03-05T16:45:06.440Z"
   },
   {
    "duration": 0,
    "start_time": "2025-03-05T16:45:06.442Z"
   },
   {
    "duration": 329,
    "start_time": "2025-03-05T16:46:46.318Z"
   },
   {
    "duration": 150,
    "start_time": "2025-03-05T16:47:44.403Z"
   },
   {
    "duration": 7,
    "start_time": "2025-03-05T16:58:13.962Z"
   },
   {
    "duration": 267,
    "start_time": "2025-03-05T16:58:25.384Z"
   },
   {
    "duration": 244,
    "start_time": "2025-03-05T16:58:46.409Z"
   },
   {
    "duration": 260,
    "start_time": "2025-03-05T16:58:49.824Z"
   },
   {
    "duration": 245,
    "start_time": "2025-03-05T16:59:08.572Z"
   },
   {
    "duration": 1030,
    "start_time": "2025-03-05T16:59:18.680Z"
   },
   {
    "duration": 25,
    "start_time": "2025-03-05T16:59:19.713Z"
   },
   {
    "duration": 22,
    "start_time": "2025-03-05T16:59:19.740Z"
   },
   {
    "duration": 4,
    "start_time": "2025-03-05T16:59:19.765Z"
   },
   {
    "duration": 557,
    "start_time": "2025-03-05T16:59:19.786Z"
   },
   {
    "duration": 525,
    "start_time": "2025-03-05T16:59:20.345Z"
   },
   {
    "duration": 661,
    "start_time": "2025-03-05T16:59:20.871Z"
   },
   {
    "duration": 0,
    "start_time": "2025-03-05T16:59:21.534Z"
   },
   {
    "duration": 0,
    "start_time": "2025-03-05T16:59:21.536Z"
   },
   {
    "duration": 0,
    "start_time": "2025-03-05T16:59:21.537Z"
   },
   {
    "duration": 0,
    "start_time": "2025-03-05T16:59:21.539Z"
   },
   {
    "duration": 0,
    "start_time": "2025-03-05T16:59:21.540Z"
   },
   {
    "duration": 0,
    "start_time": "2025-03-05T16:59:21.542Z"
   },
   {
    "duration": 0,
    "start_time": "2025-03-05T16:59:21.543Z"
   },
   {
    "duration": 1,
    "start_time": "2025-03-05T16:59:21.544Z"
   },
   {
    "duration": 0,
    "start_time": "2025-03-05T16:59:21.546Z"
   },
   {
    "duration": 0,
    "start_time": "2025-03-05T16:59:21.547Z"
   },
   {
    "duration": 0,
    "start_time": "2025-03-05T16:59:21.549Z"
   },
   {
    "duration": 0,
    "start_time": "2025-03-05T16:59:21.551Z"
   },
   {
    "duration": 0,
    "start_time": "2025-03-05T16:59:21.552Z"
   },
   {
    "duration": 3,
    "start_time": "2025-03-05T17:21:13.125Z"
   },
   {
    "duration": 23,
    "start_time": "2025-03-05T17:21:13.131Z"
   },
   {
    "duration": 36,
    "start_time": "2025-03-05T17:21:13.159Z"
   },
   {
    "duration": 4,
    "start_time": "2025-03-05T17:21:13.197Z"
   },
   {
    "duration": 633,
    "start_time": "2025-03-05T17:21:13.204Z"
   },
   {
    "duration": 531,
    "start_time": "2025-03-05T17:21:13.839Z"
   },
   {
    "duration": 53,
    "start_time": "2025-03-05T17:21:14.373Z"
   },
   {
    "duration": 46,
    "start_time": "2025-03-05T17:23:35.764Z"
   },
   {
    "duration": 45,
    "start_time": "2025-03-05T17:25:09.308Z"
   },
   {
    "duration": 4,
    "start_time": "2025-03-05T17:25:34.095Z"
   },
   {
    "duration": 22,
    "start_time": "2025-03-05T17:25:34.100Z"
   },
   {
    "duration": 26,
    "start_time": "2025-03-05T17:25:34.124Z"
   },
   {
    "duration": 5,
    "start_time": "2025-03-05T17:25:34.152Z"
   },
   {
    "duration": 543,
    "start_time": "2025-03-05T17:25:34.159Z"
   },
   {
    "duration": 527,
    "start_time": "2025-03-05T17:25:34.704Z"
   },
   {
    "duration": 45,
    "start_time": "2025-03-05T17:25:48.935Z"
   },
   {
    "duration": 532,
    "start_time": "2025-03-05T17:27:06.205Z"
   },
   {
    "duration": 185,
    "start_time": "2025-03-05T17:27:20.061Z"
   },
   {
    "duration": 187,
    "start_time": "2025-03-05T17:27:37.048Z"
   },
   {
    "duration": 329,
    "start_time": "2025-03-05T17:27:43.896Z"
   },
   {
    "duration": 179,
    "start_time": "2025-03-05T17:27:54.539Z"
   },
   {
    "duration": 283,
    "start_time": "2025-03-05T17:28:49.481Z"
   },
   {
    "duration": 16,
    "start_time": "2025-03-05T17:29:13.169Z"
   },
   {
    "duration": 4,
    "start_time": "2025-03-05T17:29:15.437Z"
   },
   {
    "duration": 193,
    "start_time": "2025-03-05T17:29:29.138Z"
   },
   {
    "duration": 1022,
    "start_time": "2025-03-05T17:29:36.405Z"
   },
   {
    "duration": 24,
    "start_time": "2025-03-05T17:29:37.430Z"
   },
   {
    "duration": 32,
    "start_time": "2025-03-05T17:29:37.456Z"
   },
   {
    "duration": 4,
    "start_time": "2025-03-05T17:29:37.490Z"
   },
   {
    "duration": 570,
    "start_time": "2025-03-05T17:29:37.497Z"
   },
   {
    "duration": 554,
    "start_time": "2025-03-05T17:29:38.069Z"
   },
   {
    "duration": 502,
    "start_time": "2025-03-05T17:29:38.625Z"
   },
   {
    "duration": 359,
    "start_time": "2025-03-05T17:29:39.129Z"
   },
   {
    "duration": 15,
    "start_time": "2025-03-05T17:29:39.490Z"
   },
   {
    "duration": 3,
    "start_time": "2025-03-05T17:29:39.507Z"
   },
   {
    "duration": 5,
    "start_time": "2025-03-05T17:29:39.512Z"
   },
   {
    "duration": 14,
    "start_time": "2025-03-05T17:29:39.520Z"
   },
   {
    "duration": 5,
    "start_time": "2025-03-05T17:29:39.536Z"
   },
   {
    "duration": 4,
    "start_time": "2025-03-05T17:29:39.545Z"
   },
   {
    "duration": 3,
    "start_time": "2025-03-05T17:29:39.587Z"
   },
   {
    "duration": 399,
    "start_time": "2025-03-05T17:29:39.592Z"
   },
   {
    "duration": 0,
    "start_time": "2025-03-05T17:29:39.993Z"
   },
   {
    "duration": 0,
    "start_time": "2025-03-05T17:29:39.994Z"
   },
   {
    "duration": 0,
    "start_time": "2025-03-05T17:29:39.995Z"
   },
   {
    "duration": 69,
    "start_time": "2025-03-05T17:32:05.728Z"
   },
   {
    "duration": 184,
    "start_time": "2025-03-05T17:32:37.134Z"
   },
   {
    "duration": 85,
    "start_time": "2025-03-05T17:35:05.311Z"
   },
   {
    "duration": 41,
    "start_time": "2025-03-05T17:35:25.251Z"
   },
   {
    "duration": 434,
    "start_time": "2025-03-05T17:35:27.253Z"
   },
   {
    "duration": 75,
    "start_time": "2025-03-05T17:35:33.283Z"
   },
   {
    "duration": 69,
    "start_time": "2025-03-05T17:35:55.860Z"
   },
   {
    "duration": 68,
    "start_time": "2025-03-05T17:36:09.090Z"
   },
   {
    "duration": 1068,
    "start_time": "2025-03-05T17:36:36.824Z"
   },
   {
    "duration": 25,
    "start_time": "2025-03-05T17:36:37.894Z"
   },
   {
    "duration": 24,
    "start_time": "2025-03-05T17:36:37.920Z"
   },
   {
    "duration": 5,
    "start_time": "2025-03-05T17:36:37.947Z"
   },
   {
    "duration": 602,
    "start_time": "2025-03-05T17:36:37.953Z"
   },
   {
    "duration": 503,
    "start_time": "2025-03-05T17:36:38.557Z"
   },
   {
    "duration": 584,
    "start_time": "2025-03-05T17:36:39.063Z"
   },
   {
    "duration": 373,
    "start_time": "2025-03-05T17:36:39.650Z"
   },
   {
    "duration": 15,
    "start_time": "2025-03-05T17:36:40.025Z"
   },
   {
    "duration": 4,
    "start_time": "2025-03-05T17:36:40.043Z"
   },
   {
    "duration": 6,
    "start_time": "2025-03-05T17:36:40.049Z"
   },
   {
    "duration": 39,
    "start_time": "2025-03-05T17:36:40.057Z"
   },
   {
    "duration": 5,
    "start_time": "2025-03-05T17:36:40.098Z"
   },
   {
    "duration": 4,
    "start_time": "2025-03-05T17:36:40.105Z"
   },
   {
    "duration": 3,
    "start_time": "2025-03-05T17:36:40.111Z"
   },
   {
    "duration": 413,
    "start_time": "2025-03-05T17:36:40.116Z"
   },
   {
    "duration": 0,
    "start_time": "2025-03-05T17:36:40.531Z"
   },
   {
    "duration": 0,
    "start_time": "2025-03-05T17:36:40.532Z"
   },
   {
    "duration": 0,
    "start_time": "2025-03-05T17:36:40.533Z"
   },
   {
    "duration": 288,
    "start_time": "2025-03-05T17:40:13.302Z"
   },
   {
    "duration": 162,
    "start_time": "2025-03-05T19:25:07.041Z"
   },
   {
    "duration": 15,
    "start_time": "2025-03-05T19:25:17.808Z"
   },
   {
    "duration": 2903,
    "start_time": "2025-03-05T19:25:30.816Z"
   },
   {
    "duration": 31,
    "start_time": "2025-03-05T19:25:33.721Z"
   },
   {
    "duration": 24,
    "start_time": "2025-03-05T19:25:33.754Z"
   },
   {
    "duration": 5,
    "start_time": "2025-03-05T19:25:33.780Z"
   },
   {
    "duration": 668,
    "start_time": "2025-03-05T19:25:33.787Z"
   },
   {
    "duration": 528,
    "start_time": "2025-03-05T19:25:34.457Z"
   },
   {
    "duration": 604,
    "start_time": "2025-03-05T19:25:34.987Z"
   },
   {
    "duration": 312,
    "start_time": "2025-03-05T19:25:35.593Z"
   },
   {
    "duration": 39,
    "start_time": "2025-03-05T19:25:35.907Z"
   },
   {
    "duration": 4,
    "start_time": "2025-03-05T19:25:35.949Z"
   },
   {
    "duration": 5,
    "start_time": "2025-03-05T19:25:35.955Z"
   },
   {
    "duration": 14,
    "start_time": "2025-03-05T19:25:35.962Z"
   },
   {
    "duration": 5,
    "start_time": "2025-03-05T19:25:35.978Z"
   },
   {
    "duration": 4,
    "start_time": "2025-03-05T19:25:35.985Z"
   },
   {
    "duration": 5,
    "start_time": "2025-03-05T19:25:35.991Z"
   },
   {
    "duration": 532,
    "start_time": "2025-03-05T19:25:35.999Z"
   },
   {
    "duration": 0,
    "start_time": "2025-03-05T19:25:36.534Z"
   },
   {
    "duration": 0,
    "start_time": "2025-03-05T19:25:36.535Z"
   },
   {
    "duration": 0,
    "start_time": "2025-03-05T19:25:36.537Z"
   },
   {
    "duration": 125,
    "start_time": "2025-03-05T19:26:11.718Z"
   },
   {
    "duration": 27,
    "start_time": "2025-03-05T19:26:31.631Z"
   },
   {
    "duration": 545,
    "start_time": "2025-03-05T19:26:34.287Z"
   },
   {
    "duration": 21,
    "start_time": "2025-03-05T19:28:13.088Z"
   },
   {
    "duration": 1094,
    "start_time": "2025-03-05T19:29:07.541Z"
   },
   {
    "duration": 25,
    "start_time": "2025-03-05T19:29:08.637Z"
   },
   {
    "duration": 25,
    "start_time": "2025-03-05T19:29:08.665Z"
   },
   {
    "duration": 5,
    "start_time": "2025-03-05T19:29:08.694Z"
   },
   {
    "duration": 581,
    "start_time": "2025-03-05T19:29:08.701Z"
   },
   {
    "duration": 526,
    "start_time": "2025-03-05T19:29:09.285Z"
   },
   {
    "duration": 539,
    "start_time": "2025-03-05T19:29:09.813Z"
   },
   {
    "duration": 407,
    "start_time": "2025-03-05T19:29:10.353Z"
   },
   {
    "duration": 15,
    "start_time": "2025-03-05T19:29:10.762Z"
   },
   {
    "duration": 5,
    "start_time": "2025-03-05T19:29:10.780Z"
   },
   {
    "duration": 5,
    "start_time": "2025-03-05T19:29:10.786Z"
   },
   {
    "duration": 38,
    "start_time": "2025-03-05T19:29:10.793Z"
   },
   {
    "duration": 5,
    "start_time": "2025-03-05T19:29:10.833Z"
   },
   {
    "duration": 4,
    "start_time": "2025-03-05T19:29:10.839Z"
   },
   {
    "duration": 3,
    "start_time": "2025-03-05T19:29:10.845Z"
   },
   {
    "duration": 411,
    "start_time": "2025-03-05T19:29:10.850Z"
   },
   {
    "duration": 0,
    "start_time": "2025-03-05T19:29:11.263Z"
   },
   {
    "duration": 0,
    "start_time": "2025-03-05T19:29:11.264Z"
   },
   {
    "duration": 0,
    "start_time": "2025-03-05T19:29:11.266Z"
   },
   {
    "duration": 0,
    "start_time": "2025-03-05T19:29:11.267Z"
   },
   {
    "duration": 112,
    "start_time": "2025-03-05T19:29:59.218Z"
   },
   {
    "duration": 140,
    "start_time": "2025-03-05T19:30:00.198Z"
   },
   {
    "duration": 27,
    "start_time": "2025-03-05T19:30:07.484Z"
   },
   {
    "duration": 442,
    "start_time": "2025-03-05T19:30:10.214Z"
   },
   {
    "duration": 16,
    "start_time": "2025-03-05T19:30:17.355Z"
   },
   {
    "duration": 17,
    "start_time": "2025-03-05T19:30:30.541Z"
   },
   {
    "duration": 9,
    "start_time": "2025-03-05T19:30:36.491Z"
   },
   {
    "duration": 5,
    "start_time": "2025-03-05T19:31:08.510Z"
   },
   {
    "duration": 20,
    "start_time": "2025-03-05T19:32:38.208Z"
   },
   {
    "duration": 15,
    "start_time": "2025-03-05T19:32:55.640Z"
   },
   {
    "duration": 96,
    "start_time": "2025-03-05T19:42:11.980Z"
   },
   {
    "duration": 9,
    "start_time": "2025-03-05T19:42:53.085Z"
   },
   {
    "duration": 16,
    "start_time": "2025-03-05T19:43:37.849Z"
   },
   {
    "duration": 4,
    "start_time": "2025-03-05T19:47:09.660Z"
   },
   {
    "duration": 5,
    "start_time": "2025-03-05T19:48:25.978Z"
   },
   {
    "duration": 23,
    "start_time": "2025-03-05T20:00:26.118Z"
   },
   {
    "duration": 5,
    "start_time": "2025-03-05T20:00:38.446Z"
   },
   {
    "duration": 4,
    "start_time": "2025-03-05T20:03:59.311Z"
   },
   {
    "duration": 16,
    "start_time": "2025-03-05T20:06:33.393Z"
   },
   {
    "duration": 11,
    "start_time": "2025-03-05T20:07:44.625Z"
   },
   {
    "duration": 7,
    "start_time": "2025-03-05T20:08:12.484Z"
   },
   {
    "duration": 23,
    "start_time": "2025-03-05T20:13:40.499Z"
   },
   {
    "duration": 24,
    "start_time": "2025-03-05T20:14:17.834Z"
   },
   {
    "duration": 21,
    "start_time": "2025-03-05T20:14:25.853Z"
   },
   {
    "duration": 4,
    "start_time": "2025-03-05T20:15:15.109Z"
   },
   {
    "duration": 16,
    "start_time": "2025-03-05T20:17:08.171Z"
   },
   {
    "duration": 15,
    "start_time": "2025-03-05T20:18:27.791Z"
   },
   {
    "duration": 5,
    "start_time": "2025-03-05T20:20:04.246Z"
   },
   {
    "duration": 7,
    "start_time": "2025-03-05T20:21:47.219Z"
   },
   {
    "duration": 5,
    "start_time": "2025-03-05T20:22:37.671Z"
   },
   {
    "duration": 6,
    "start_time": "2025-03-05T20:23:15.445Z"
   },
   {
    "duration": 4,
    "start_time": "2025-03-05T20:23:47.103Z"
   },
   {
    "duration": 5,
    "start_time": "2025-03-05T20:23:57.433Z"
   },
   {
    "duration": 5,
    "start_time": "2025-03-05T20:24:10.801Z"
   },
   {
    "duration": 3,
    "start_time": "2025-03-05T20:24:26.419Z"
   },
   {
    "duration": 4,
    "start_time": "2025-03-05T20:24:59.075Z"
   },
   {
    "duration": 28,
    "start_time": "2025-03-05T20:25:17.455Z"
   },
   {
    "duration": 4,
    "start_time": "2025-03-05T20:25:40.843Z"
   },
   {
    "duration": 2,
    "start_time": "2025-03-05T20:55:48.145Z"
   },
   {
    "duration": 2,
    "start_time": "2025-03-05T20:55:51.107Z"
   },
   {
    "duration": 3,
    "start_time": "2025-03-05T20:55:55.234Z"
   },
   {
    "duration": 14,
    "start_time": "2025-03-05T20:58:55.529Z"
   },
   {
    "duration": 1202,
    "start_time": "2025-03-05T21:00:51.985Z"
   },
   {
    "duration": 25,
    "start_time": "2025-03-05T21:00:53.190Z"
   },
   {
    "duration": 33,
    "start_time": "2025-03-05T21:00:53.217Z"
   },
   {
    "duration": 4,
    "start_time": "2025-03-05T21:00:53.252Z"
   },
   {
    "duration": 571,
    "start_time": "2025-03-05T21:00:53.260Z"
   },
   {
    "duration": 633,
    "start_time": "2025-03-05T21:00:53.833Z"
   },
   {
    "duration": 515,
    "start_time": "2025-03-05T21:00:54.468Z"
   },
   {
    "duration": 297,
    "start_time": "2025-03-05T21:00:54.985Z"
   },
   {
    "duration": 15,
    "start_time": "2025-03-05T21:00:55.284Z"
   },
   {
    "duration": 4,
    "start_time": "2025-03-05T21:00:55.301Z"
   },
   {
    "duration": 26,
    "start_time": "2025-03-05T21:00:55.306Z"
   },
   {
    "duration": 16,
    "start_time": "2025-03-05T21:00:55.333Z"
   },
   {
    "duration": 5,
    "start_time": "2025-03-05T21:00:55.351Z"
   },
   {
    "duration": 4,
    "start_time": "2025-03-05T21:00:55.359Z"
   },
   {
    "duration": 4,
    "start_time": "2025-03-05T21:00:55.364Z"
   },
   {
    "duration": 2,
    "start_time": "2025-03-05T21:00:55.370Z"
   },
   {
    "duration": 3,
    "start_time": "2025-03-05T21:00:55.374Z"
   },
   {
    "duration": 73,
    "start_time": "2025-03-05T21:00:55.379Z"
   },
   {
    "duration": 601,
    "start_time": "2025-03-05T21:00:55.453Z"
   },
   {
    "duration": 3,
    "start_time": "2025-03-05T21:00:56.057Z"
   },
   {
    "duration": 523,
    "start_time": "2025-03-05T21:00:56.062Z"
   },
   {
    "duration": 50,
    "start_time": "2025-03-05T21:03:49.327Z"
   },
   {
    "duration": 166,
    "start_time": "2025-03-05T22:01:41.693Z"
   },
   {
    "duration": 3246,
    "start_time": "2025-03-05T22:01:50.249Z"
   },
   {
    "duration": 38,
    "start_time": "2025-03-05T22:01:53.497Z"
   },
   {
    "duration": 25,
    "start_time": "2025-03-05T22:01:53.537Z"
   },
   {
    "duration": 5,
    "start_time": "2025-03-05T22:01:53.566Z"
   },
   {
    "duration": 600,
    "start_time": "2025-03-05T22:01:53.573Z"
   },
   {
    "duration": 529,
    "start_time": "2025-03-05T22:01:54.176Z"
   },
   {
    "duration": 667,
    "start_time": "2025-03-05T22:01:54.707Z"
   },
   {
    "duration": 380,
    "start_time": "2025-03-05T22:01:55.376Z"
   },
   {
    "duration": 16,
    "start_time": "2025-03-05T22:01:55.758Z"
   },
   {
    "duration": 5,
    "start_time": "2025-03-05T22:01:55.776Z"
   },
   {
    "duration": 24,
    "start_time": "2025-03-05T22:01:55.782Z"
   },
   {
    "duration": 19,
    "start_time": "2025-03-05T22:01:55.809Z"
   },
   {
    "duration": 7,
    "start_time": "2025-03-05T22:01:55.830Z"
   },
   {
    "duration": 6,
    "start_time": "2025-03-05T22:01:55.839Z"
   },
   {
    "duration": 4,
    "start_time": "2025-03-05T22:01:55.847Z"
   },
   {
    "duration": 600,
    "start_time": "2025-03-05T22:01:55.854Z"
   },
   {
    "duration": 0,
    "start_time": "2025-03-05T22:01:56.457Z"
   },
   {
    "duration": 0,
    "start_time": "2025-03-05T22:01:56.458Z"
   },
   {
    "duration": 0,
    "start_time": "2025-03-05T22:01:56.460Z"
   },
   {
    "duration": 0,
    "start_time": "2025-03-05T22:01:56.461Z"
   },
   {
    "duration": 0,
    "start_time": "2025-03-05T22:01:56.464Z"
   },
   {
    "duration": 4,
    "start_time": "2025-03-05T22:04:52.453Z"
   },
   {
    "duration": 5,
    "start_time": "2025-03-05T22:05:19.906Z"
   },
   {
    "duration": 3,
    "start_time": "2025-03-05T22:11:47.769Z"
   },
   {
    "duration": 18,
    "start_time": "2025-03-05T22:11:58.657Z"
   },
   {
    "duration": 20,
    "start_time": "2025-03-05T22:12:18.583Z"
   },
   {
    "duration": 1203,
    "start_time": "2025-03-05T22:12:30.066Z"
   },
   {
    "duration": 32,
    "start_time": "2025-03-05T22:12:31.272Z"
   },
   {
    "duration": 24,
    "start_time": "2025-03-05T22:12:31.306Z"
   },
   {
    "duration": 5,
    "start_time": "2025-03-05T22:12:31.332Z"
   },
   {
    "duration": 578,
    "start_time": "2025-03-05T22:12:31.340Z"
   },
   {
    "duration": 638,
    "start_time": "2025-03-05T22:12:31.920Z"
   },
   {
    "duration": 559,
    "start_time": "2025-03-05T22:12:32.559Z"
   },
   {
    "duration": 303,
    "start_time": "2025-03-05T22:12:33.120Z"
   },
   {
    "duration": 15,
    "start_time": "2025-03-05T22:12:33.425Z"
   },
   {
    "duration": 5,
    "start_time": "2025-03-05T22:12:33.442Z"
   },
   {
    "duration": 6,
    "start_time": "2025-03-05T22:12:33.448Z"
   },
   {
    "duration": 15,
    "start_time": "2025-03-05T22:12:33.455Z"
   },
   {
    "duration": 37,
    "start_time": "2025-03-05T22:12:33.472Z"
   },
   {
    "duration": 4,
    "start_time": "2025-03-05T22:12:33.513Z"
   },
   {
    "duration": 5,
    "start_time": "2025-03-05T22:12:33.519Z"
   },
   {
    "duration": 539,
    "start_time": "2025-03-05T22:12:33.526Z"
   },
   {
    "duration": 0,
    "start_time": "2025-03-05T22:12:34.067Z"
   },
   {
    "duration": 0,
    "start_time": "2025-03-05T22:12:34.068Z"
   },
   {
    "duration": 0,
    "start_time": "2025-03-05T22:12:34.069Z"
   },
   {
    "duration": 0,
    "start_time": "2025-03-05T22:12:34.071Z"
   },
   {
    "duration": 0,
    "start_time": "2025-03-05T22:12:34.072Z"
   },
   {
    "duration": 0,
    "start_time": "2025-03-05T22:12:34.073Z"
   },
   {
    "duration": 121,
    "start_time": "2025-03-05T22:13:06.803Z"
   },
   {
    "duration": 34,
    "start_time": "2025-03-05T22:13:10.472Z"
   },
   {
    "duration": 664,
    "start_time": "2025-03-05T22:13:12.641Z"
   },
   {
    "duration": 18,
    "start_time": "2025-03-05T22:13:15.523Z"
   },
   {
    "duration": 1209,
    "start_time": "2025-03-05T22:17:33.978Z"
   },
   {
    "duration": 31,
    "start_time": "2025-03-05T22:17:35.189Z"
   },
   {
    "duration": 25,
    "start_time": "2025-03-05T22:17:35.222Z"
   },
   {
    "duration": 5,
    "start_time": "2025-03-05T22:17:35.248Z"
   },
   {
    "duration": 606,
    "start_time": "2025-03-05T22:17:35.255Z"
   },
   {
    "duration": 586,
    "start_time": "2025-03-05T22:17:35.863Z"
   },
   {
    "duration": 586,
    "start_time": "2025-03-05T22:17:36.451Z"
   },
   {
    "duration": 298,
    "start_time": "2025-03-05T22:17:37.039Z"
   },
   {
    "duration": 15,
    "start_time": "2025-03-05T22:17:37.340Z"
   },
   {
    "duration": 4,
    "start_time": "2025-03-05T22:17:37.357Z"
   },
   {
    "duration": 5,
    "start_time": "2025-03-05T22:17:37.363Z"
   },
   {
    "duration": 40,
    "start_time": "2025-03-05T22:17:37.370Z"
   },
   {
    "duration": 6,
    "start_time": "2025-03-05T22:17:37.413Z"
   },
   {
    "duration": 4,
    "start_time": "2025-03-05T22:17:37.422Z"
   },
   {
    "duration": 4,
    "start_time": "2025-03-05T22:17:37.428Z"
   },
   {
    "duration": 535,
    "start_time": "2025-03-05T22:17:37.433Z"
   },
   {
    "duration": 0,
    "start_time": "2025-03-05T22:17:37.970Z"
   },
   {
    "duration": 0,
    "start_time": "2025-03-05T22:17:37.971Z"
   },
   {
    "duration": 0,
    "start_time": "2025-03-05T22:17:37.972Z"
   },
   {
    "duration": 0,
    "start_time": "2025-03-05T22:17:37.973Z"
   },
   {
    "duration": 0,
    "start_time": "2025-03-05T22:17:37.975Z"
   },
   {
    "duration": 0,
    "start_time": "2025-03-05T22:17:37.975Z"
   },
   {
    "duration": 124,
    "start_time": "2025-03-05T22:29:00.129Z"
   },
   {
    "duration": 137,
    "start_time": "2025-03-05T22:29:04.290Z"
   },
   {
    "duration": 2937,
    "start_time": "2025-03-05T22:29:12.405Z"
   },
   {
    "duration": 97,
    "start_time": "2025-03-05T22:29:39.731Z"
   },
   {
    "duration": 81,
    "start_time": "2025-03-05T22:30:09.020Z"
   },
   {
    "duration": 1203,
    "start_time": "2025-03-05T22:32:04.693Z"
   },
   {
    "duration": 38,
    "start_time": "2025-03-05T22:32:05.899Z"
   },
   {
    "duration": 27,
    "start_time": "2025-03-05T22:32:05.939Z"
   },
   {
    "duration": 5,
    "start_time": "2025-03-05T22:32:05.969Z"
   },
   {
    "duration": 640,
    "start_time": "2025-03-05T22:32:05.976Z"
   },
   {
    "duration": 640,
    "start_time": "2025-03-05T22:32:06.618Z"
   },
   {
    "duration": 576,
    "start_time": "2025-03-05T22:32:07.260Z"
   },
   {
    "duration": 319,
    "start_time": "2025-03-05T22:32:07.839Z"
   },
   {
    "duration": 22,
    "start_time": "2025-03-05T22:32:08.160Z"
   },
   {
    "duration": 19,
    "start_time": "2025-03-05T22:32:08.186Z"
   },
   {
    "duration": 7,
    "start_time": "2025-03-05T22:32:08.207Z"
   },
   {
    "duration": 20,
    "start_time": "2025-03-05T22:32:08.216Z"
   },
   {
    "duration": 7,
    "start_time": "2025-03-05T22:32:08.239Z"
   },
   {
    "duration": 5,
    "start_time": "2025-03-05T22:32:08.248Z"
   },
   {
    "duration": 3,
    "start_time": "2025-03-05T22:32:08.255Z"
   },
   {
    "duration": 576,
    "start_time": "2025-03-05T22:32:08.260Z"
   },
   {
    "duration": 0,
    "start_time": "2025-03-05T22:32:08.840Z"
   },
   {
    "duration": 0,
    "start_time": "2025-03-05T22:32:08.841Z"
   },
   {
    "duration": 0,
    "start_time": "2025-03-05T22:32:08.842Z"
   },
   {
    "duration": 0,
    "start_time": "2025-03-05T22:32:08.843Z"
   },
   {
    "duration": 0,
    "start_time": "2025-03-05T22:32:08.845Z"
   },
   {
    "duration": 0,
    "start_time": "2025-03-05T22:32:08.846Z"
   },
   {
    "duration": 107,
    "start_time": "2025-03-05T22:33:30.691Z"
   },
   {
    "duration": 188,
    "start_time": "2025-03-05T22:33:35.333Z"
   },
   {
    "duration": 1364,
    "start_time": "2025-03-05T22:33:39.558Z"
   },
   {
    "duration": 32580,
    "start_time": "2025-03-05T22:33:42.926Z"
   },
   {
    "duration": 1278,
    "start_time": "2025-03-05T22:42:28.044Z"
   },
   {
    "duration": 30,
    "start_time": "2025-03-05T22:42:29.324Z"
   },
   {
    "duration": 26,
    "start_time": "2025-03-05T22:42:29.357Z"
   },
   {
    "duration": 6,
    "start_time": "2025-03-05T22:42:29.386Z"
   },
   {
    "duration": 614,
    "start_time": "2025-03-05T22:42:29.405Z"
   },
   {
    "duration": 655,
    "start_time": "2025-03-05T22:42:30.020Z"
   },
   {
    "duration": 623,
    "start_time": "2025-03-05T22:42:30.677Z"
   },
   {
    "duration": 377,
    "start_time": "2025-03-05T22:42:31.304Z"
   },
   {
    "duration": 30,
    "start_time": "2025-03-05T22:42:31.683Z"
   },
   {
    "duration": 5,
    "start_time": "2025-03-05T22:42:31.717Z"
   },
   {
    "duration": 5,
    "start_time": "2025-03-05T22:42:31.724Z"
   },
   {
    "duration": 20,
    "start_time": "2025-03-05T22:42:31.731Z"
   },
   {
    "duration": 7,
    "start_time": "2025-03-05T22:42:31.753Z"
   },
   {
    "duration": 5,
    "start_time": "2025-03-05T22:42:31.762Z"
   },
   {
    "duration": 40,
    "start_time": "2025-03-05T22:42:31.769Z"
   },
   {
    "duration": 571,
    "start_time": "2025-03-05T22:42:31.812Z"
   },
   {
    "duration": 0,
    "start_time": "2025-03-05T22:42:32.385Z"
   },
   {
    "duration": 0,
    "start_time": "2025-03-05T22:42:32.387Z"
   },
   {
    "duration": 0,
    "start_time": "2025-03-05T22:42:32.388Z"
   },
   {
    "duration": 0,
    "start_time": "2025-03-05T22:42:32.390Z"
   },
   {
    "duration": 0,
    "start_time": "2025-03-05T22:42:32.406Z"
   },
   {
    "duration": 0,
    "start_time": "2025-03-05T22:42:32.407Z"
   },
   {
    "duration": 563,
    "start_time": "2025-03-05T22:43:49.803Z"
   },
   {
    "duration": 315,
    "start_time": "2025-03-05T22:43:56.278Z"
   },
   {
    "duration": 15,
    "start_time": "2025-03-05T22:44:00.056Z"
   },
   {
    "duration": 5,
    "start_time": "2025-03-05T22:44:03.015Z"
   },
   {
    "duration": 6,
    "start_time": "2025-03-05T22:44:04.778Z"
   },
   {
    "duration": 26,
    "start_time": "2025-03-05T22:44:06.456Z"
   },
   {
    "duration": 5,
    "start_time": "2025-03-05T22:44:09.447Z"
   },
   {
    "duration": 5,
    "start_time": "2025-03-05T22:44:11.348Z"
   },
   {
    "duration": 4,
    "start_time": "2025-03-05T22:44:12.704Z"
   },
   {
    "duration": 110,
    "start_time": "2025-03-05T22:44:14.450Z"
   },
   {
    "duration": 122,
    "start_time": "2025-03-05T22:44:17.819Z"
   },
   {
    "duration": 22778,
    "start_time": "2025-03-05T22:44:21.654Z"
   },
   {
    "duration": 16776,
    "start_time": "2025-03-05T22:44:44.438Z"
   },
   {
    "duration": 401621,
    "start_time": "2025-03-05T22:45:01.216Z"
   },
   {
    "duration": 8697,
    "start_time": "2025-03-05T22:54:29.633Z"
   },
   {
    "duration": 67323,
    "start_time": "2025-03-05T22:55:55.710Z"
   },
   {
    "duration": 375918,
    "start_time": "2025-03-05T23:10:38.222Z"
   },
   {
    "duration": 238,
    "start_time": "2025-03-05T23:27:10.333Z"
   },
   {
    "duration": 204,
    "start_time": "2025-03-05T23:27:42.929Z"
   },
   {
    "duration": 4,
    "start_time": "2025-03-05T23:38:31.276Z"
   },
   {
    "duration": 8888,
    "start_time": "2025-03-05T23:53:06.037Z"
   },
   {
    "duration": 8771,
    "start_time": "2025-03-05T23:55:16.035Z"
   },
   {
    "duration": 183,
    "start_time": "2025-03-05T23:59:01.887Z"
   },
   {
    "duration": 2891,
    "start_time": "2025-03-06T02:08:06.906Z"
   },
   {
    "duration": 29,
    "start_time": "2025-03-06T02:08:09.799Z"
   },
   {
    "duration": 23,
    "start_time": "2025-03-06T02:08:09.829Z"
   },
   {
    "duration": 3,
    "start_time": "2025-03-06T02:08:09.853Z"
   },
   {
    "duration": 4,
    "start_time": "2025-03-06T02:08:09.860Z"
   },
   {
    "duration": 606,
    "start_time": "2025-03-06T02:08:09.866Z"
   },
   {
    "duration": 519,
    "start_time": "2025-03-06T02:08:10.474Z"
   },
   {
    "duration": 567,
    "start_time": "2025-03-06T02:08:10.995Z"
   },
   {
    "duration": 288,
    "start_time": "2025-03-06T02:08:11.563Z"
   },
   {
    "duration": 15,
    "start_time": "2025-03-06T02:08:11.854Z"
   },
   {
    "duration": 4,
    "start_time": "2025-03-06T02:08:11.870Z"
   },
   {
    "duration": 4,
    "start_time": "2025-03-06T02:08:11.878Z"
   },
   {
    "duration": 38,
    "start_time": "2025-03-06T02:08:11.884Z"
   },
   {
    "duration": 5,
    "start_time": "2025-03-06T02:08:11.926Z"
   },
   {
    "duration": 5,
    "start_time": "2025-03-06T02:08:11.933Z"
   },
   {
    "duration": 6,
    "start_time": "2025-03-06T02:08:11.939Z"
   },
   {
    "duration": 502,
    "start_time": "2025-03-06T02:08:11.946Z"
   },
   {
    "duration": 0,
    "start_time": "2025-03-06T02:08:12.450Z"
   },
   {
    "duration": 0,
    "start_time": "2025-03-06T02:08:12.451Z"
   },
   {
    "duration": 0,
    "start_time": "2025-03-06T02:08:12.453Z"
   },
   {
    "duration": 0,
    "start_time": "2025-03-06T02:08:12.454Z"
   },
   {
    "duration": 0,
    "start_time": "2025-03-06T02:08:12.454Z"
   },
   {
    "duration": 0,
    "start_time": "2025-03-06T02:08:12.456Z"
   },
   {
    "duration": 0,
    "start_time": "2025-03-06T02:08:12.457Z"
   },
   {
    "duration": 27,
    "start_time": "2025-03-06T02:09:05.885Z"
   },
   {
    "duration": 444,
    "start_time": "2025-03-06T02:09:12.489Z"
   },
   {
    "duration": 8124,
    "start_time": "2025-03-06T02:09:15.989Z"
   },
   {
    "duration": 124,
    "start_time": "2025-03-06T02:11:06.613Z"
   },
   {
    "duration": 88,
    "start_time": "2025-03-06T02:13:29.302Z"
   },
   {
    "duration": 44,
    "start_time": "2025-03-06T02:14:20.987Z"
   },
   {
    "duration": 28,
    "start_time": "2025-03-06T02:15:47.315Z"
   },
   {
    "duration": 267,
    "start_time": "2025-03-06T02:16:01.130Z"
   },
   {
    "duration": 1125,
    "start_time": "2025-03-06T02:16:18.945Z"
   },
   {
    "duration": 23,
    "start_time": "2025-03-06T02:16:20.073Z"
   },
   {
    "duration": 28,
    "start_time": "2025-03-06T02:16:20.097Z"
   },
   {
    "duration": 4,
    "start_time": "2025-03-06T02:16:20.127Z"
   },
   {
    "duration": 5,
    "start_time": "2025-03-06T02:16:20.133Z"
   },
   {
    "duration": 533,
    "start_time": "2025-03-06T02:16:20.139Z"
   },
   {
    "duration": 572,
    "start_time": "2025-03-06T02:16:20.674Z"
   },
   {
    "duration": 493,
    "start_time": "2025-03-06T02:16:21.248Z"
   },
   {
    "duration": 182,
    "start_time": "2025-03-06T02:16:21.743Z"
   },
   {
    "duration": 7,
    "start_time": "2025-03-06T02:16:21.927Z"
   },
   {
    "duration": 3,
    "start_time": "2025-03-06T02:16:21.935Z"
   },
   {
    "duration": 5,
    "start_time": "2025-03-06T02:16:21.940Z"
   },
   {
    "duration": 8,
    "start_time": "2025-03-06T02:16:21.946Z"
   },
   {
    "duration": 4,
    "start_time": "2025-03-06T02:16:21.958Z"
   },
   {
    "duration": 4,
    "start_time": "2025-03-06T02:16:21.964Z"
   },
   {
    "duration": 3,
    "start_time": "2025-03-06T02:16:21.971Z"
   },
   {
    "duration": 3,
    "start_time": "2025-03-06T02:16:22.011Z"
   },
   {
    "duration": 2,
    "start_time": "2025-03-06T02:16:22.016Z"
   },
   {
    "duration": 3,
    "start_time": "2025-03-06T02:16:22.020Z"
   },
   {
    "duration": 9,
    "start_time": "2025-03-06T02:16:22.025Z"
   },
   {
    "duration": 633,
    "start_time": "2025-03-06T02:16:22.035Z"
   },
   {
    "duration": 0,
    "start_time": "2025-03-06T02:16:22.670Z"
   },
   {
    "duration": 0,
    "start_time": "2025-03-06T02:16:22.671Z"
   },
   {
    "duration": 0,
    "start_time": "2025-03-06T02:16:22.673Z"
   },
   {
    "duration": 0,
    "start_time": "2025-03-06T02:16:22.674Z"
   },
   {
    "duration": 0,
    "start_time": "2025-03-06T02:16:22.676Z"
   },
   {
    "duration": 166,
    "start_time": "2025-03-06T02:16:58.243Z"
   },
   {
    "duration": 14,
    "start_time": "2025-03-06T02:18:16.291Z"
   },
   {
    "duration": 3,
    "start_time": "2025-03-06T02:18:20.600Z"
   },
   {
    "duration": 3,
    "start_time": "2025-03-06T02:18:38.349Z"
   },
   {
    "duration": 4,
    "start_time": "2025-03-06T02:20:08.079Z"
   },
   {
    "duration": 3,
    "start_time": "2025-03-06T02:20:22.078Z"
   },
   {
    "duration": 6,
    "start_time": "2025-03-06T02:22:31.525Z"
   },
   {
    "duration": 169,
    "start_time": "2025-03-06T02:22:42.886Z"
   },
   {
    "duration": 1130,
    "start_time": "2025-03-06T02:22:59.223Z"
   },
   {
    "duration": 25,
    "start_time": "2025-03-06T02:23:00.355Z"
   },
   {
    "duration": 33,
    "start_time": "2025-03-06T02:23:00.381Z"
   },
   {
    "duration": 4,
    "start_time": "2025-03-06T02:23:00.415Z"
   },
   {
    "duration": 5,
    "start_time": "2025-03-06T02:23:00.421Z"
   },
   {
    "duration": 543,
    "start_time": "2025-03-06T02:23:00.429Z"
   },
   {
    "duration": 566,
    "start_time": "2025-03-06T02:23:00.974Z"
   },
   {
    "duration": 501,
    "start_time": "2025-03-06T02:23:01.542Z"
   },
   {
    "duration": 179,
    "start_time": "2025-03-06T02:23:02.044Z"
   },
   {
    "duration": 7,
    "start_time": "2025-03-06T02:23:02.225Z"
   },
   {
    "duration": 4,
    "start_time": "2025-03-06T02:23:02.234Z"
   },
   {
    "duration": 5,
    "start_time": "2025-03-06T02:23:02.240Z"
   },
   {
    "duration": 8,
    "start_time": "2025-03-06T02:23:02.247Z"
   },
   {
    "duration": 4,
    "start_time": "2025-03-06T02:23:02.258Z"
   },
   {
    "duration": 3,
    "start_time": "2025-03-06T02:23:02.264Z"
   },
   {
    "duration": 43,
    "start_time": "2025-03-06T02:23:02.269Z"
   },
   {
    "duration": 3,
    "start_time": "2025-03-06T02:23:02.313Z"
   },
   {
    "duration": 516,
    "start_time": "2025-03-06T02:23:02.318Z"
   },
   {
    "duration": 0,
    "start_time": "2025-03-06T02:23:02.835Z"
   },
   {
    "duration": 0,
    "start_time": "2025-03-06T02:23:02.837Z"
   },
   {
    "duration": 0,
    "start_time": "2025-03-06T02:23:02.838Z"
   },
   {
    "duration": 0,
    "start_time": "2025-03-06T02:23:02.839Z"
   },
   {
    "duration": 0,
    "start_time": "2025-03-06T02:23:02.840Z"
   },
   {
    "duration": 0,
    "start_time": "2025-03-06T02:23:02.841Z"
   },
   {
    "duration": 0,
    "start_time": "2025-03-06T02:23:02.842Z"
   },
   {
    "duration": 0,
    "start_time": "2025-03-06T02:23:02.843Z"
   },
   {
    "duration": 0,
    "start_time": "2025-03-06T02:23:02.844Z"
   },
   {
    "duration": 167,
    "start_time": "2025-03-06T02:23:45.792Z"
   },
   {
    "duration": 7,
    "start_time": "2025-03-06T02:23:52.936Z"
   },
   {
    "duration": 190,
    "start_time": "2025-03-06T02:24:18.050Z"
   },
   {
    "duration": 175,
    "start_time": "2025-03-06T02:24:30.611Z"
   },
   {
    "duration": 2,
    "start_time": "2025-03-06T02:25:21.919Z"
   },
   {
    "duration": 2,
    "start_time": "2025-03-06T02:25:23.543Z"
   },
   {
    "duration": 15,
    "start_time": "2025-03-06T02:25:25.313Z"
   },
   {
    "duration": 236,
    "start_time": "2025-03-06T02:25:31.970Z"
   },
   {
    "duration": 166,
    "start_time": "2025-03-06T02:25:59.407Z"
   },
   {
    "duration": 41,
    "start_time": "2025-03-06T02:26:49.703Z"
   },
   {
    "duration": 837,
    "start_time": "2025-03-06T02:26:55.009Z"
   },
   {
    "duration": 1378,
    "start_time": "2025-03-06T02:37:27.434Z"
   },
   {
    "duration": 90,
    "start_time": "2025-03-06T02:37:37.721Z"
   },
   {
    "duration": 539,
    "start_time": "2025-03-06T02:37:40.309Z"
   },
   {
    "duration": 3,
    "start_time": "2025-03-06T02:37:43.215Z"
   },
   {
    "duration": 35,
    "start_time": "2025-03-06T02:42:19.742Z"
   },
   {
    "duration": 229,
    "start_time": "2025-03-06T02:42:33.652Z"
   },
   {
    "duration": 3,
    "start_time": "2025-03-06T02:46:20.617Z"
   },
   {
    "duration": 4,
    "start_time": "2025-03-06T02:46:37.339Z"
   },
   {
    "duration": 3,
    "start_time": "2025-03-06T02:47:05.171Z"
   },
   {
    "duration": 4,
    "start_time": "2025-03-06T02:47:26.478Z"
   },
   {
    "duration": 4,
    "start_time": "2025-03-06T02:47:45.572Z"
   },
   {
    "duration": 6,
    "start_time": "2025-03-06T02:47:52.010Z"
   },
   {
    "duration": 10,
    "start_time": "2025-03-06T02:47:57.912Z"
   },
   {
    "duration": 4,
    "start_time": "2025-03-06T02:48:02.716Z"
   },
   {
    "duration": 5,
    "start_time": "2025-03-06T02:48:04.753Z"
   },
   {
    "duration": 11,
    "start_time": "2025-03-06T02:48:06.937Z"
   },
   {
    "duration": 5,
    "start_time": "2025-03-06T02:48:09.885Z"
   },
   {
    "duration": 4,
    "start_time": "2025-03-06T02:48:11.821Z"
   },
   {
    "duration": 3,
    "start_time": "2025-03-06T02:48:13.509Z"
   },
   {
    "duration": 3,
    "start_time": "2025-03-06T02:48:15.786Z"
   },
   {
    "duration": 3,
    "start_time": "2025-03-06T02:48:34.280Z"
   },
   {
    "duration": 7,
    "start_time": "2025-03-06T02:48:36.313Z"
   },
   {
    "duration": 103,
    "start_time": "2025-03-06T02:48:43.709Z"
   },
   {
    "duration": 6,
    "start_time": "2025-03-06T02:48:50.753Z"
   },
   {
    "duration": 122,
    "start_time": "2025-03-06T02:48:54.802Z"
   },
   {
    "duration": 7,
    "start_time": "2025-03-06T02:49:25.844Z"
   },
   {
    "duration": 6,
    "start_time": "2025-03-06T02:49:42.185Z"
   },
   {
    "duration": 71,
    "start_time": "2025-03-06T02:49:52.619Z"
   },
   {
    "duration": 6,
    "start_time": "2025-03-06T02:49:56.892Z"
   },
   {
    "duration": 7,
    "start_time": "2025-03-06T02:49:59.708Z"
   },
   {
    "duration": 8,
    "start_time": "2025-03-06T02:50:05.901Z"
   },
   {
    "duration": 25,
    "start_time": "2025-03-06T02:50:09.064Z"
   },
   {
    "duration": 770,
    "start_time": "2025-03-06T02:50:11.362Z"
   },
   {
    "duration": 7378,
    "start_time": "2025-03-06T02:50:15.839Z"
   },
   {
    "duration": 121,
    "start_time": "2025-03-06T02:50:30.050Z"
   },
   {
    "duration": 91,
    "start_time": "2025-03-06T02:50:37.212Z"
   },
   {
    "duration": 237,
    "start_time": "2025-03-06T02:51:47.219Z"
   },
   {
    "duration": 7680,
    "start_time": "2025-03-06T02:52:05.613Z"
   },
   {
    "duration": 7,
    "start_time": "2025-03-06T02:53:25.781Z"
   },
   {
    "duration": 8,
    "start_time": "2025-03-06T02:53:55.324Z"
   },
   {
    "duration": 71,
    "start_time": "2025-03-06T02:53:57.808Z"
   },
   {
    "duration": 390,
    "start_time": "2025-03-06T02:56:02.748Z"
   },
   {
    "duration": 465,
    "start_time": "2025-03-06T02:56:16.749Z"
   },
   {
    "duration": 185,
    "start_time": "2025-03-06T02:57:05.683Z"
   },
   {
    "duration": 16,
    "start_time": "2025-03-06T02:59:38.441Z"
   },
   {
    "duration": 44,
    "start_time": "2025-03-06T03:00:09.785Z"
   },
   {
    "duration": 503,
    "start_time": "2025-03-06T03:00:29.709Z"
   },
   {
    "duration": 153,
    "start_time": "2025-03-06T03:00:45.578Z"
   },
   {
    "duration": 50,
    "start_time": "2025-03-06T03:00:51.380Z"
   },
   {
    "duration": 9633,
    "start_time": "2025-03-06T03:00:59.483Z"
   },
   {
    "duration": 8,
    "start_time": "2025-03-06T03:12:52.466Z"
   },
   {
    "duration": 6,
    "start_time": "2025-03-06T03:13:20.249Z"
   },
   {
    "duration": 8,
    "start_time": "2025-03-06T03:13:29.118Z"
   },
   {
    "duration": 8,
    "start_time": "2025-03-06T03:13:36.412Z"
   },
   {
    "duration": 8,
    "start_time": "2025-03-06T03:13:45.941Z"
   },
   {
    "duration": 9,
    "start_time": "2025-03-06T03:13:59.679Z"
   },
   {
    "duration": 1152,
    "start_time": "2025-03-06T03:14:24.643Z"
   },
   {
    "duration": 25,
    "start_time": "2025-03-06T03:14:25.797Z"
   },
   {
    "duration": 23,
    "start_time": "2025-03-06T03:14:25.823Z"
   },
   {
    "duration": 3,
    "start_time": "2025-03-06T03:14:25.849Z"
   },
   {
    "duration": 4,
    "start_time": "2025-03-06T03:14:25.855Z"
   },
   {
    "duration": 583,
    "start_time": "2025-03-06T03:14:25.861Z"
   },
   {
    "duration": 576,
    "start_time": "2025-03-06T03:14:26.446Z"
   },
   {
    "duration": 525,
    "start_time": "2025-03-06T03:14:27.023Z"
   },
   {
    "duration": 7,
    "start_time": "2025-03-06T03:14:27.550Z"
   },
   {
    "duration": 7,
    "start_time": "2025-03-06T03:14:27.558Z"
   },
   {
    "duration": 3,
    "start_time": "2025-03-06T03:14:27.568Z"
   },
   {
    "duration": 5,
    "start_time": "2025-03-06T03:14:27.572Z"
   },
   {
    "duration": 34,
    "start_time": "2025-03-06T03:14:27.579Z"
   },
   {
    "duration": 4,
    "start_time": "2025-03-06T03:14:27.616Z"
   },
   {
    "duration": 4,
    "start_time": "2025-03-06T03:14:27.622Z"
   },
   {
    "duration": 5,
    "start_time": "2025-03-06T03:14:27.628Z"
   },
   {
    "duration": 4,
    "start_time": "2025-03-06T03:14:27.634Z"
   },
   {
    "duration": 573,
    "start_time": "2025-03-06T03:14:27.640Z"
   },
   {
    "duration": 0,
    "start_time": "2025-03-06T03:14:28.215Z"
   },
   {
    "duration": 0,
    "start_time": "2025-03-06T03:14:28.217Z"
   },
   {
    "duration": 0,
    "start_time": "2025-03-06T03:14:28.218Z"
   },
   {
    "duration": 0,
    "start_time": "2025-03-06T03:14:28.220Z"
   },
   {
    "duration": 0,
    "start_time": "2025-03-06T03:14:28.221Z"
   },
   {
    "duration": 12,
    "start_time": "2025-03-06T03:15:43.632Z"
   },
   {
    "duration": 7,
    "start_time": "2025-03-06T03:15:54.199Z"
   },
   {
    "duration": 5,
    "start_time": "2025-03-06T03:15:56.309Z"
   },
   {
    "duration": 3,
    "start_time": "2025-03-06T03:15:57.482Z"
   },
   {
    "duration": 4,
    "start_time": "2025-03-06T03:16:01.521Z"
   },
   {
    "duration": 6,
    "start_time": "2025-03-06T03:16:02.806Z"
   },
   {
    "duration": 3,
    "start_time": "2025-03-06T03:16:05.043Z"
   },
   {
    "duration": 20,
    "start_time": "2025-03-06T03:16:05.736Z"
   },
   {
    "duration": 23,
    "start_time": "2025-03-06T03:16:06.282Z"
   },
   {
    "duration": 3,
    "start_time": "2025-03-06T03:16:06.720Z"
   },
   {
    "duration": 6,
    "start_time": "2025-03-06T03:16:07.314Z"
   },
   {
    "duration": 529,
    "start_time": "2025-03-06T03:16:07.813Z"
   },
   {
    "duration": 496,
    "start_time": "2025-03-06T03:16:08.554Z"
   },
   {
    "duration": 530,
    "start_time": "2025-03-06T03:16:09.100Z"
   },
   {
    "duration": 8,
    "start_time": "2025-03-06T03:16:11.516Z"
   },
   {
    "duration": 7,
    "start_time": "2025-03-06T03:16:12.377Z"
   },
   {
    "duration": 4,
    "start_time": "2025-03-06T03:16:12.607Z"
   },
   {
    "duration": 5,
    "start_time": "2025-03-06T03:16:13.451Z"
   },
   {
    "duration": 8,
    "start_time": "2025-03-06T03:16:14.026Z"
   },
   {
    "duration": 5,
    "start_time": "2025-03-06T03:16:14.239Z"
   },
   {
    "duration": 3,
    "start_time": "2025-03-06T03:16:14.509Z"
   },
   {
    "duration": 3,
    "start_time": "2025-03-06T03:16:14.830Z"
   },
   {
    "duration": 3,
    "start_time": "2025-03-06T03:16:15.649Z"
   },
   {
    "duration": 77,
    "start_time": "2025-03-06T03:16:16.010Z"
   },
   {
    "duration": 107,
    "start_time": "2025-03-06T03:16:16.498Z"
   },
   {
    "duration": 79,
    "start_time": "2025-03-06T03:16:16.796Z"
   },
   {
    "duration": 23,
    "start_time": "2025-03-06T03:16:17.099Z"
   },
   {
    "duration": 349,
    "start_time": "2025-03-06T03:16:17.709Z"
   },
   {
    "duration": 179,
    "start_time": "2025-03-06T03:16:18.340Z"
   },
   {
    "duration": 4,
    "start_time": "2025-03-06T03:16:49.945Z"
   },
   {
    "duration": 8,
    "start_time": "2025-03-06T03:16:53.787Z"
   },
   {
    "duration": 4,
    "start_time": "2025-03-06T03:17:38.593Z"
   },
   {
    "duration": 7,
    "start_time": "2025-03-06T03:17:40.541Z"
   },
   {
    "duration": 3,
    "start_time": "2025-03-06T03:17:57.057Z"
   },
   {
    "duration": 10,
    "start_time": "2025-03-06T03:18:13.203Z"
   },
   {
    "duration": 16,
    "start_time": "2025-03-06T03:18:15.426Z"
   },
   {
    "duration": 7,
    "start_time": "2025-03-06T03:18:31.836Z"
   },
   {
    "duration": 15,
    "start_time": "2025-03-06T03:18:34.669Z"
   },
   {
    "duration": 4,
    "start_time": "2025-03-06T03:18:42.115Z"
   },
   {
    "duration": 5,
    "start_time": "2025-03-06T03:18:43.365Z"
   },
   {
    "duration": 7,
    "start_time": "2025-03-06T03:18:56.738Z"
   },
   {
    "duration": 13,
    "start_time": "2025-03-06T03:18:58.506Z"
   },
   {
    "duration": 4,
    "start_time": "2025-03-06T03:19:04.388Z"
   },
   {
    "duration": 7,
    "start_time": "2025-03-06T03:19:06.149Z"
   },
   {
    "duration": 21,
    "start_time": "2025-03-06T03:19:09.336Z"
   },
   {
    "duration": 5,
    "start_time": "2025-03-06T03:19:13.291Z"
   },
   {
    "duration": 6,
    "start_time": "2025-03-06T03:19:15.327Z"
   },
   {
    "duration": 3,
    "start_time": "2025-03-06T03:19:17.353Z"
   },
   {
    "duration": 2,
    "start_time": "2025-03-06T03:19:19.923Z"
   },
   {
    "duration": 78,
    "start_time": "2025-03-06T03:19:21.720Z"
   },
   {
    "duration": 64,
    "start_time": "2025-03-06T03:19:26.424Z"
   },
   {
    "duration": 1004,
    "start_time": "2025-03-06T03:19:35.287Z"
   },
   {
    "duration": 23,
    "start_time": "2025-03-06T03:19:36.293Z"
   },
   {
    "duration": 23,
    "start_time": "2025-03-06T03:19:36.318Z"
   },
   {
    "duration": 4,
    "start_time": "2025-03-06T03:19:36.342Z"
   },
   {
    "duration": 5,
    "start_time": "2025-03-06T03:19:36.348Z"
   },
   {
    "duration": 566,
    "start_time": "2025-03-06T03:19:36.354Z"
   },
   {
    "duration": 530,
    "start_time": "2025-03-06T03:19:36.922Z"
   },
   {
    "duration": 489,
    "start_time": "2025-03-06T03:19:37.454Z"
   },
   {
    "duration": 8,
    "start_time": "2025-03-06T03:19:37.945Z"
   },
   {
    "duration": 15,
    "start_time": "2025-03-06T03:19:37.955Z"
   },
   {
    "duration": 4,
    "start_time": "2025-03-06T03:19:37.972Z"
   },
   {
    "duration": 5,
    "start_time": "2025-03-06T03:19:37.979Z"
   },
   {
    "duration": 25,
    "start_time": "2025-03-06T03:19:38.011Z"
   },
   {
    "duration": 9,
    "start_time": "2025-03-06T03:19:38.039Z"
   },
   {
    "duration": 4,
    "start_time": "2025-03-06T03:19:38.051Z"
   },
   {
    "duration": 4,
    "start_time": "2025-03-06T03:19:38.057Z"
   },
   {
    "duration": 3,
    "start_time": "2025-03-06T03:19:38.063Z"
   },
   {
    "duration": 471,
    "start_time": "2025-03-06T03:19:38.068Z"
   },
   {
    "duration": 0,
    "start_time": "2025-03-06T03:19:38.540Z"
   },
   {
    "duration": 0,
    "start_time": "2025-03-06T03:19:38.542Z"
   },
   {
    "duration": 0,
    "start_time": "2025-03-06T03:19:38.543Z"
   },
   {
    "duration": 0,
    "start_time": "2025-03-06T03:19:38.545Z"
   },
   {
    "duration": 0,
    "start_time": "2025-03-06T03:19:38.546Z"
   },
   {
    "duration": 941,
    "start_time": "2025-03-06T03:20:08.966Z"
   },
   {
    "duration": 27,
    "start_time": "2025-03-06T03:20:09.910Z"
   },
   {
    "duration": 31,
    "start_time": "2025-03-06T03:20:09.939Z"
   },
   {
    "duration": 4,
    "start_time": "2025-03-06T03:20:09.972Z"
   },
   {
    "duration": 4,
    "start_time": "2025-03-06T03:20:09.980Z"
   },
   {
    "duration": 574,
    "start_time": "2025-03-06T03:20:09.986Z"
   },
   {
    "duration": 512,
    "start_time": "2025-03-06T03:20:10.562Z"
   },
   {
    "duration": 530,
    "start_time": "2025-03-06T03:20:11.077Z"
   },
   {
    "duration": 8,
    "start_time": "2025-03-06T03:20:11.609Z"
   },
   {
    "duration": 14,
    "start_time": "2025-03-06T03:20:11.619Z"
   },
   {
    "duration": 4,
    "start_time": "2025-03-06T03:20:11.634Z"
   },
   {
    "duration": 4,
    "start_time": "2025-03-06T03:20:11.640Z"
   },
   {
    "duration": 13,
    "start_time": "2025-03-06T03:20:11.646Z"
   },
   {
    "duration": 5,
    "start_time": "2025-03-06T03:20:11.662Z"
   },
   {
    "duration": 44,
    "start_time": "2025-03-06T03:20:11.668Z"
   },
   {
    "duration": 5,
    "start_time": "2025-03-06T03:20:11.713Z"
   },
   {
    "duration": 3,
    "start_time": "2025-03-06T03:20:11.720Z"
   },
   {
    "duration": 477,
    "start_time": "2025-03-06T03:20:11.724Z"
   },
   {
    "duration": 0,
    "start_time": "2025-03-06T03:20:12.203Z"
   },
   {
    "duration": 0,
    "start_time": "2025-03-06T03:20:12.204Z"
   },
   {
    "duration": 0,
    "start_time": "2025-03-06T03:20:12.205Z"
   },
   {
    "duration": 0,
    "start_time": "2025-03-06T03:20:12.206Z"
   },
   {
    "duration": 0,
    "start_time": "2025-03-06T03:20:12.211Z"
   },
   {
    "duration": 118,
    "start_time": "2025-03-06T03:20:54.791Z"
   },
   {
    "duration": 85,
    "start_time": "2025-03-06T03:20:58.797Z"
   },
   {
    "duration": 6,
    "start_time": "2025-03-06T03:21:41.935Z"
   },
   {
    "duration": 13,
    "start_time": "2025-03-06T03:21:44.742Z"
   },
   {
    "duration": 6,
    "start_time": "2025-03-06T03:21:51.820Z"
   },
   {
    "duration": 12,
    "start_time": "2025-03-06T03:21:54.028Z"
   },
   {
    "duration": 4,
    "start_time": "2025-03-06T03:21:59.790Z"
   },
   {
    "duration": 5,
    "start_time": "2025-03-06T03:22:01.621Z"
   },
   {
    "duration": 14,
    "start_time": "2025-03-06T03:22:05.516Z"
   },
   {
    "duration": 5,
    "start_time": "2025-03-06T03:22:10.065Z"
   },
   {
    "duration": 7,
    "start_time": "2025-03-06T03:22:22.087Z"
   },
   {
    "duration": 11,
    "start_time": "2025-03-06T03:22:24.668Z"
   },
   {
    "duration": 3,
    "start_time": "2025-03-06T03:22:35.227Z"
   },
   {
    "duration": 6,
    "start_time": "2025-03-06T03:22:37.097Z"
   },
   {
    "duration": 14,
    "start_time": "2025-03-06T03:22:41.011Z"
   },
   {
    "duration": 5,
    "start_time": "2025-03-06T03:22:43.848Z"
   },
   {
    "duration": 9,
    "start_time": "2025-03-06T03:22:52.812Z"
   },
   {
    "duration": 12,
    "start_time": "2025-03-06T03:22:54.860Z"
   },
   {
    "duration": 6,
    "start_time": "2025-03-06T03:22:56.344Z"
   },
   {
    "duration": 13,
    "start_time": "2025-03-06T03:22:57.465Z"
   },
   {
    "duration": 3,
    "start_time": "2025-03-06T03:22:57.957Z"
   },
   {
    "duration": 6,
    "start_time": "2025-03-06T03:22:58.948Z"
   },
   {
    "duration": 15,
    "start_time": "2025-03-06T03:22:59.532Z"
   },
   {
    "duration": 5,
    "start_time": "2025-03-06T03:22:59.830Z"
   },
   {
    "duration": 4,
    "start_time": "2025-03-06T03:23:00.331Z"
   },
   {
    "duration": 4,
    "start_time": "2025-03-06T03:23:00.677Z"
   },
   {
    "duration": 3,
    "start_time": "2025-03-06T03:23:01.895Z"
   },
   {
    "duration": 64,
    "start_time": "2025-03-06T03:23:02.185Z"
   },
   {
    "duration": 129,
    "start_time": "2025-03-06T03:23:02.481Z"
   },
   {
    "duration": 64,
    "start_time": "2025-03-06T03:23:02.835Z"
   },
   {
    "duration": 27,
    "start_time": "2025-03-06T03:23:03.205Z"
   },
   {
    "duration": 471,
    "start_time": "2025-03-06T03:23:04.459Z"
   },
   {
    "duration": 229,
    "start_time": "2025-03-06T03:23:05.957Z"
   },
   {
    "duration": 6,
    "start_time": "2025-03-06T03:24:09.148Z"
   },
   {
    "duration": 12,
    "start_time": "2025-03-06T03:24:11.967Z"
   },
   {
    "duration": 3,
    "start_time": "2025-03-06T03:24:13.958Z"
   },
   {
    "duration": 7,
    "start_time": "2025-03-06T03:24:16.611Z"
   },
   {
    "duration": 12,
    "start_time": "2025-03-06T03:24:17.543Z"
   },
   {
    "duration": 4,
    "start_time": "2025-03-06T03:24:18.172Z"
   },
   {
    "duration": 5,
    "start_time": "2025-03-06T03:24:19.553Z"
   },
   {
    "duration": 13,
    "start_time": "2025-03-06T03:24:20.597Z"
   },
   {
    "duration": 6,
    "start_time": "2025-03-06T03:24:21.253Z"
   },
   {
    "duration": 4,
    "start_time": "2025-03-06T03:24:21.736Z"
   },
   {
    "duration": 3,
    "start_time": "2025-03-06T03:24:22.736Z"
   },
   {
    "duration": 6,
    "start_time": "2025-03-06T03:24:39.807Z"
   },
   {
    "duration": 7,
    "start_time": "2025-03-06T03:24:41.040Z"
   },
   {
    "duration": 14,
    "start_time": "2025-03-06T03:24:41.740Z"
   },
   {
    "duration": 4,
    "start_time": "2025-03-06T03:24:41.957Z"
   },
   {
    "duration": 6,
    "start_time": "2025-03-06T03:24:42.599Z"
   },
   {
    "duration": 15,
    "start_time": "2025-03-06T03:24:43.036Z"
   },
   {
    "duration": 5,
    "start_time": "2025-03-06T03:24:43.317Z"
   },
   {
    "duration": 4,
    "start_time": "2025-03-06T03:24:43.649Z"
   },
   {
    "duration": 3,
    "start_time": "2025-03-06T03:24:44.072Z"
   },
   {
    "duration": 7,
    "start_time": "2025-03-06T03:24:54.928Z"
   },
   {
    "duration": 6,
    "start_time": "2025-03-06T03:24:56.182Z"
   },
   {
    "duration": 14,
    "start_time": "2025-03-06T03:24:56.976Z"
   },
   {
    "duration": 5,
    "start_time": "2025-03-06T03:24:57.227Z"
   },
   {
    "duration": 5,
    "start_time": "2025-03-06T03:24:58.222Z"
   },
   {
    "duration": 14,
    "start_time": "2025-03-06T03:24:58.858Z"
   },
   {
    "duration": 5,
    "start_time": "2025-03-06T03:24:59.186Z"
   },
   {
    "duration": 4,
    "start_time": "2025-03-06T03:24:59.551Z"
   },
   {
    "duration": 3,
    "start_time": "2025-03-06T03:24:59.908Z"
   },
   {
    "duration": 5,
    "start_time": "2025-03-06T03:25:02.658Z"
   },
   {
    "duration": 7,
    "start_time": "2025-03-06T03:25:23.095Z"
   },
   {
    "duration": 6,
    "start_time": "2025-03-06T03:25:24.938Z"
   },
   {
    "duration": 12,
    "start_time": "2025-03-06T03:25:25.643Z"
   },
   {
    "duration": 3,
    "start_time": "2025-03-06T03:25:25.838Z"
   },
   {
    "duration": 6,
    "start_time": "2025-03-06T03:25:26.463Z"
   },
   {
    "duration": 16,
    "start_time": "2025-03-06T03:25:26.904Z"
   },
   {
    "duration": 6,
    "start_time": "2025-03-06T03:25:27.144Z"
   },
   {
    "duration": 6,
    "start_time": "2025-03-06T03:25:27.388Z"
   },
   {
    "duration": 3,
    "start_time": "2025-03-06T03:25:27.635Z"
   },
   {
    "duration": 4,
    "start_time": "2025-03-06T03:25:32.093Z"
   },
   {
    "duration": 65,
    "start_time": "2025-03-06T03:25:36.723Z"
   },
   {
    "duration": 63,
    "start_time": "2025-03-06T03:25:40.999Z"
   },
   {
    "duration": 66,
    "start_time": "2025-03-06T03:25:45.700Z"
   },
   {
    "duration": 30,
    "start_time": "2025-03-06T03:25:49.192Z"
   },
   {
    "duration": 1012,
    "start_time": "2025-03-06T03:25:51.002Z"
   },
   {
    "duration": 192,
    "start_time": "2025-03-06T03:25:56.644Z"
   },
   {
    "duration": 4,
    "start_time": "2025-03-06T03:27:31.800Z"
   },
   {
    "duration": 12,
    "start_time": "2025-03-06T03:27:34.258Z"
   },
   {
    "duration": 1007,
    "start_time": "2025-03-06T03:27:42.723Z"
   },
   {
    "duration": 24,
    "start_time": "2025-03-06T03:27:43.732Z"
   },
   {
    "duration": 22,
    "start_time": "2025-03-06T03:27:43.757Z"
   },
   {
    "duration": 4,
    "start_time": "2025-03-06T03:27:43.781Z"
   },
   {
    "duration": 5,
    "start_time": "2025-03-06T03:27:43.786Z"
   },
   {
    "duration": 553,
    "start_time": "2025-03-06T03:27:43.811Z"
   },
   {
    "duration": 514,
    "start_time": "2025-03-06T03:27:44.366Z"
   },
   {
    "duration": 537,
    "start_time": "2025-03-06T03:27:44.882Z"
   },
   {
    "duration": 6,
    "start_time": "2025-03-06T03:27:45.420Z"
   },
   {
    "duration": 10,
    "start_time": "2025-03-06T03:27:45.429Z"
   },
   {
    "duration": 5,
    "start_time": "2025-03-06T03:27:45.440Z"
   },
   {
    "duration": 5,
    "start_time": "2025-03-06T03:27:45.446Z"
   },
   {
    "duration": 9,
    "start_time": "2025-03-06T03:27:45.453Z"
   },
   {
    "duration": 5,
    "start_time": "2025-03-06T03:27:45.463Z"
   },
   {
    "duration": 4,
    "start_time": "2025-03-06T03:27:45.470Z"
   },
   {
    "duration": 38,
    "start_time": "2025-03-06T03:27:45.475Z"
   },
   {
    "duration": 3,
    "start_time": "2025-03-06T03:27:45.516Z"
   },
   {
    "duration": 7,
    "start_time": "2025-03-06T03:27:45.520Z"
   },
   {
    "duration": 101,
    "start_time": "2025-03-06T03:27:45.528Z"
   },
   {
    "duration": 7,
    "start_time": "2025-03-06T03:27:45.631Z"
   },
   {
    "duration": 75,
    "start_time": "2025-03-06T03:27:45.640Z"
   },
   {
    "duration": 514,
    "start_time": "2025-03-06T03:27:45.717Z"
   },
   {
    "duration": 7673,
    "start_time": "2025-03-06T03:27:46.234Z"
   },
   {
    "duration": 4,
    "start_time": "2025-03-06T03:28:45.055Z"
   },
   {
    "duration": 4,
    "start_time": "2025-03-06T03:29:04.538Z"
   },
   {
    "duration": 4,
    "start_time": "2025-03-06T03:29:06.340Z"
   },
   {
    "duration": 9,
    "start_time": "2025-03-06T03:29:07.352Z"
   },
   {
    "duration": 3,
    "start_time": "2025-03-06T03:29:07.572Z"
   },
   {
    "duration": 8,
    "start_time": "2025-03-06T03:29:08.748Z"
   },
   {
    "duration": 10,
    "start_time": "2025-03-06T03:29:09.278Z"
   },
   {
    "duration": 5,
    "start_time": "2025-03-06T03:29:09.581Z"
   },
   {
    "duration": 6,
    "start_time": "2025-03-06T03:29:09.836Z"
   },
   {
    "duration": 4,
    "start_time": "2025-03-06T03:29:10.098Z"
   },
   {
    "duration": 3,
    "start_time": "2025-03-06T03:29:10.939Z"
   },
   {
    "duration": 6,
    "start_time": "2025-03-06T03:29:11.235Z"
   },
   {
    "duration": 70,
    "start_time": "2025-03-06T03:29:11.531Z"
   },
   {
    "duration": 7,
    "start_time": "2025-03-06T03:29:11.800Z"
   },
   {
    "duration": 28,
    "start_time": "2025-03-06T03:29:12.078Z"
   },
   {
    "duration": 502,
    "start_time": "2025-03-06T03:29:12.912Z"
   },
   {
    "duration": 7798,
    "start_time": "2025-03-06T03:29:15.275Z"
   },
   {
    "duration": 1161,
    "start_time": "2025-03-06T03:31:08.691Z"
   },
   {
    "duration": 3,
    "start_time": "2025-03-06T03:31:42.772Z"
   },
   {
    "duration": 80,
    "start_time": "2025-03-06T03:31:50.073Z"
   },
   {
    "duration": 75,
    "start_time": "2025-03-06T03:32:10.191Z"
   },
   {
    "duration": 25,
    "start_time": "2025-03-06T03:33:12.244Z"
   },
   {
    "duration": 1032,
    "start_time": "2025-03-06T03:33:38.572Z"
   },
   {
    "duration": 23,
    "start_time": "2025-03-06T03:33:39.606Z"
   },
   {
    "duration": 22,
    "start_time": "2025-03-06T03:33:39.631Z"
   },
   {
    "duration": 3,
    "start_time": "2025-03-06T03:33:39.655Z"
   },
   {
    "duration": 4,
    "start_time": "2025-03-06T03:33:39.661Z"
   },
   {
    "duration": 581,
    "start_time": "2025-03-06T03:33:39.667Z"
   },
   {
    "duration": 500,
    "start_time": "2025-03-06T03:33:40.250Z"
   },
   {
    "duration": 503,
    "start_time": "2025-03-06T03:33:40.752Z"
   },
   {
    "duration": 1247,
    "start_time": "2025-03-06T03:33:41.257Z"
   },
   {
    "duration": 0,
    "start_time": "2025-03-06T03:33:42.506Z"
   },
   {
    "duration": 0,
    "start_time": "2025-03-06T03:33:42.507Z"
   },
   {
    "duration": 0,
    "start_time": "2025-03-06T03:33:42.508Z"
   },
   {
    "duration": 0,
    "start_time": "2025-03-06T03:33:42.509Z"
   },
   {
    "duration": 0,
    "start_time": "2025-03-06T03:33:42.510Z"
   },
   {
    "duration": 0,
    "start_time": "2025-03-06T03:33:42.512Z"
   },
   {
    "duration": 0,
    "start_time": "2025-03-06T03:33:42.513Z"
   },
   {
    "duration": 0,
    "start_time": "2025-03-06T03:33:42.515Z"
   },
   {
    "duration": 0,
    "start_time": "2025-03-06T03:33:42.517Z"
   },
   {
    "duration": 0,
    "start_time": "2025-03-06T03:33:42.518Z"
   },
   {
    "duration": 0,
    "start_time": "2025-03-06T03:33:42.520Z"
   },
   {
    "duration": 0,
    "start_time": "2025-03-06T03:33:42.521Z"
   },
   {
    "duration": 0,
    "start_time": "2025-03-06T03:33:42.522Z"
   },
   {
    "duration": 0,
    "start_time": "2025-03-06T03:33:42.524Z"
   },
   {
    "duration": 6,
    "start_time": "2025-03-06T03:34:27.981Z"
   },
   {
    "duration": 5,
    "start_time": "2025-03-06T03:34:31.038Z"
   },
   {
    "duration": 11,
    "start_time": "2025-03-06T03:34:31.714Z"
   },
   {
    "duration": 4,
    "start_time": "2025-03-06T03:34:31.922Z"
   },
   {
    "duration": 7,
    "start_time": "2025-03-06T03:34:32.505Z"
   },
   {
    "duration": 12,
    "start_time": "2025-03-06T03:34:32.944Z"
   },
   {
    "duration": 4,
    "start_time": "2025-03-06T03:34:33.163Z"
   },
   {
    "duration": 7,
    "start_time": "2025-03-06T03:34:33.384Z"
   },
   {
    "duration": 3,
    "start_time": "2025-03-06T03:34:33.611Z"
   },
   {
    "duration": 3,
    "start_time": "2025-03-06T03:34:34.317Z"
   },
   {
    "duration": 183,
    "start_time": "2025-03-06T03:34:34.538Z"
   },
   {
    "duration": 112,
    "start_time": "2025-03-06T03:34:34.748Z"
   },
   {
    "duration": 85,
    "start_time": "2025-03-06T03:34:34.973Z"
   },
   {
    "duration": 33,
    "start_time": "2025-03-06T03:34:36.279Z"
   },
   {
    "duration": 459,
    "start_time": "2025-03-06T03:34:36.753Z"
   },
   {
    "duration": 231,
    "start_time": "2025-03-06T03:34:37.263Z"
   },
   {
    "duration": 5,
    "start_time": "2025-03-06T03:35:00.557Z"
   },
   {
    "duration": 999,
    "start_time": "2025-03-06T03:35:07.885Z"
   },
   {
    "duration": 25,
    "start_time": "2025-03-06T03:35:08.887Z"
   },
   {
    "duration": 23,
    "start_time": "2025-03-06T03:35:08.914Z"
   },
   {
    "duration": 4,
    "start_time": "2025-03-06T03:35:08.939Z"
   },
   {
    "duration": 5,
    "start_time": "2025-03-06T03:35:08.946Z"
   },
   {
    "duration": 559,
    "start_time": "2025-03-06T03:35:08.953Z"
   },
   {
    "duration": 523,
    "start_time": "2025-03-06T03:35:09.514Z"
   },
   {
    "duration": 498,
    "start_time": "2025-03-06T03:35:10.040Z"
   },
   {
    "duration": 7,
    "start_time": "2025-03-06T03:35:10.540Z"
   },
   {
    "duration": 10,
    "start_time": "2025-03-06T03:35:10.548Z"
   },
   {
    "duration": 5,
    "start_time": "2025-03-06T03:35:10.559Z"
   },
   {
    "duration": 5,
    "start_time": "2025-03-06T03:35:10.567Z"
   },
   {
    "duration": 10,
    "start_time": "2025-03-06T03:35:10.574Z"
   },
   {
    "duration": 29,
    "start_time": "2025-03-06T03:35:10.586Z"
   },
   {
    "duration": 4,
    "start_time": "2025-03-06T03:35:10.617Z"
   },
   {
    "duration": 4,
    "start_time": "2025-03-06T03:35:10.623Z"
   },
   {
    "duration": 4,
    "start_time": "2025-03-06T03:35:10.628Z"
   },
   {
    "duration": 7,
    "start_time": "2025-03-06T03:35:10.633Z"
   },
   {
    "duration": 106,
    "start_time": "2025-03-06T03:35:10.641Z"
   },
   {
    "duration": 6,
    "start_time": "2025-03-06T03:35:10.749Z"
   },
   {
    "duration": 63,
    "start_time": "2025-03-06T03:35:10.757Z"
   },
   {
    "duration": 506,
    "start_time": "2025-03-06T03:35:10.822Z"
   },
   {
    "duration": 7750,
    "start_time": "2025-03-06T03:35:11.329Z"
   },
   {
    "duration": 6,
    "start_time": "2025-03-06T03:52:16.714Z"
   },
   {
    "duration": 7,
    "start_time": "2025-03-06T03:52:57.979Z"
   },
   {
    "duration": 73,
    "start_time": "2025-03-06T03:52:59.460Z"
   },
   {
    "duration": 1186,
    "start_time": "2025-03-06T04:02:53.684Z"
   },
   {
    "duration": 3,
    "start_time": "2025-03-06T04:03:11.795Z"
   },
   {
    "duration": 11,
    "start_time": "2025-03-06T04:03:14.229Z"
   },
   {
    "duration": 4,
    "start_time": "2025-03-06T04:03:18.012Z"
   },
   {
    "duration": 5,
    "start_time": "2025-03-06T04:03:19.702Z"
   },
   {
    "duration": 12,
    "start_time": "2025-03-06T04:03:23.032Z"
   },
   {
    "duration": 6,
    "start_time": "2025-03-06T04:03:25.355Z"
   },
   {
    "duration": 4,
    "start_time": "2025-03-06T04:03:27.357Z"
   },
   {
    "duration": 3,
    "start_time": "2025-03-06T04:03:28.571Z"
   },
   {
    "duration": 3,
    "start_time": "2025-03-06T04:03:30.543Z"
   },
   {
    "duration": 169,
    "start_time": "2025-03-06T04:03:32.876Z"
   },
   {
    "duration": 6,
    "start_time": "2025-03-06T04:04:18.742Z"
   },
   {
    "duration": 16,
    "start_time": "2025-03-06T04:04:20.747Z"
   },
   {
    "duration": 4,
    "start_time": "2025-03-06T04:04:25.121Z"
   },
   {
    "duration": 5,
    "start_time": "2025-03-06T04:04:26.822Z"
   },
   {
    "duration": 5,
    "start_time": "2025-03-06T04:04:30.381Z"
   },
   {
    "duration": 11,
    "start_time": "2025-03-06T04:04:30.785Z"
   },
   {
    "duration": 3,
    "start_time": "2025-03-06T04:04:31.118Z"
   },
   {
    "duration": 5,
    "start_time": "2025-03-06T04:04:32.164Z"
   },
   {
    "duration": 13,
    "start_time": "2025-03-06T04:04:32.817Z"
   },
   {
    "duration": 4,
    "start_time": "2025-03-06T04:04:33.224Z"
   },
   {
    "duration": 4,
    "start_time": "2025-03-06T04:04:33.783Z"
   },
   {
    "duration": 3,
    "start_time": "2025-03-06T04:04:34.356Z"
   },
   {
    "duration": 3,
    "start_time": "2025-03-06T04:04:36.147Z"
   },
   {
    "duration": 88,
    "start_time": "2025-03-06T04:04:37.201Z"
   },
   {
    "duration": 12,
    "start_time": "2025-03-06T04:04:53.684Z"
   },
   {
    "duration": 5,
    "start_time": "2025-03-06T04:04:56.290Z"
   },
   {
    "duration": 988,
    "start_time": "2025-03-06T04:05:02.764Z"
   },
   {
    "duration": 24,
    "start_time": "2025-03-06T04:05:03.754Z"
   },
   {
    "duration": 22,
    "start_time": "2025-03-06T04:05:03.779Z"
   },
   {
    "duration": 4,
    "start_time": "2025-03-06T04:05:03.811Z"
   },
   {
    "duration": 4,
    "start_time": "2025-03-06T04:05:03.817Z"
   },
   {
    "duration": 546,
    "start_time": "2025-03-06T04:05:03.822Z"
   },
   {
    "duration": 500,
    "start_time": "2025-03-06T04:05:04.370Z"
   },
   {
    "duration": 532,
    "start_time": "2025-03-06T04:05:04.872Z"
   },
   {
    "duration": 10,
    "start_time": "2025-03-06T04:05:05.406Z"
   },
   {
    "duration": 10,
    "start_time": "2025-03-06T04:05:05.418Z"
   },
   {
    "duration": 4,
    "start_time": "2025-03-06T04:05:05.430Z"
   },
   {
    "duration": 5,
    "start_time": "2025-03-06T04:05:05.435Z"
   },
   {
    "duration": 9,
    "start_time": "2025-03-06T04:05:05.441Z"
   },
   {
    "duration": 5,
    "start_time": "2025-03-06T04:05:05.453Z"
   },
   {
    "duration": 4,
    "start_time": "2025-03-06T04:05:05.461Z"
   },
   {
    "duration": 4,
    "start_time": "2025-03-06T04:05:05.466Z"
   },
   {
    "duration": 3,
    "start_time": "2025-03-06T04:05:05.513Z"
   },
   {
    "duration": 7,
    "start_time": "2025-03-06T04:05:05.517Z"
   },
   {
    "duration": 105,
    "start_time": "2025-03-06T04:05:05.526Z"
   },
   {
    "duration": 6,
    "start_time": "2025-03-06T04:05:05.634Z"
   },
   {
    "duration": 76,
    "start_time": "2025-03-06T04:05:05.642Z"
   },
   {
    "duration": 505,
    "start_time": "2025-03-06T04:05:05.721Z"
   },
   {
    "duration": 7712,
    "start_time": "2025-03-06T04:05:06.229Z"
   },
   {
    "duration": 271,
    "start_time": "2025-03-06T04:17:14.624Z"
   },
   {
    "duration": 18,
    "start_time": "2025-03-06T04:17:28.201Z"
   },
   {
    "duration": 31,
    "start_time": "2025-03-06T04:19:05.709Z"
   },
   {
    "duration": 27,
    "start_time": "2025-03-06T04:19:31.294Z"
   },
   {
    "duration": 1024,
    "start_time": "2025-03-06T04:19:38.167Z"
   },
   {
    "duration": 24,
    "start_time": "2025-03-06T04:19:39.193Z"
   },
   {
    "duration": 22,
    "start_time": "2025-03-06T04:19:39.219Z"
   },
   {
    "duration": 4,
    "start_time": "2025-03-06T04:19:39.243Z"
   },
   {
    "duration": 4,
    "start_time": "2025-03-06T04:19:39.248Z"
   },
   {
    "duration": 578,
    "start_time": "2025-03-06T04:19:39.254Z"
   },
   {
    "duration": 263,
    "start_time": "2025-03-06T04:19:39.834Z"
   },
   {
    "duration": 0,
    "start_time": "2025-03-06T04:19:40.100Z"
   },
   {
    "duration": 0,
    "start_time": "2025-03-06T04:19:40.101Z"
   },
   {
    "duration": 0,
    "start_time": "2025-03-06T04:19:40.103Z"
   },
   {
    "duration": 0,
    "start_time": "2025-03-06T04:19:40.112Z"
   },
   {
    "duration": 0,
    "start_time": "2025-03-06T04:19:40.113Z"
   },
   {
    "duration": 0,
    "start_time": "2025-03-06T04:19:40.115Z"
   },
   {
    "duration": 0,
    "start_time": "2025-03-06T04:19:40.116Z"
   },
   {
    "duration": 0,
    "start_time": "2025-03-06T04:19:40.118Z"
   },
   {
    "duration": 0,
    "start_time": "2025-03-06T04:19:40.119Z"
   },
   {
    "duration": 0,
    "start_time": "2025-03-06T04:19:40.121Z"
   },
   {
    "duration": 0,
    "start_time": "2025-03-06T04:19:40.122Z"
   },
   {
    "duration": 0,
    "start_time": "2025-03-06T04:19:40.124Z"
   },
   {
    "duration": 0,
    "start_time": "2025-03-06T04:19:40.125Z"
   },
   {
    "duration": 0,
    "start_time": "2025-03-06T04:19:40.126Z"
   },
   {
    "duration": 0,
    "start_time": "2025-03-06T04:19:40.128Z"
   },
   {
    "duration": 0,
    "start_time": "2025-03-06T04:19:40.129Z"
   },
   {
    "duration": 30,
    "start_time": "2025-03-06T04:20:13.864Z"
   },
   {
    "duration": 556,
    "start_time": "2025-03-06T04:20:33.618Z"
   },
   {
    "duration": 491,
    "start_time": "2025-03-06T04:20:45.162Z"
   },
   {
    "duration": 488,
    "start_time": "2025-03-06T04:20:50.653Z"
   },
   {
    "duration": 1019,
    "start_time": "2025-03-06T04:21:10.777Z"
   },
   {
    "duration": 28,
    "start_time": "2025-03-06T04:21:11.799Z"
   },
   {
    "duration": 25,
    "start_time": "2025-03-06T04:21:11.828Z"
   },
   {
    "duration": 3,
    "start_time": "2025-03-06T04:21:11.855Z"
   },
   {
    "duration": 10,
    "start_time": "2025-03-06T04:21:11.862Z"
   },
   {
    "duration": 599,
    "start_time": "2025-03-06T04:21:11.877Z"
   },
   {
    "duration": 527,
    "start_time": "2025-03-06T04:21:12.478Z"
   },
   {
    "duration": 546,
    "start_time": "2025-03-06T04:21:13.011Z"
   },
   {
    "duration": 7,
    "start_time": "2025-03-06T04:21:13.558Z"
   },
   {
    "duration": 9,
    "start_time": "2025-03-06T04:21:13.567Z"
   },
   {
    "duration": 3,
    "start_time": "2025-03-06T04:21:13.578Z"
   },
   {
    "duration": 4,
    "start_time": "2025-03-06T04:21:13.583Z"
   },
   {
    "duration": 31,
    "start_time": "2025-03-06T04:21:13.589Z"
   },
   {
    "duration": 4,
    "start_time": "2025-03-06T04:21:13.623Z"
   },
   {
    "duration": 4,
    "start_time": "2025-03-06T04:21:13.629Z"
   },
   {
    "duration": 4,
    "start_time": "2025-03-06T04:21:13.635Z"
   },
   {
    "duration": 3,
    "start_time": "2025-03-06T04:21:13.640Z"
   },
   {
    "duration": 7,
    "start_time": "2025-03-06T04:21:13.645Z"
   },
   {
    "duration": 108,
    "start_time": "2025-03-06T04:21:13.654Z"
   },
   {
    "duration": 6,
    "start_time": "2025-03-06T04:21:13.764Z"
   },
   {
    "duration": 52,
    "start_time": "2025-03-06T04:21:13.772Z"
   },
   {
    "duration": 515,
    "start_time": "2025-03-06T04:21:13.825Z"
   },
   {
    "duration": 7910,
    "start_time": "2025-03-06T04:21:14.343Z"
   },
   {
    "duration": 2745,
    "start_time": "2025-03-06T09:39:07.693Z"
   },
   {
    "duration": 31,
    "start_time": "2025-03-06T09:39:10.440Z"
   },
   {
    "duration": 25,
    "start_time": "2025-03-06T09:39:10.472Z"
   },
   {
    "duration": 3,
    "start_time": "2025-03-06T09:39:10.500Z"
   },
   {
    "duration": 22,
    "start_time": "2025-03-06T09:39:10.505Z"
   },
   {
    "duration": 540,
    "start_time": "2025-03-06T09:39:10.529Z"
   },
   {
    "duration": 579,
    "start_time": "2025-03-06T09:39:15.958Z"
   },
   {
    "duration": 517,
    "start_time": "2025-03-06T09:39:16.738Z"
   },
   {
    "duration": 3,
    "start_time": "2025-03-06T09:39:20.915Z"
   },
   {
    "duration": 5,
    "start_time": "2025-03-06T09:40:25.431Z"
   },
   {
    "duration": 21,
    "start_time": "2025-03-06T09:40:25.569Z"
   },
   {
    "duration": 61,
    "start_time": "2025-03-06T09:40:25.701Z"
   },
   {
    "duration": 4,
    "start_time": "2025-03-06T09:40:26.170Z"
   },
   {
    "duration": 499,
    "start_time": "2025-03-06T09:40:28.080Z"
   },
   {
    "duration": 4,
    "start_time": "2025-03-06T09:40:30.035Z"
   },
   {
    "duration": 3,
    "start_time": "2025-03-06T09:40:41.588Z"
   },
   {
    "duration": 21,
    "start_time": "2025-03-06T09:40:41.724Z"
   },
   {
    "duration": 25,
    "start_time": "2025-03-06T09:40:42.294Z"
   },
   {
    "duration": 4,
    "start_time": "2025-03-06T09:40:44.688Z"
   },
   {
    "duration": 7,
    "start_time": "2025-03-06T09:40:48.320Z"
   },
   {
    "duration": 4,
    "start_time": "2025-03-06T09:40:56.362Z"
   },
   {
    "duration": 2712,
    "start_time": "2025-03-06T11:55:46.590Z"
   },
   {
    "duration": 29,
    "start_time": "2025-03-06T11:55:49.304Z"
   },
   {
    "duration": 24,
    "start_time": "2025-03-06T11:55:49.334Z"
   },
   {
    "duration": 3,
    "start_time": "2025-03-06T11:55:49.361Z"
   },
   {
    "duration": 5,
    "start_time": "2025-03-06T11:55:49.366Z"
   },
   {
    "duration": 372,
    "start_time": "2025-03-06T11:55:49.373Z"
   },
   {
    "duration": 0,
    "start_time": "2025-03-06T11:55:49.747Z"
   },
   {
    "duration": 0,
    "start_time": "2025-03-06T11:55:49.748Z"
   },
   {
    "duration": 0,
    "start_time": "2025-03-06T11:55:49.749Z"
   },
   {
    "duration": 0,
    "start_time": "2025-03-06T11:55:49.751Z"
   },
   {
    "duration": 0,
    "start_time": "2025-03-06T11:55:49.752Z"
   },
   {
    "duration": 0,
    "start_time": "2025-03-06T11:55:49.753Z"
   },
   {
    "duration": 0,
    "start_time": "2025-03-06T11:55:49.754Z"
   },
   {
    "duration": 0,
    "start_time": "2025-03-06T11:55:49.754Z"
   },
   {
    "duration": 0,
    "start_time": "2025-03-06T11:55:49.755Z"
   },
   {
    "duration": 0,
    "start_time": "2025-03-06T11:55:49.757Z"
   },
   {
    "duration": 0,
    "start_time": "2025-03-06T11:55:49.758Z"
   },
   {
    "duration": 0,
    "start_time": "2025-03-06T11:55:49.759Z"
   },
   {
    "duration": 0,
    "start_time": "2025-03-06T11:55:49.760Z"
   },
   {
    "duration": 0,
    "start_time": "2025-03-06T11:55:49.761Z"
   },
   {
    "duration": 0,
    "start_time": "2025-03-06T11:55:49.762Z"
   },
   {
    "duration": 0,
    "start_time": "2025-03-06T11:55:49.764Z"
   },
   {
    "duration": 0,
    "start_time": "2025-03-06T11:55:49.765Z"
   },
   {
    "duration": 35,
    "start_time": "2025-03-06T11:56:18.841Z"
   },
   {
    "duration": 1277,
    "start_time": "2025-03-06T11:56:26.051Z"
   },
   {
    "duration": 8,
    "start_time": "2025-03-06T11:57:09.259Z"
   },
   {
    "duration": 10,
    "start_time": "2025-03-06T11:57:11.645Z"
   },
   {
    "duration": 1186,
    "start_time": "2025-03-06T11:57:15.004Z"
   },
   {
    "duration": 6,
    "start_time": "2025-03-06T11:57:17.351Z"
   },
   {
    "duration": 10,
    "start_time": "2025-03-06T11:57:18.249Z"
   },
   {
    "duration": 5,
    "start_time": "2025-03-06T11:57:18.503Z"
   },
   {
    "duration": 6,
    "start_time": "2025-03-06T11:57:19.179Z"
   },
   {
    "duration": 11,
    "start_time": "2025-03-06T11:57:19.637Z"
   },
   {
    "duration": 5,
    "start_time": "2025-03-06T11:57:19.850Z"
   },
   {
    "duration": 6,
    "start_time": "2025-03-06T11:57:20.074Z"
   },
   {
    "duration": 3,
    "start_time": "2025-03-06T11:57:20.301Z"
   },
   {
    "duration": 3,
    "start_time": "2025-03-06T11:57:21.011Z"
   },
   {
    "duration": 26,
    "start_time": "2025-03-06T11:57:21.261Z"
   },
   {
    "duration": 848,
    "start_time": "2025-03-06T11:57:21.698Z"
   },
   {
    "duration": 8,
    "start_time": "2025-03-06T11:57:22.548Z"
   },
   {
    "duration": 476,
    "start_time": "2025-03-06T11:57:22.558Z"
   },
   {
    "duration": 1721,
    "start_time": "2025-03-06T11:57:23.036Z"
   },
   {
    "duration": 97333,
    "start_time": "2025-03-06T11:57:24.759Z"
   },
   {
    "duration": 3724,
    "start_time": "2025-03-06T12:00:54.306Z"
   },
   {
    "duration": 1001,
    "start_time": "2025-03-06T12:01:51.044Z"
   },
   {
    "duration": 23,
    "start_time": "2025-03-06T12:01:52.048Z"
   },
   {
    "duration": 23,
    "start_time": "2025-03-06T12:01:52.072Z"
   },
   {
    "duration": 4,
    "start_time": "2025-03-06T12:01:52.096Z"
   },
   {
    "duration": 4,
    "start_time": "2025-03-06T12:01:52.102Z"
   },
   {
    "duration": 1340,
    "start_time": "2025-03-06T12:01:52.124Z"
   },
   {
    "duration": 8,
    "start_time": "2025-03-06T12:01:53.466Z"
   },
   {
    "duration": 9,
    "start_time": "2025-03-06T12:01:53.476Z"
   },
   {
    "duration": 5,
    "start_time": "2025-03-06T12:01:53.487Z"
   },
   {
    "duration": 5,
    "start_time": "2025-03-06T12:01:53.493Z"
   },
   {
    "duration": 10,
    "start_time": "2025-03-06T12:01:53.500Z"
   },
   {
    "duration": 5,
    "start_time": "2025-03-06T12:01:53.511Z"
   },
   {
    "duration": 8,
    "start_time": "2025-03-06T12:01:53.518Z"
   },
   {
    "duration": 3,
    "start_time": "2025-03-06T12:01:53.529Z"
   },
   {
    "duration": 4,
    "start_time": "2025-03-06T12:01:53.533Z"
   },
   {
    "duration": 26,
    "start_time": "2025-03-06T12:01:53.538Z"
   },
   {
    "duration": 864,
    "start_time": "2025-03-06T12:01:53.566Z"
   },
   {
    "duration": 8,
    "start_time": "2025-03-06T12:01:54.432Z"
   },
   {
    "duration": 488,
    "start_time": "2025-03-06T12:01:54.441Z"
   },
   {
    "duration": 1632,
    "start_time": "2025-03-06T12:01:54.931Z"
   },
   {
    "duration": 96225,
    "start_time": "2025-03-06T12:01:56.564Z"
   },
   {
    "duration": 3695,
    "start_time": "2025-03-06T12:03:32.791Z"
   },
   {
    "duration": 8,
    "start_time": "2025-03-06T12:18:07.026Z"
   },
   {
    "duration": 8,
    "start_time": "2025-03-06T12:18:16.871Z"
   },
   {
    "duration": 10,
    "start_time": "2025-03-06T12:19:13.677Z"
   },
   {
    "duration": 332,
    "start_time": "2025-03-06T12:19:15.598Z"
   },
   {
    "duration": 1817,
    "start_time": "2025-03-06T12:19:17.421Z"
   },
   {
    "duration": 170,
    "start_time": "2025-03-06T14:37:07.598Z"
   },
   {
    "duration": 2777,
    "start_time": "2025-03-06T14:37:20.376Z"
   },
   {
    "duration": 38,
    "start_time": "2025-03-06T14:37:23.155Z"
   },
   {
    "duration": 29,
    "start_time": "2025-03-06T14:37:23.195Z"
   },
   {
    "duration": 4,
    "start_time": "2025-03-06T14:37:23.226Z"
   },
   {
    "duration": 81,
    "start_time": "2025-03-06T14:37:23.232Z"
   },
   {
    "duration": 1337,
    "start_time": "2025-03-06T14:37:26.681Z"
   },
   {
    "duration": 1235,
    "start_time": "2025-03-06T14:38:40.340Z"
   },
   {
    "duration": 1070,
    "start_time": "2025-03-06T14:38:59.250Z"
   },
   {
    "duration": 24,
    "start_time": "2025-03-06T14:39:00.322Z"
   },
   {
    "duration": 24,
    "start_time": "2025-03-06T14:39:00.347Z"
   },
   {
    "duration": 4,
    "start_time": "2025-03-06T14:39:00.373Z"
   },
   {
    "duration": 28,
    "start_time": "2025-03-06T14:39:00.378Z"
   },
   {
    "duration": 1318,
    "start_time": "2025-03-06T14:39:00.408Z"
   },
   {
    "duration": 8,
    "start_time": "2025-03-06T14:39:01.728Z"
   },
   {
    "duration": 9,
    "start_time": "2025-03-06T14:39:01.737Z"
   },
   {
    "duration": 4,
    "start_time": "2025-03-06T14:39:01.749Z"
   },
   {
    "duration": 4,
    "start_time": "2025-03-06T14:39:01.757Z"
   },
   {
    "duration": 10,
    "start_time": "2025-03-06T14:39:01.763Z"
   },
   {
    "duration": 5,
    "start_time": "2025-03-06T14:39:01.775Z"
   },
   {
    "duration": 4,
    "start_time": "2025-03-06T14:39:01.782Z"
   },
   {
    "duration": 20,
    "start_time": "2025-03-06T14:39:01.788Z"
   },
   {
    "duration": 4,
    "start_time": "2025-03-06T14:39:01.811Z"
   },
   {
    "duration": 29,
    "start_time": "2025-03-06T14:39:01.816Z"
   },
   {
    "duration": 886,
    "start_time": "2025-03-06T14:39:01.846Z"
   },
   {
    "duration": 454,
    "start_time": "2025-03-06T14:39:02.734Z"
   },
   {
    "duration": 0,
    "start_time": "2025-03-06T14:39:03.190Z"
   },
   {
    "duration": 0,
    "start_time": "2025-03-06T14:39:03.191Z"
   },
   {
    "duration": 0,
    "start_time": "2025-03-06T14:39:03.192Z"
   },
   {
    "duration": 0,
    "start_time": "2025-03-06T14:39:03.193Z"
   },
   {
    "duration": 131,
    "start_time": "2025-03-06T14:39:41.476Z"
   },
   {
    "duration": 466,
    "start_time": "2025-03-06T14:39:46.340Z"
   },
   {
    "duration": 1665,
    "start_time": "2025-03-06T14:39:48.758Z"
   },
   {
    "duration": 95740,
    "start_time": "2025-03-06T14:39:52.533Z"
   },
   {
    "duration": 3737,
    "start_time": "2025-03-06T14:41:28.276Z"
   },
   {
    "duration": 8,
    "start_time": "2025-03-06T14:41:52.404Z"
   },
   {
    "duration": 382,
    "start_time": "2025-03-06T14:41:56.234Z"
   },
   {
    "duration": 1757,
    "start_time": "2025-03-06T14:41:58.460Z"
   },
   {
    "duration": 94585,
    "start_time": "2025-03-06T14:42:02.196Z"
   },
   {
    "duration": 252,
    "start_time": "2025-03-06T15:03:36.870Z"
   },
   {
    "duration": 79,
    "start_time": "2025-03-06T15:03:55.289Z"
   },
   {
    "duration": 1073,
    "start_time": "2025-03-06T15:05:53.257Z"
   },
   {
    "duration": 26,
    "start_time": "2025-03-06T15:05:54.333Z"
   },
   {
    "duration": 25,
    "start_time": "2025-03-06T15:05:54.361Z"
   },
   {
    "duration": 3,
    "start_time": "2025-03-06T15:05:54.389Z"
   },
   {
    "duration": 15,
    "start_time": "2025-03-06T15:05:54.394Z"
   },
   {
    "duration": 1295,
    "start_time": "2025-03-06T15:05:54.411Z"
   },
   {
    "duration": 8,
    "start_time": "2025-03-06T15:05:55.707Z"
   },
   {
    "duration": 11,
    "start_time": "2025-03-06T15:05:55.717Z"
   },
   {
    "duration": 4,
    "start_time": "2025-03-06T15:05:55.731Z"
   },
   {
    "duration": 5,
    "start_time": "2025-03-06T15:05:55.737Z"
   },
   {
    "duration": 10,
    "start_time": "2025-03-06T15:05:55.744Z"
   },
   {
    "duration": 5,
    "start_time": "2025-03-06T15:05:55.756Z"
   },
   {
    "duration": 43,
    "start_time": "2025-03-06T15:05:55.763Z"
   },
   {
    "duration": 3,
    "start_time": "2025-03-06T15:05:55.810Z"
   },
   {
    "duration": 4,
    "start_time": "2025-03-06T15:05:55.815Z"
   },
   {
    "duration": 27,
    "start_time": "2025-03-06T15:05:55.821Z"
   },
   {
    "duration": 871,
    "start_time": "2025-03-06T15:05:55.850Z"
   },
   {
    "duration": 8,
    "start_time": "2025-03-06T15:05:56.723Z"
   },
   {
    "duration": 584,
    "start_time": "2025-03-06T15:05:56.733Z"
   },
   {
    "duration": 1894,
    "start_time": "2025-03-06T15:05:57.321Z"
   },
   {
    "duration": 635,
    "start_time": "2025-03-06T15:05:59.217Z"
   },
   {
    "duration": 0,
    "start_time": "2025-03-06T15:05:59.854Z"
   },
   {
    "duration": 1050,
    "start_time": "2025-03-06T15:09:23.506Z"
   },
   {
    "duration": 25,
    "start_time": "2025-03-06T15:09:24.558Z"
   },
   {
    "duration": 31,
    "start_time": "2025-03-06T15:09:24.584Z"
   },
   {
    "duration": 4,
    "start_time": "2025-03-06T15:09:24.618Z"
   },
   {
    "duration": 7,
    "start_time": "2025-03-06T15:09:24.624Z"
   },
   {
    "duration": 1329,
    "start_time": "2025-03-06T15:09:24.632Z"
   },
   {
    "duration": 9,
    "start_time": "2025-03-06T15:09:25.964Z"
   },
   {
    "duration": 9,
    "start_time": "2025-03-06T15:09:25.974Z"
   },
   {
    "duration": 4,
    "start_time": "2025-03-06T15:09:25.985Z"
   },
   {
    "duration": 14,
    "start_time": "2025-03-06T15:09:25.992Z"
   },
   {
    "duration": 10,
    "start_time": "2025-03-06T15:09:26.007Z"
   },
   {
    "duration": 5,
    "start_time": "2025-03-06T15:09:26.019Z"
   },
   {
    "duration": 5,
    "start_time": "2025-03-06T15:09:26.025Z"
   },
   {
    "duration": 4,
    "start_time": "2025-03-06T15:09:26.032Z"
   },
   {
    "duration": 3,
    "start_time": "2025-03-06T15:09:26.038Z"
   },
   {
    "duration": 62,
    "start_time": "2025-03-06T15:09:26.043Z"
   },
   {
    "duration": 944,
    "start_time": "2025-03-06T15:09:26.107Z"
   },
   {
    "duration": 8,
    "start_time": "2025-03-06T15:09:27.053Z"
   },
   {
    "duration": 557,
    "start_time": "2025-03-06T15:09:27.063Z"
   },
   {
    "duration": 4099,
    "start_time": "2025-03-06T15:09:27.623Z"
   },
   {
    "duration": 707,
    "start_time": "2025-03-06T15:09:31.724Z"
   },
   {
    "duration": 0,
    "start_time": "2025-03-06T15:09:32.435Z"
   },
   {
    "duration": 116174,
    "start_time": "2025-03-06T15:12:27.750Z"
   },
   {
    "duration": 3802,
    "start_time": "2025-03-06T15:14:27.927Z"
   },
   {
    "duration": 85997,
    "start_time": "2025-03-06T15:15:19.025Z"
   },
   {
    "duration": 51,
    "start_time": "2025-03-06T15:19:59.895Z"
   },
   {
    "duration": 21,
    "start_time": "2025-03-06T15:20:34.655Z"
   },
   {
    "duration": 184,
    "start_time": "2025-03-06T15:21:07.930Z"
   },
   {
    "duration": 20,
    "start_time": "2025-03-06T15:22:00.236Z"
   },
   {
    "duration": 157,
    "start_time": "2025-03-06T15:22:34.657Z"
   },
   {
    "duration": 1089,
    "start_time": "2025-03-06T15:22:44.237Z"
   },
   {
    "duration": 29,
    "start_time": "2025-03-06T15:22:45.330Z"
   },
   {
    "duration": 25,
    "start_time": "2025-03-06T15:22:45.364Z"
   },
   {
    "duration": 16,
    "start_time": "2025-03-06T15:22:45.391Z"
   },
   {
    "duration": 6,
    "start_time": "2025-03-06T15:22:45.409Z"
   },
   {
    "duration": 1312,
    "start_time": "2025-03-06T15:22:45.417Z"
   },
   {
    "duration": 9,
    "start_time": "2025-03-06T15:22:46.731Z"
   },
   {
    "duration": 9,
    "start_time": "2025-03-06T15:22:46.742Z"
   },
   {
    "duration": 5,
    "start_time": "2025-03-06T15:22:46.754Z"
   },
   {
    "duration": 5,
    "start_time": "2025-03-06T15:22:46.760Z"
   },
   {
    "duration": 10,
    "start_time": "2025-03-06T15:22:46.767Z"
   },
   {
    "duration": 5,
    "start_time": "2025-03-06T15:22:46.779Z"
   },
   {
    "duration": 5,
    "start_time": "2025-03-06T15:22:46.805Z"
   },
   {
    "duration": 3,
    "start_time": "2025-03-06T15:22:46.813Z"
   },
   {
    "duration": 3,
    "start_time": "2025-03-06T15:22:46.819Z"
   },
   {
    "duration": 26,
    "start_time": "2025-03-06T15:22:46.824Z"
   },
   {
    "duration": 876,
    "start_time": "2025-03-06T15:22:46.852Z"
   },
   {
    "duration": 9,
    "start_time": "2025-03-06T15:22:47.730Z"
   },
   {
    "duration": 572,
    "start_time": "2025-03-06T15:22:47.740Z"
   },
   {
    "duration": 1819,
    "start_time": "2025-03-06T15:22:48.315Z"
   },
   {
    "duration": 89600,
    "start_time": "2025-03-06T15:22:50.206Z"
   },
   {
    "duration": 215,
    "start_time": "2025-03-06T15:24:19.808Z"
   },
   {
    "duration": 31067,
    "start_time": "2025-03-06T15:40:14.155Z"
   },
   {
    "duration": 5519,
    "start_time": "2025-03-06T15:41:05.395Z"
   },
   {
    "duration": 6,
    "start_time": "2025-03-06T15:45:00.117Z"
   },
   {
    "duration": 1063,
    "start_time": "2025-03-06T15:50:13.068Z"
   },
   {
    "duration": 33,
    "start_time": "2025-03-06T15:50:14.134Z"
   },
   {
    "duration": 24,
    "start_time": "2025-03-06T15:50:14.169Z"
   },
   {
    "duration": 10,
    "start_time": "2025-03-06T15:50:14.195Z"
   },
   {
    "duration": 5,
    "start_time": "2025-03-06T15:50:14.206Z"
   },
   {
    "duration": 1293,
    "start_time": "2025-03-06T15:50:14.213Z"
   },
   {
    "duration": 9,
    "start_time": "2025-03-06T15:50:15.507Z"
   },
   {
    "duration": 11,
    "start_time": "2025-03-06T15:50:15.517Z"
   },
   {
    "duration": 5,
    "start_time": "2025-03-06T15:50:15.530Z"
   },
   {
    "duration": 6,
    "start_time": "2025-03-06T15:50:15.539Z"
   },
   {
    "duration": 10,
    "start_time": "2025-03-06T15:50:15.546Z"
   },
   {
    "duration": 5,
    "start_time": "2025-03-06T15:50:15.558Z"
   },
   {
    "duration": 43,
    "start_time": "2025-03-06T15:50:15.565Z"
   },
   {
    "duration": 4,
    "start_time": "2025-03-06T15:50:15.610Z"
   },
   {
    "duration": 3,
    "start_time": "2025-03-06T15:50:15.616Z"
   },
   {
    "duration": 27,
    "start_time": "2025-03-06T15:50:15.621Z"
   },
   {
    "duration": 874,
    "start_time": "2025-03-06T15:50:15.650Z"
   },
   {
    "duration": 8,
    "start_time": "2025-03-06T15:50:16.526Z"
   },
   {
    "duration": 579,
    "start_time": "2025-03-06T15:50:16.537Z"
   },
   {
    "duration": 1887,
    "start_time": "2025-03-06T15:50:17.117Z"
   },
   {
    "duration": 302819,
    "start_time": "2025-03-06T15:50:19.006Z"
   },
   {
    "duration": 209,
    "start_time": "2025-03-06T15:55:21.904Z"
   },
   {
    "duration": 412,
    "start_time": "2025-03-06T15:56:14.401Z"
   },
   {
    "duration": 426,
    "start_time": "2025-03-06T16:10:33.648Z"
   },
   {
    "duration": 27,
    "start_time": "2025-03-06T16:10:45.720Z"
   },
   {
    "duration": 880,
    "start_time": "2025-03-06T16:11:12.822Z"
   },
   {
    "duration": 7,
    "start_time": "2025-03-06T16:11:20.025Z"
   },
   {
    "duration": 400,
    "start_time": "2025-03-06T16:11:41.724Z"
   },
   {
    "duration": 1738,
    "start_time": "2025-03-06T16:11:46.275Z"
   },
   {
    "duration": 1189,
    "start_time": "2025-03-06T16:18:31.951Z"
   },
   {
    "duration": 25,
    "start_time": "2025-03-06T16:18:33.143Z"
   },
   {
    "duration": 35,
    "start_time": "2025-03-06T16:18:33.170Z"
   },
   {
    "duration": 3,
    "start_time": "2025-03-06T16:18:33.209Z"
   },
   {
    "duration": 12,
    "start_time": "2025-03-06T16:18:33.216Z"
   },
   {
    "duration": 1451,
    "start_time": "2025-03-06T16:18:33.230Z"
   },
   {
    "duration": 8,
    "start_time": "2025-03-06T16:18:34.684Z"
   },
   {
    "duration": 9,
    "start_time": "2025-03-06T16:18:34.694Z"
   },
   {
    "duration": 4,
    "start_time": "2025-03-06T16:18:34.705Z"
   },
   {
    "duration": 8,
    "start_time": "2025-03-06T16:18:34.712Z"
   },
   {
    "duration": 11,
    "start_time": "2025-03-06T16:18:34.722Z"
   },
   {
    "duration": 6,
    "start_time": "2025-03-06T16:18:34.735Z"
   },
   {
    "duration": 7,
    "start_time": "2025-03-06T16:18:34.743Z"
   },
   {
    "duration": 5,
    "start_time": "2025-03-06T16:18:34.753Z"
   },
   {
    "duration": 4,
    "start_time": "2025-03-06T16:18:34.760Z"
   },
   {
    "duration": 65,
    "start_time": "2025-03-06T16:18:34.766Z"
   },
   {
    "duration": 985,
    "start_time": "2025-03-06T16:18:34.834Z"
   },
   {
    "duration": 9,
    "start_time": "2025-03-06T16:18:35.820Z"
   },
   {
    "duration": 681,
    "start_time": "2025-03-06T16:18:35.831Z"
   },
   {
    "duration": 2006,
    "start_time": "2025-03-06T16:18:36.514Z"
   },
   {
    "duration": 2228,
    "start_time": "2025-03-06T16:18:38.522Z"
   },
   {
    "duration": 369,
    "start_time": "2025-03-06T16:18:40.752Z"
   },
   {
    "duration": 2,
    "start_time": "2025-03-06T16:18:41.126Z"
   },
   {
    "duration": 4,
    "start_time": "2025-03-06T16:20:47.491Z"
   },
   {
    "duration": 4,
    "start_time": "2025-03-06T16:21:19.766Z"
   },
   {
    "duration": 26,
    "start_time": "2025-03-06T16:21:32.486Z"
   },
   {
    "duration": 1115,
    "start_time": "2025-03-06T16:27:10.214Z"
   },
   {
    "duration": 25,
    "start_time": "2025-03-06T16:27:11.331Z"
   },
   {
    "duration": 24,
    "start_time": "2025-03-06T16:27:11.358Z"
   },
   {
    "duration": 4,
    "start_time": "2025-03-06T16:27:11.384Z"
   },
   {
    "duration": 22,
    "start_time": "2025-03-06T16:27:11.389Z"
   },
   {
    "duration": 1372,
    "start_time": "2025-03-06T16:27:11.413Z"
   },
   {
    "duration": 9,
    "start_time": "2025-03-06T16:27:12.787Z"
   },
   {
    "duration": 10,
    "start_time": "2025-03-06T16:27:12.797Z"
   },
   {
    "duration": 5,
    "start_time": "2025-03-06T16:27:12.809Z"
   },
   {
    "duration": 5,
    "start_time": "2025-03-06T16:27:12.820Z"
   },
   {
    "duration": 10,
    "start_time": "2025-03-06T16:27:12.827Z"
   },
   {
    "duration": 5,
    "start_time": "2025-03-06T16:27:12.839Z"
   },
   {
    "duration": 5,
    "start_time": "2025-03-06T16:27:12.845Z"
   },
   {
    "duration": 5,
    "start_time": "2025-03-06T16:27:12.851Z"
   },
   {
    "duration": 4,
    "start_time": "2025-03-06T16:27:12.857Z"
   },
   {
    "duration": 67,
    "start_time": "2025-03-06T16:27:12.862Z"
   },
   {
    "duration": 883,
    "start_time": "2025-03-06T16:27:12.932Z"
   },
   {
    "duration": 8,
    "start_time": "2025-03-06T16:27:13.818Z"
   },
   {
    "duration": 593,
    "start_time": "2025-03-06T16:27:13.828Z"
   },
   {
    "duration": 1898,
    "start_time": "2025-03-06T16:27:14.423Z"
   },
   {
    "duration": 2176,
    "start_time": "2025-03-06T16:27:16.322Z"
   },
   {
    "duration": 24,
    "start_time": "2025-03-06T16:27:18.500Z"
   },
   {
    "duration": 3,
    "start_time": "2025-03-06T16:27:18.526Z"
   },
   {
    "duration": 1074,
    "start_time": "2025-03-06T17:05:12.966Z"
   },
   {
    "duration": 27,
    "start_time": "2025-03-06T17:05:14.043Z"
   },
   {
    "duration": 25,
    "start_time": "2025-03-06T17:05:14.071Z"
   },
   {
    "duration": 3,
    "start_time": "2025-03-06T17:05:14.106Z"
   },
   {
    "duration": 5,
    "start_time": "2025-03-06T17:05:14.113Z"
   },
   {
    "duration": 1350,
    "start_time": "2025-03-06T17:05:14.119Z"
   },
   {
    "duration": 9,
    "start_time": "2025-03-06T17:05:15.472Z"
   },
   {
    "duration": 10,
    "start_time": "2025-03-06T17:05:15.482Z"
   },
   {
    "duration": 12,
    "start_time": "2025-03-06T17:05:15.493Z"
   },
   {
    "duration": 9,
    "start_time": "2025-03-06T17:05:15.507Z"
   },
   {
    "duration": 11,
    "start_time": "2025-03-06T17:05:15.517Z"
   },
   {
    "duration": 5,
    "start_time": "2025-03-06T17:05:15.530Z"
   },
   {
    "duration": 4,
    "start_time": "2025-03-06T17:05:15.537Z"
   },
   {
    "duration": 4,
    "start_time": "2025-03-06T17:05:15.544Z"
   },
   {
    "duration": 4,
    "start_time": "2025-03-06T17:05:15.549Z"
   },
   {
    "duration": 63,
    "start_time": "2025-03-06T17:05:15.554Z"
   },
   {
    "duration": 887,
    "start_time": "2025-03-06T17:05:15.620Z"
   },
   {
    "duration": 12,
    "start_time": "2025-03-06T17:05:16.509Z"
   },
   {
    "duration": 588,
    "start_time": "2025-03-06T17:05:16.523Z"
   },
   {
    "duration": 1806,
    "start_time": "2025-03-06T17:05:17.113Z"
   },
   {
    "duration": 2166,
    "start_time": "2025-03-06T17:05:18.922Z"
   },
   {
    "duration": 31,
    "start_time": "2025-03-06T17:05:21.091Z"
   },
   {
    "duration": 9,
    "start_time": "2025-03-06T18:43:22.896Z"
   },
   {
    "duration": 159,
    "start_time": "2025-03-06T20:30:06.919Z"
   },
   {
    "duration": 2763,
    "start_time": "2025-03-06T20:30:15.173Z"
   },
   {
    "duration": 30,
    "start_time": "2025-03-06T20:30:17.938Z"
   },
   {
    "duration": 24,
    "start_time": "2025-03-06T20:30:17.969Z"
   },
   {
    "duration": 3,
    "start_time": "2025-03-06T20:30:17.996Z"
   },
   {
    "duration": 5,
    "start_time": "2025-03-06T20:30:18.001Z"
   },
   {
    "duration": 1368,
    "start_time": "2025-03-06T20:30:18.008Z"
   },
   {
    "duration": 8,
    "start_time": "2025-03-06T20:30:19.379Z"
   },
   {
    "duration": 9,
    "start_time": "2025-03-06T20:30:19.389Z"
   },
   {
    "duration": 4,
    "start_time": "2025-03-06T20:30:19.400Z"
   },
   {
    "duration": 5,
    "start_time": "2025-03-06T20:30:19.407Z"
   },
   {
    "duration": 22,
    "start_time": "2025-03-06T20:30:19.413Z"
   },
   {
    "duration": 5,
    "start_time": "2025-03-06T20:30:19.437Z"
   },
   {
    "duration": 4,
    "start_time": "2025-03-06T20:30:19.445Z"
   },
   {
    "duration": 5,
    "start_time": "2025-03-06T20:30:19.451Z"
   },
   {
    "duration": 4,
    "start_time": "2025-03-06T20:30:19.457Z"
   },
   {
    "duration": 27,
    "start_time": "2025-03-06T20:30:19.463Z"
   },
   {
    "duration": 906,
    "start_time": "2025-03-06T20:30:19.492Z"
   },
   {
    "duration": 36,
    "start_time": "2025-03-06T20:30:20.400Z"
   },
   {
    "duration": 500,
    "start_time": "2025-03-06T20:30:20.437Z"
   },
   {
    "duration": 1802,
    "start_time": "2025-03-06T20:30:20.941Z"
   },
   {
    "duration": 2115,
    "start_time": "2025-03-06T20:30:22.744Z"
   },
   {
    "duration": 23,
    "start_time": "2025-03-06T20:30:24.861Z"
   },
   {
    "duration": 545,
    "start_time": "2025-03-06T20:31:53.632Z"
   },
   {
    "duration": 6,
    "start_time": "2025-03-06T20:32:58.067Z"
   },
   {
    "duration": 4,
    "start_time": "2025-03-06T20:33:06.800Z"
   },
   {
    "duration": 8,
    "start_time": "2025-03-06T20:33:16.879Z"
   },
   {
    "duration": 4,
    "start_time": "2025-03-06T20:33:27.381Z"
   },
   {
    "duration": 5,
    "start_time": "2025-03-06T20:33:32.763Z"
   },
   {
    "duration": 10,
    "start_time": "2025-03-06T20:33:34.576Z"
   },
   {
    "duration": 6,
    "start_time": "2025-03-06T20:33:37.079Z"
   },
   {
    "duration": 4,
    "start_time": "2025-03-06T20:33:40.125Z"
   },
   {
    "duration": 3,
    "start_time": "2025-03-06T20:33:42.160Z"
   },
   {
    "duration": 3,
    "start_time": "2025-03-06T20:33:44.101Z"
   },
   {
    "duration": 11,
    "start_time": "2025-03-06T20:33:47.163Z"
   },
   {
    "duration": 223,
    "start_time": "2025-03-06T20:33:48.728Z"
   },
   {
    "duration": 11,
    "start_time": "2025-03-06T20:33:50.600Z"
   },
   {
    "duration": 288,
    "start_time": "2025-03-06T20:33:52.745Z"
   },
   {
    "duration": 710,
    "start_time": "2025-03-06T20:33:54.753Z"
   },
   {
    "duration": 791,
    "start_time": "2025-03-06T20:33:57.341Z"
   },
   {
    "duration": 10,
    "start_time": "2025-03-06T20:35:31.042Z"
   },
   {
    "duration": 772,
    "start_time": "2025-03-06T20:36:54.259Z"
   },
   {
    "duration": 10,
    "start_time": "2025-03-06T20:37:11.859Z"
   },
   {
    "duration": 792,
    "start_time": "2025-03-06T20:37:40.997Z"
   },
   {
    "duration": 768,
    "start_time": "2025-03-06T20:37:44.447Z"
   },
   {
    "duration": 644,
    "start_time": "2025-03-06T20:43:17.462Z"
   },
   {
    "duration": 1051,
    "start_time": "2025-03-06T20:49:36.011Z"
   },
   {
    "duration": 25,
    "start_time": "2025-03-06T20:49:37.064Z"
   },
   {
    "duration": 22,
    "start_time": "2025-03-06T20:49:37.091Z"
   },
   {
    "duration": 15,
    "start_time": "2025-03-06T20:49:37.115Z"
   },
   {
    "duration": 5,
    "start_time": "2025-03-06T20:49:37.134Z"
   },
   {
    "duration": 587,
    "start_time": "2025-03-06T20:49:37.140Z"
   },
   {
    "duration": 8,
    "start_time": "2025-03-06T20:49:37.729Z"
   },
   {
    "duration": 11,
    "start_time": "2025-03-06T20:49:37.739Z"
   },
   {
    "duration": 4,
    "start_time": "2025-03-06T20:49:37.751Z"
   },
   {
    "duration": 5,
    "start_time": "2025-03-06T20:49:37.757Z"
   },
   {
    "duration": 10,
    "start_time": "2025-03-06T20:49:37.763Z"
   },
   {
    "duration": 6,
    "start_time": "2025-03-06T20:49:37.774Z"
   },
   {
    "duration": 4,
    "start_time": "2025-03-06T20:49:37.781Z"
   },
   {
    "duration": 3,
    "start_time": "2025-03-06T20:49:37.788Z"
   },
   {
    "duration": 41,
    "start_time": "2025-03-06T20:49:37.792Z"
   },
   {
    "duration": 12,
    "start_time": "2025-03-06T20:49:37.834Z"
   },
   {
    "duration": 244,
    "start_time": "2025-03-06T20:49:37.848Z"
   },
   {
    "duration": 38,
    "start_time": "2025-03-06T20:49:38.094Z"
   },
   {
    "duration": 406,
    "start_time": "2025-03-06T20:49:38.133Z"
   },
   {
    "duration": 807,
    "start_time": "2025-03-06T20:49:38.541Z"
   },
   {
    "duration": 1020,
    "start_time": "2025-03-06T20:54:29.494Z"
   },
   {
    "duration": 23,
    "start_time": "2025-03-06T20:54:30.517Z"
   },
   {
    "duration": 24,
    "start_time": "2025-03-06T20:54:30.542Z"
   },
   {
    "duration": 4,
    "start_time": "2025-03-06T20:54:30.568Z"
   },
   {
    "duration": 8,
    "start_time": "2025-03-06T20:54:30.573Z"
   },
   {
    "duration": 626,
    "start_time": "2025-03-06T20:54:30.582Z"
   },
   {
    "duration": 6,
    "start_time": "2025-03-06T20:54:31.210Z"
   },
   {
    "duration": 9,
    "start_time": "2025-03-06T20:54:31.217Z"
   },
   {
    "duration": 3,
    "start_time": "2025-03-06T20:54:31.228Z"
   },
   {
    "duration": 5,
    "start_time": "2025-03-06T20:54:31.234Z"
   },
   {
    "duration": 8,
    "start_time": "2025-03-06T20:54:31.241Z"
   },
   {
    "duration": 4,
    "start_time": "2025-03-06T20:54:31.251Z"
   },
   {
    "duration": 4,
    "start_time": "2025-03-06T20:54:31.257Z"
   },
   {
    "duration": 3,
    "start_time": "2025-03-06T20:54:31.263Z"
   },
   {
    "duration": 4,
    "start_time": "2025-03-06T20:54:31.268Z"
   },
   {
    "duration": 12,
    "start_time": "2025-03-06T20:54:31.273Z"
   },
   {
    "duration": 271,
    "start_time": "2025-03-06T20:54:31.286Z"
   },
   {
    "duration": 9,
    "start_time": "2025-03-06T20:54:31.559Z"
   },
   {
    "duration": 380,
    "start_time": "2025-03-06T20:54:31.569Z"
   },
   {
    "duration": 881,
    "start_time": "2025-03-06T20:54:31.954Z"
   },
   {
    "duration": 11331,
    "start_time": "2025-03-06T21:03:27.440Z"
   },
   {
    "duration": 9,
    "start_time": "2025-03-06T21:03:53.821Z"
   },
   {
    "duration": 360,
    "start_time": "2025-03-06T21:05:37.918Z"
   },
   {
    "duration": 1251,
    "start_time": "2025-03-06T21:06:19.547Z"
   },
   {
    "duration": 1290,
    "start_time": "2025-03-06T21:09:21.086Z"
   },
   {
    "duration": 4,
    "start_time": "2025-03-06T21:21:11.544Z"
   },
   {
    "duration": 9,
    "start_time": "2025-03-06T21:45:18.539Z"
   },
   {
    "duration": 8,
    "start_time": "2025-03-06T21:45:33.317Z"
   },
   {
    "duration": 8,
    "start_time": "2025-03-06T21:45:35.703Z"
   },
   {
    "duration": 6,
    "start_time": "2025-03-06T21:45:54.465Z"
   },
   {
    "duration": 6,
    "start_time": "2025-03-06T21:46:20.539Z"
   },
   {
    "duration": 9,
    "start_time": "2025-03-06T21:46:24.722Z"
   },
   {
    "duration": 4,
    "start_time": "2025-03-06T21:47:30.065Z"
   },
   {
    "duration": 8,
    "start_time": "2025-03-06T21:47:31.932Z"
   },
   {
    "duration": 3,
    "start_time": "2025-03-06T21:47:43.566Z"
   },
   {
    "duration": 21,
    "start_time": "2025-03-06T21:47:43.572Z"
   },
   {
    "duration": 27,
    "start_time": "2025-03-06T21:47:43.596Z"
   },
   {
    "duration": 4,
    "start_time": "2025-03-06T21:47:43.625Z"
   },
   {
    "duration": 6,
    "start_time": "2025-03-06T21:47:43.632Z"
   },
   {
    "duration": 643,
    "start_time": "2025-03-06T21:47:43.640Z"
   },
   {
    "duration": 4,
    "start_time": "2025-03-06T21:47:44.285Z"
   },
   {
    "duration": 7,
    "start_time": "2025-03-06T21:47:54.183Z"
   },
   {
    "duration": 3,
    "start_time": "2025-03-06T21:48:51.772Z"
   },
   {
    "duration": 16,
    "start_time": "2025-03-06T21:49:21.625Z"
   },
   {
    "duration": 15,
    "start_time": "2025-03-06T21:50:36.966Z"
   },
   {
    "duration": 5,
    "start_time": "2025-03-06T21:51:19.954Z"
   },
   {
    "duration": 10,
    "start_time": "2025-03-06T21:51:27.664Z"
   },
   {
    "duration": 4,
    "start_time": "2025-03-06T21:53:34.082Z"
   },
   {
    "duration": 4,
    "start_time": "2025-03-06T21:53:43.373Z"
   },
   {
    "duration": 17,
    "start_time": "2025-03-06T21:53:48.923Z"
   },
   {
    "duration": 24,
    "start_time": "2025-03-06T21:54:21.944Z"
   },
   {
    "duration": 18,
    "start_time": "2025-03-06T21:55:13.490Z"
   },
   {
    "duration": 5,
    "start_time": "2025-03-06T21:55:22.948Z"
   },
   {
    "duration": 23,
    "start_time": "2025-03-06T21:55:28.806Z"
   },
   {
    "duration": 4,
    "start_time": "2025-03-06T21:55:36.049Z"
   },
   {
    "duration": 4,
    "start_time": "2025-03-06T21:55:45.441Z"
   },
   {
    "duration": 12,
    "start_time": "2025-03-06T21:55:50.494Z"
   },
   {
    "duration": 4,
    "start_time": "2025-03-06T21:55:54.877Z"
   },
   {
    "duration": 6,
    "start_time": "2025-03-06T21:55:57.301Z"
   },
   {
    "duration": 11,
    "start_time": "2025-03-06T21:55:59.283Z"
   },
   {
    "duration": 5,
    "start_time": "2025-03-06T21:56:01.599Z"
   },
   {
    "duration": 4,
    "start_time": "2025-03-06T21:56:03.487Z"
   },
   {
    "duration": 4,
    "start_time": "2025-03-06T21:56:05.538Z"
   },
   {
    "duration": 3,
    "start_time": "2025-03-06T21:56:07.533Z"
   },
   {
    "duration": 11,
    "start_time": "2025-03-06T21:56:09.476Z"
   },
   {
    "duration": 228,
    "start_time": "2025-03-06T21:56:12.139Z"
   },
   {
    "duration": 9,
    "start_time": "2025-03-06T21:57:01.403Z"
   },
   {
    "duration": 8,
    "start_time": "2025-03-06T21:57:04.940Z"
   },
   {
    "duration": 6,
    "start_time": "2025-03-06T21:57:07.644Z"
   },
   {
    "duration": 9,
    "start_time": "2025-03-06T21:57:53.340Z"
   },
   {
    "duration": 14,
    "start_time": "2025-03-06T21:57:56.320Z"
   },
   {
    "duration": 4,
    "start_time": "2025-03-06T21:57:59.109Z"
   },
   {
    "duration": 6,
    "start_time": "2025-03-06T21:58:00.863Z"
   },
   {
    "duration": 14,
    "start_time": "2025-03-06T21:58:02.890Z"
   },
   {
    "duration": 5,
    "start_time": "2025-03-06T21:58:13.251Z"
   },
   {
    "duration": 4,
    "start_time": "2025-03-06T21:58:15.239Z"
   },
   {
    "duration": 3,
    "start_time": "2025-03-06T21:58:17.000Z"
   },
   {
    "duration": 3,
    "start_time": "2025-03-06T21:58:18.917Z"
   },
   {
    "duration": 140,
    "start_time": "2025-03-06T21:58:20.600Z"
   },
   {
    "duration": 194,
    "start_time": "2025-03-06T21:58:27.445Z"
   },
   {
    "duration": 86,
    "start_time": "2025-03-06T21:58:31.014Z"
   },
   {
    "duration": 333,
    "start_time": "2025-03-06T21:58:34.608Z"
   },
   {
    "duration": 1556,
    "start_time": "2025-03-06T21:58:37.510Z"
   },
   {
    "duration": 17087,
    "start_time": "2025-03-06T21:58:52.621Z"
   },
   {
    "duration": 2221,
    "start_time": "2025-03-06T21:59:16.010Z"
   },
   {
    "duration": 1052,
    "start_time": "2025-03-06T22:00:12.898Z"
   },
   {
    "duration": 28,
    "start_time": "2025-03-06T22:00:13.953Z"
   },
   {
    "duration": 24,
    "start_time": "2025-03-06T22:00:13.984Z"
   },
   {
    "duration": 19,
    "start_time": "2025-03-06T22:00:14.011Z"
   },
   {
    "duration": 6,
    "start_time": "2025-03-06T22:00:14.032Z"
   },
   {
    "duration": 608,
    "start_time": "2025-03-06T22:00:14.039Z"
   },
   {
    "duration": 12,
    "start_time": "2025-03-06T22:00:14.649Z"
   },
   {
    "duration": 13,
    "start_time": "2025-03-06T22:00:14.663Z"
   },
   {
    "duration": 4,
    "start_time": "2025-03-06T22:00:14.678Z"
   },
   {
    "duration": 5,
    "start_time": "2025-03-06T22:00:14.685Z"
   },
   {
    "duration": 14,
    "start_time": "2025-03-06T22:00:14.692Z"
   },
   {
    "duration": 24,
    "start_time": "2025-03-06T22:00:14.708Z"
   },
   {
    "duration": 5,
    "start_time": "2025-03-06T22:00:14.734Z"
   },
   {
    "duration": 3,
    "start_time": "2025-03-06T22:00:14.741Z"
   },
   {
    "duration": 3,
    "start_time": "2025-03-06T22:00:14.746Z"
   },
   {
    "duration": 585,
    "start_time": "2025-03-06T22:00:14.751Z"
   },
   {
    "duration": 0,
    "start_time": "2025-03-06T22:00:15.339Z"
   },
   {
    "duration": 0,
    "start_time": "2025-03-06T22:00:15.341Z"
   },
   {
    "duration": 0,
    "start_time": "2025-03-06T22:00:15.343Z"
   },
   {
    "duration": 0,
    "start_time": "2025-03-06T22:00:15.344Z"
   },
   {
    "duration": 0,
    "start_time": "2025-03-06T22:00:15.346Z"
   },
   {
    "duration": 0,
    "start_time": "2025-03-06T22:00:15.347Z"
   },
   {
    "duration": 7,
    "start_time": "2025-03-06T22:07:53.869Z"
   },
   {
    "duration": 12,
    "start_time": "2025-03-06T22:07:58.119Z"
   },
   {
    "duration": 4,
    "start_time": "2025-03-06T22:08:02.427Z"
   },
   {
    "duration": 5,
    "start_time": "2025-03-06T22:08:04.703Z"
   },
   {
    "duration": 15,
    "start_time": "2025-03-06T22:08:06.999Z"
   },
   {
    "duration": 6,
    "start_time": "2025-03-06T22:08:11.138Z"
   },
   {
    "duration": 5,
    "start_time": "2025-03-06T22:08:12.901Z"
   },
   {
    "duration": 3,
    "start_time": "2025-03-06T22:08:13.877Z"
   },
   {
    "duration": 3,
    "start_time": "2025-03-06T22:08:15.544Z"
   },
   {
    "duration": 68,
    "start_time": "2025-03-06T22:08:17.243Z"
   },
   {
    "duration": 116,
    "start_time": "2025-03-06T22:08:30.404Z"
   },
   {
    "duration": 83,
    "start_time": "2025-03-06T22:08:39.965Z"
   },
   {
    "duration": 379,
    "start_time": "2025-03-06T22:08:44.267Z"
   },
   {
    "duration": 1324,
    "start_time": "2025-03-06T22:08:46.847Z"
   },
   {
    "duration": 16887,
    "start_time": "2025-03-06T22:08:50.510Z"
   },
   {
    "duration": 7,
    "start_time": "2025-03-06T22:15:21.610Z"
   },
   {
    "duration": 12,
    "start_time": "2025-03-06T22:15:23.934Z"
   },
   {
    "duration": 3,
    "start_time": "2025-03-06T22:15:27.768Z"
   },
   {
    "duration": 7,
    "start_time": "2025-03-06T22:15:29.375Z"
   },
   {
    "duration": 12,
    "start_time": "2025-03-06T22:15:30.805Z"
   },
   {
    "duration": 3,
    "start_time": "2025-03-06T22:15:31.096Z"
   },
   {
    "duration": 5,
    "start_time": "2025-03-06T22:15:32.179Z"
   },
   {
    "duration": 15,
    "start_time": "2025-03-06T22:15:32.716Z"
   },
   {
    "duration": 5,
    "start_time": "2025-03-06T22:15:32.950Z"
   },
   {
    "duration": 5,
    "start_time": "2025-03-06T22:15:33.440Z"
   },
   {
    "duration": 3,
    "start_time": "2025-03-06T22:15:34.050Z"
   },
   {
    "duration": 3,
    "start_time": "2025-03-06T22:15:35.368Z"
   },
   {
    "duration": 66,
    "start_time": "2025-03-06T22:15:35.680Z"
   },
   {
    "duration": 63,
    "start_time": "2025-03-06T22:15:36.889Z"
   },
   {
    "duration": 64,
    "start_time": "2025-03-06T22:15:38.639Z"
   },
   {
    "duration": 378,
    "start_time": "2025-03-06T22:15:40.459Z"
   },
   {
    "duration": 1099,
    "start_time": "2025-03-06T22:15:42.368Z"
   },
   {
    "duration": 15893,
    "start_time": "2025-03-06T22:15:49.702Z"
   },
   {
    "duration": 1895,
    "start_time": "2025-03-06T22:16:38.617Z"
   },
   {
    "duration": 7,
    "start_time": "2025-03-06T22:19:24.067Z"
   },
   {
    "duration": 14,
    "start_time": "2025-03-06T22:19:27.369Z"
   },
   {
    "duration": 7,
    "start_time": "2025-03-06T22:19:30.940Z"
   },
   {
    "duration": 14,
    "start_time": "2025-03-06T22:19:33.202Z"
   },
   {
    "duration": 6,
    "start_time": "2025-03-06T22:19:35.953Z"
   },
   {
    "duration": 4,
    "start_time": "2025-03-06T22:19:38.065Z"
   },
   {
    "duration": 3,
    "start_time": "2025-03-06T22:19:39.296Z"
   },
   {
    "duration": 3,
    "start_time": "2025-03-06T22:19:41.202Z"
   },
   {
    "duration": 68,
    "start_time": "2025-03-06T22:19:42.727Z"
   },
   {
    "duration": 8,
    "start_time": "2025-03-06T22:19:52.119Z"
   },
   {
    "duration": 8,
    "start_time": "2025-03-06T22:21:08.843Z"
   },
   {
    "duration": 67,
    "start_time": "2025-03-06T22:21:11.976Z"
   },
   {
    "duration": 3,
    "start_time": "2025-03-06T22:21:21.478Z"
   },
   {
    "duration": 7,
    "start_time": "2025-03-06T22:21:23.909Z"
   },
   {
    "duration": 5,
    "start_time": "2025-03-06T22:21:33.787Z"
   },
   {
    "duration": 4,
    "start_time": "2025-03-06T22:21:36.701Z"
   },
   {
    "duration": 3,
    "start_time": "2025-03-06T22:21:37.918Z"
   },
   {
    "duration": 7,
    "start_time": "2025-03-06T22:21:39.906Z"
   },
   {
    "duration": 119,
    "start_time": "2025-03-06T22:21:45.227Z"
   },
   {
    "duration": 71,
    "start_time": "2025-03-06T22:21:51.969Z"
   },
   {
    "duration": 7,
    "start_time": "2025-03-06T22:23:51.586Z"
   },
   {
    "duration": 66,
    "start_time": "2025-03-06T22:23:53.611Z"
   },
   {
    "duration": 161,
    "start_time": "2025-03-06T22:24:21.814Z"
   },
   {
    "duration": 160,
    "start_time": "2025-03-06T22:24:28.509Z"
   },
   {
    "duration": 4,
    "start_time": "2025-03-06T22:24:38.871Z"
   },
   {
    "duration": 67,
    "start_time": "2025-03-06T22:24:41.445Z"
   },
   {
    "duration": 60,
    "start_time": "2025-03-06T22:24:44.914Z"
   },
   {
    "duration": 5,
    "start_time": "2025-03-06T22:27:02.192Z"
   },
   {
    "duration": 13,
    "start_time": "2025-03-06T22:27:13.560Z"
   },
   {
    "duration": 6,
    "start_time": "2025-03-06T22:27:15.236Z"
   },
   {
    "duration": 14,
    "start_time": "2025-03-06T22:27:29.354Z"
   },
   {
    "duration": 4,
    "start_time": "2025-03-06T22:27:36.151Z"
   },
   {
    "duration": 3,
    "start_time": "2025-03-06T22:27:37.239Z"
   },
   {
    "duration": 6,
    "start_time": "2025-03-06T22:27:39.596Z"
   },
   {
    "duration": 66,
    "start_time": "2025-03-06T22:27:41.150Z"
   },
   {
    "duration": 6,
    "start_time": "2025-03-06T22:28:40.599Z"
   },
   {
    "duration": 6,
    "start_time": "2025-03-06T22:29:03.239Z"
   },
   {
    "duration": 6,
    "start_time": "2025-03-06T22:29:19.766Z"
   },
   {
    "duration": 14,
    "start_time": "2025-03-06T22:29:31.109Z"
   },
   {
    "duration": 15,
    "start_time": "2025-03-06T22:30:17.684Z"
   },
   {
    "duration": 5,
    "start_time": "2025-03-06T22:30:20.576Z"
   },
   {
    "duration": 4,
    "start_time": "2025-03-06T22:30:22.712Z"
   },
   {
    "duration": 6,
    "start_time": "2025-03-06T22:30:23.855Z"
   },
   {
    "duration": 6,
    "start_time": "2025-03-06T22:30:26.112Z"
   },
   {
    "duration": 19,
    "start_time": "2025-03-06T22:30:27.535Z"
   },
   {
    "duration": 3,
    "start_time": "2025-03-06T22:30:34.675Z"
   },
   {
    "duration": 18,
    "start_time": "2025-03-06T22:30:36.476Z"
   },
   {
    "duration": 4,
    "start_time": "2025-03-06T22:30:39.631Z"
   },
   {
    "duration": 3,
    "start_time": "2025-03-06T22:30:40.776Z"
   },
   {
    "duration": 543,
    "start_time": "2025-03-06T22:30:43.597Z"
   },
   {
    "duration": 14,
    "start_time": "2025-03-06T22:30:46.820Z"
   },
   {
    "duration": 237,
    "start_time": "2025-03-06T22:30:49.009Z"
   },
   {
    "duration": 1012,
    "start_time": "2025-03-06T22:30:51.144Z"
   },
   {
    "duration": 13783,
    "start_time": "2025-03-06T22:30:56.072Z"
   },
   {
    "duration": 1575,
    "start_time": "2025-03-06T22:31:09.857Z"
   },
   {
    "duration": 818,
    "start_time": "2025-03-07T01:31:52.031Z"
   },
   {
    "duration": 2728,
    "start_time": "2025-03-07T01:32:09.195Z"
   },
   {
    "duration": 35,
    "start_time": "2025-03-07T01:32:11.925Z"
   },
   {
    "duration": 23,
    "start_time": "2025-03-07T01:32:11.964Z"
   },
   {
    "duration": 3,
    "start_time": "2025-03-07T01:32:11.990Z"
   },
   {
    "duration": 5,
    "start_time": "2025-03-07T01:32:11.995Z"
   },
   {
    "duration": 620,
    "start_time": "2025-03-07T01:32:12.002Z"
   },
   {
    "duration": 10,
    "start_time": "2025-03-07T01:32:12.624Z"
   },
   {
    "duration": 13,
    "start_time": "2025-03-07T01:32:12.636Z"
   },
   {
    "duration": 4,
    "start_time": "2025-03-07T01:32:12.650Z"
   },
   {
    "duration": 14,
    "start_time": "2025-03-07T01:32:12.658Z"
   },
   {
    "duration": 10,
    "start_time": "2025-03-07T01:32:12.673Z"
   },
   {
    "duration": 6,
    "start_time": "2025-03-07T01:32:12.685Z"
   },
   {
    "duration": 4,
    "start_time": "2025-03-07T01:32:12.693Z"
   },
   {
    "duration": 4,
    "start_time": "2025-03-07T01:32:12.699Z"
   },
   {
    "duration": 3,
    "start_time": "2025-03-07T01:32:12.704Z"
   },
   {
    "duration": 488,
    "start_time": "2025-03-07T01:32:12.708Z"
   },
   {
    "duration": 0,
    "start_time": "2025-03-07T01:32:13.198Z"
   },
   {
    "duration": 0,
    "start_time": "2025-03-07T01:32:13.200Z"
   },
   {
    "duration": 0,
    "start_time": "2025-03-07T01:32:13.201Z"
   },
   {
    "duration": 0,
    "start_time": "2025-03-07T01:32:13.202Z"
   },
   {
    "duration": 0,
    "start_time": "2025-03-07T01:32:13.204Z"
   },
   {
    "duration": 0,
    "start_time": "2025-03-07T01:32:13.205Z"
   },
   {
    "duration": 6,
    "start_time": "2025-03-07T01:33:15.851Z"
   },
   {
    "duration": 67,
    "start_time": "2025-03-07T01:33:17.497Z"
   },
   {
    "duration": 1096,
    "start_time": "2025-03-07T01:33:33.268Z"
   },
   {
    "duration": 22,
    "start_time": "2025-03-07T01:33:34.366Z"
   },
   {
    "duration": 23,
    "start_time": "2025-03-07T01:33:34.390Z"
   },
   {
    "duration": 3,
    "start_time": "2025-03-07T01:33:34.415Z"
   },
   {
    "duration": 5,
    "start_time": "2025-03-07T01:33:34.420Z"
   },
   {
    "duration": 719,
    "start_time": "2025-03-07T01:33:34.427Z"
   },
   {
    "duration": 12,
    "start_time": "2025-03-07T01:33:35.149Z"
   },
   {
    "duration": 20,
    "start_time": "2025-03-07T01:33:35.163Z"
   },
   {
    "duration": 5,
    "start_time": "2025-03-07T01:33:35.184Z"
   },
   {
    "duration": 6,
    "start_time": "2025-03-07T01:33:35.193Z"
   },
   {
    "duration": 14,
    "start_time": "2025-03-07T01:33:35.200Z"
   },
   {
    "duration": 6,
    "start_time": "2025-03-07T01:33:35.216Z"
   },
   {
    "duration": 5,
    "start_time": "2025-03-07T01:33:35.224Z"
   },
   {
    "duration": 3,
    "start_time": "2025-03-07T01:33:35.232Z"
   },
   {
    "duration": 7,
    "start_time": "2025-03-07T01:33:35.269Z"
   },
   {
    "duration": 502,
    "start_time": "2025-03-07T01:33:35.280Z"
   },
   {
    "duration": 0,
    "start_time": "2025-03-07T01:33:35.784Z"
   },
   {
    "duration": 0,
    "start_time": "2025-03-07T01:33:35.785Z"
   },
   {
    "duration": 0,
    "start_time": "2025-03-07T01:33:35.787Z"
   },
   {
    "duration": 0,
    "start_time": "2025-03-07T01:33:35.788Z"
   },
   {
    "duration": 1,
    "start_time": "2025-03-07T01:33:35.789Z"
   },
   {
    "duration": 0,
    "start_time": "2025-03-07T01:33:35.791Z"
   },
   {
    "duration": 1013,
    "start_time": "2025-03-07T01:33:55.963Z"
   },
   {
    "duration": 24,
    "start_time": "2025-03-07T01:33:56.979Z"
   },
   {
    "duration": 22,
    "start_time": "2025-03-07T01:33:57.005Z"
   },
   {
    "duration": 4,
    "start_time": "2025-03-07T01:33:57.028Z"
   },
   {
    "duration": 5,
    "start_time": "2025-03-07T01:33:57.034Z"
   },
   {
    "duration": 597,
    "start_time": "2025-03-07T01:33:57.041Z"
   },
   {
    "duration": 12,
    "start_time": "2025-03-07T01:33:57.640Z"
   },
   {
    "duration": 17,
    "start_time": "2025-03-07T01:33:57.653Z"
   },
   {
    "duration": 4,
    "start_time": "2025-03-07T01:33:57.672Z"
   },
   {
    "duration": 5,
    "start_time": "2025-03-07T01:33:57.678Z"
   },
   {
    "duration": 10,
    "start_time": "2025-03-07T01:33:57.685Z"
   },
   {
    "duration": 5,
    "start_time": "2025-03-07T01:33:57.697Z"
   },
   {
    "duration": 4,
    "start_time": "2025-03-07T01:33:57.704Z"
   },
   {
    "duration": 4,
    "start_time": "2025-03-07T01:33:57.711Z"
   },
   {
    "duration": 6,
    "start_time": "2025-03-07T01:33:57.717Z"
   },
   {
    "duration": 501,
    "start_time": "2025-03-07T01:33:57.725Z"
   },
   {
    "duration": 0,
    "start_time": "2025-03-07T01:33:58.228Z"
   },
   {
    "duration": 0,
    "start_time": "2025-03-07T01:33:58.229Z"
   },
   {
    "duration": 0,
    "start_time": "2025-03-07T01:33:58.230Z"
   },
   {
    "duration": 0,
    "start_time": "2025-03-07T01:33:58.232Z"
   },
   {
    "duration": 0,
    "start_time": "2025-03-07T01:33:58.233Z"
   },
   {
    "duration": 0,
    "start_time": "2025-03-07T01:33:58.234Z"
   },
   {
    "duration": 69,
    "start_time": "2025-03-07T01:34:37.028Z"
   },
   {
    "duration": 115,
    "start_time": "2025-03-07T01:34:46.121Z"
   },
   {
    "duration": 82,
    "start_time": "2025-03-07T01:34:53.738Z"
   },
   {
    "duration": 398,
    "start_time": "2025-03-07T01:35:01.485Z"
   },
   {
    "duration": 1431,
    "start_time": "2025-03-07T01:35:04.841Z"
   },
   {
    "duration": 75,
    "start_time": "2025-03-07T01:35:13.019Z"
   },
   {
    "duration": 1530,
    "start_time": "2025-03-07T01:35:29.641Z"
   },
   {
    "duration": 6,
    "start_time": "2025-03-07T01:36:43.694Z"
   },
   {
    "duration": 261,
    "start_time": "2025-03-07T01:37:00.221Z"
   },
   {
    "duration": 246,
    "start_time": "2025-03-07T01:37:18.836Z"
   },
   {
    "duration": 18891,
    "start_time": "2025-03-07T01:37:58.322Z"
   },
   {
    "duration": 2132,
    "start_time": "2025-03-07T01:38:38.692Z"
   },
   {
    "duration": 975,
    "start_time": "2025-03-07T01:39:21.836Z"
   },
   {
    "duration": 25,
    "start_time": "2025-03-07T01:39:22.812Z"
   },
   {
    "duration": 32,
    "start_time": "2025-03-07T01:39:22.838Z"
   },
   {
    "duration": 4,
    "start_time": "2025-03-07T01:39:22.873Z"
   },
   {
    "duration": 5,
    "start_time": "2025-03-07T01:39:22.878Z"
   },
   {
    "duration": 593,
    "start_time": "2025-03-07T01:39:22.885Z"
   },
   {
    "duration": 10,
    "start_time": "2025-03-07T01:39:23.480Z"
   },
   {
    "duration": 13,
    "start_time": "2025-03-07T01:39:23.492Z"
   },
   {
    "duration": 5,
    "start_time": "2025-03-07T01:39:23.506Z"
   },
   {
    "duration": 5,
    "start_time": "2025-03-07T01:39:23.514Z"
   },
   {
    "duration": 10,
    "start_time": "2025-03-07T01:39:23.520Z"
   },
   {
    "duration": 5,
    "start_time": "2025-03-07T01:39:23.532Z"
   },
   {
    "duration": 34,
    "start_time": "2025-03-07T01:39:23.539Z"
   },
   {
    "duration": 4,
    "start_time": "2025-03-07T01:39:23.575Z"
   },
   {
    "duration": 6,
    "start_time": "2025-03-07T01:39:23.581Z"
   },
   {
    "duration": 467,
    "start_time": "2025-03-07T01:39:23.588Z"
   },
   {
    "duration": 0,
    "start_time": "2025-03-07T01:39:24.057Z"
   },
   {
    "duration": 0,
    "start_time": "2025-03-07T01:39:24.059Z"
   },
   {
    "duration": 1,
    "start_time": "2025-03-07T01:39:24.059Z"
   },
   {
    "duration": 0,
    "start_time": "2025-03-07T01:39:24.060Z"
   },
   {
    "duration": 0,
    "start_time": "2025-03-07T01:39:24.070Z"
   },
   {
    "duration": 0,
    "start_time": "2025-03-07T01:39:24.072Z"
   },
   {
    "duration": 11,
    "start_time": "2025-03-07T01:40:29.103Z"
   },
   {
    "duration": 3,
    "start_time": "2025-03-07T01:41:14.978Z"
   },
   {
    "duration": 68,
    "start_time": "2025-03-07T01:41:21.182Z"
   },
   {
    "duration": 113,
    "start_time": "2025-03-07T01:41:33.977Z"
   },
   {
    "duration": 81,
    "start_time": "2025-03-07T01:41:55.436Z"
   },
   {
    "duration": 395,
    "start_time": "2025-03-07T01:42:20.999Z"
   },
   {
    "duration": 1369,
    "start_time": "2025-03-07T01:42:23.729Z"
   },
   {
    "duration": 18867,
    "start_time": "2025-03-07T01:42:37.333Z"
   },
   {
    "duration": 2121,
    "start_time": "2025-03-07T01:43:12.320Z"
   },
   {
    "duration": 1000,
    "start_time": "2025-03-07T01:45:48.264Z"
   },
   {
    "duration": 24,
    "start_time": "2025-03-07T01:45:49.266Z"
   },
   {
    "duration": 22,
    "start_time": "2025-03-07T01:45:49.291Z"
   },
   {
    "duration": 4,
    "start_time": "2025-03-07T01:45:49.315Z"
   },
   {
    "duration": 5,
    "start_time": "2025-03-07T01:45:49.321Z"
   },
   {
    "duration": 601,
    "start_time": "2025-03-07T01:45:49.329Z"
   },
   {
    "duration": 12,
    "start_time": "2025-03-07T01:45:49.932Z"
   },
   {
    "duration": 13,
    "start_time": "2025-03-07T01:45:49.945Z"
   },
   {
    "duration": 6,
    "start_time": "2025-03-07T01:45:49.960Z"
   },
   {
    "duration": 5,
    "start_time": "2025-03-07T01:45:49.967Z"
   },
   {
    "duration": 10,
    "start_time": "2025-03-07T01:45:49.974Z"
   },
   {
    "duration": 6,
    "start_time": "2025-03-07T01:45:49.986Z"
   },
   {
    "duration": 4,
    "start_time": "2025-03-07T01:45:49.993Z"
   },
   {
    "duration": 3,
    "start_time": "2025-03-07T01:45:50.000Z"
   },
   {
    "duration": 3,
    "start_time": "2025-03-07T01:45:50.005Z"
   },
   {
    "duration": 504,
    "start_time": "2025-03-07T01:45:50.009Z"
   },
   {
    "duration": 0,
    "start_time": "2025-03-07T01:45:50.515Z"
   },
   {
    "duration": 0,
    "start_time": "2025-03-07T01:45:50.516Z"
   },
   {
    "duration": 0,
    "start_time": "2025-03-07T01:45:50.517Z"
   },
   {
    "duration": 0,
    "start_time": "2025-03-07T01:45:50.519Z"
   },
   {
    "duration": 0,
    "start_time": "2025-03-07T01:45:50.520Z"
   },
   {
    "duration": 0,
    "start_time": "2025-03-07T01:45:50.521Z"
   },
   {
    "duration": 4,
    "start_time": "2025-03-07T01:53:15.982Z"
   },
   {
    "duration": 7,
    "start_time": "2025-03-07T01:53:22.788Z"
   },
   {
    "duration": 68,
    "start_time": "2025-03-07T01:53:24.852Z"
   },
   {
    "duration": 4,
    "start_time": "2025-03-07T01:53:42.788Z"
   },
   {
    "duration": 70,
    "start_time": "2025-03-07T01:53:45.836Z"
   },
   {
    "duration": 146,
    "start_time": "2025-03-07T01:54:07.859Z"
   },
   {
    "duration": 57,
    "start_time": "2025-03-07T01:54:43.021Z"
   },
   {
    "duration": 55,
    "start_time": "2025-03-07T01:55:15.058Z"
   },
   {
    "duration": 973,
    "start_time": "2025-03-07T01:55:29.430Z"
   },
   {
    "duration": 23,
    "start_time": "2025-03-07T01:55:30.405Z"
   },
   {
    "duration": 22,
    "start_time": "2025-03-07T01:55:30.430Z"
   },
   {
    "duration": 4,
    "start_time": "2025-03-07T01:55:30.453Z"
   },
   {
    "duration": 5,
    "start_time": "2025-03-07T01:55:30.471Z"
   },
   {
    "duration": 644,
    "start_time": "2025-03-07T01:55:30.478Z"
   },
   {
    "duration": 10,
    "start_time": "2025-03-07T01:55:31.124Z"
   },
   {
    "duration": 14,
    "start_time": "2025-03-07T01:55:31.135Z"
   },
   {
    "duration": 4,
    "start_time": "2025-03-07T01:55:31.151Z"
   },
   {
    "duration": 15,
    "start_time": "2025-03-07T01:55:31.156Z"
   },
   {
    "duration": 10,
    "start_time": "2025-03-07T01:55:31.172Z"
   },
   {
    "duration": 4,
    "start_time": "2025-03-07T01:55:31.184Z"
   },
   {
    "duration": 5,
    "start_time": "2025-03-07T01:55:31.190Z"
   },
   {
    "duration": 4,
    "start_time": "2025-03-07T01:55:31.197Z"
   },
   {
    "duration": 3,
    "start_time": "2025-03-07T01:55:31.202Z"
   },
   {
    "duration": 494,
    "start_time": "2025-03-07T01:55:31.206Z"
   },
   {
    "duration": 0,
    "start_time": "2025-03-07T01:55:31.702Z"
   },
   {
    "duration": 0,
    "start_time": "2025-03-07T01:55:31.704Z"
   },
   {
    "duration": 0,
    "start_time": "2025-03-07T01:55:31.705Z"
   },
   {
    "duration": 0,
    "start_time": "2025-03-07T01:55:31.706Z"
   },
   {
    "duration": 0,
    "start_time": "2025-03-07T01:55:31.707Z"
   },
   {
    "duration": 0,
    "start_time": "2025-03-07T01:55:31.709Z"
   },
   {
    "duration": 11,
    "start_time": "2025-03-07T01:56:05.261Z"
   },
   {
    "duration": 8,
    "start_time": "2025-03-07T01:56:27.514Z"
   },
   {
    "duration": 17,
    "start_time": "2025-03-07T01:56:36.674Z"
   },
   {
    "duration": 4,
    "start_time": "2025-03-07T01:56:43.452Z"
   },
   {
    "duration": 976,
    "start_time": "2025-03-07T01:56:58.731Z"
   },
   {
    "duration": 24,
    "start_time": "2025-03-07T01:56:59.708Z"
   },
   {
    "duration": 22,
    "start_time": "2025-03-07T01:56:59.733Z"
   },
   {
    "duration": 4,
    "start_time": "2025-03-07T01:56:59.771Z"
   },
   {
    "duration": 7,
    "start_time": "2025-03-07T01:56:59.777Z"
   },
   {
    "duration": 576,
    "start_time": "2025-03-07T01:56:59.786Z"
   },
   {
    "duration": 11,
    "start_time": "2025-03-07T01:57:00.364Z"
   },
   {
    "duration": 14,
    "start_time": "2025-03-07T01:57:00.377Z"
   },
   {
    "duration": 4,
    "start_time": "2025-03-07T01:57:00.394Z"
   },
   {
    "duration": 4,
    "start_time": "2025-03-07T01:57:00.401Z"
   },
   {
    "duration": 10,
    "start_time": "2025-03-07T01:57:00.407Z"
   },
   {
    "duration": 5,
    "start_time": "2025-03-07T01:57:00.419Z"
   },
   {
    "duration": 4,
    "start_time": "2025-03-07T01:57:00.426Z"
   },
   {
    "duration": 38,
    "start_time": "2025-03-07T01:57:00.433Z"
   },
   {
    "duration": 3,
    "start_time": "2025-03-07T01:57:00.473Z"
   },
   {
    "duration": 493,
    "start_time": "2025-03-07T01:57:00.478Z"
   },
   {
    "duration": 0,
    "start_time": "2025-03-07T01:57:00.973Z"
   },
   {
    "duration": 0,
    "start_time": "2025-03-07T01:57:00.975Z"
   },
   {
    "duration": 0,
    "start_time": "2025-03-07T01:57:00.977Z"
   },
   {
    "duration": 0,
    "start_time": "2025-03-07T01:57:00.978Z"
   },
   {
    "duration": 0,
    "start_time": "2025-03-07T01:57:00.980Z"
   },
   {
    "duration": 0,
    "start_time": "2025-03-07T01:57:00.981Z"
   },
   {
    "duration": 14,
    "start_time": "2025-03-07T02:00:20.856Z"
   },
   {
    "duration": 7,
    "start_time": "2025-03-07T02:00:29.995Z"
   },
   {
    "duration": 13,
    "start_time": "2025-03-07T02:00:32.138Z"
   },
   {
    "duration": 6,
    "start_time": "2025-03-07T02:00:32.693Z"
   },
   {
    "duration": 4,
    "start_time": "2025-03-07T02:00:33.677Z"
   },
   {
    "duration": 4,
    "start_time": "2025-03-07T02:00:34.335Z"
   },
   {
    "duration": 2,
    "start_time": "2025-03-07T02:00:36.582Z"
   },
   {
    "duration": 99,
    "start_time": "2025-03-07T02:00:37.124Z"
   },
   {
    "duration": 112,
    "start_time": "2025-03-07T02:00:38.973Z"
   },
   {
    "duration": 83,
    "start_time": "2025-03-07T02:00:40.184Z"
   },
   {
    "duration": 379,
    "start_time": "2025-03-07T02:00:41.604Z"
   },
   {
    "duration": 1180,
    "start_time": "2025-03-07T02:00:42.923Z"
   },
   {
    "duration": 16075,
    "start_time": "2025-03-07T02:00:45.110Z"
   },
   {
    "duration": 2220,
    "start_time": "2025-03-07T02:01:01.187Z"
   },
   {
    "duration": 148,
    "start_time": "2025-03-07T02:02:22.531Z"
   },
   {
    "duration": 2,
    "start_time": "2025-03-07T02:02:38.773Z"
   },
   {
    "duration": 65,
    "start_time": "2025-03-07T02:03:29.267Z"
   },
   {
    "duration": 8,
    "start_time": "2025-03-07T02:04:32.942Z"
   },
   {
    "duration": 14,
    "start_time": "2025-03-07T02:04:38.927Z"
   },
   {
    "duration": 7,
    "start_time": "2025-03-07T02:05:00.392Z"
   },
   {
    "duration": 14,
    "start_time": "2025-03-07T02:05:07.925Z"
   },
   {
    "duration": 1037,
    "start_time": "2025-03-07T02:05:19.280Z"
   },
   {
    "duration": 23,
    "start_time": "2025-03-07T02:05:20.319Z"
   },
   {
    "duration": 27,
    "start_time": "2025-03-07T02:05:20.344Z"
   },
   {
    "duration": 3,
    "start_time": "2025-03-07T02:05:20.373Z"
   },
   {
    "duration": 5,
    "start_time": "2025-03-07T02:05:20.378Z"
   },
   {
    "duration": 594,
    "start_time": "2025-03-07T02:05:20.384Z"
   },
   {
    "duration": 11,
    "start_time": "2025-03-07T02:05:20.980Z"
   },
   {
    "duration": 14,
    "start_time": "2025-03-07T02:05:20.993Z"
   },
   {
    "duration": 5,
    "start_time": "2025-03-07T02:05:21.009Z"
   },
   {
    "duration": 7,
    "start_time": "2025-03-07T02:05:21.017Z"
   },
   {
    "duration": 14,
    "start_time": "2025-03-07T02:05:21.026Z"
   },
   {
    "duration": 5,
    "start_time": "2025-03-07T02:05:21.042Z"
   },
   {
    "duration": 4,
    "start_time": "2025-03-07T02:05:21.071Z"
   },
   {
    "duration": 4,
    "start_time": "2025-03-07T02:05:21.076Z"
   },
   {
    "duration": 2,
    "start_time": "2025-03-07T02:05:21.082Z"
   },
   {
    "duration": 480,
    "start_time": "2025-03-07T02:05:21.085Z"
   },
   {
    "duration": 0,
    "start_time": "2025-03-07T02:05:21.572Z"
   },
   {
    "duration": 0,
    "start_time": "2025-03-07T02:05:21.573Z"
   },
   {
    "duration": 0,
    "start_time": "2025-03-07T02:05:21.580Z"
   },
   {
    "duration": 0,
    "start_time": "2025-03-07T02:05:21.581Z"
   },
   {
    "duration": 0,
    "start_time": "2025-03-07T02:05:21.582Z"
   },
   {
    "duration": 0,
    "start_time": "2025-03-07T02:05:21.584Z"
   },
   {
    "duration": 113,
    "start_time": "2025-03-07T02:06:08.699Z"
   },
   {
    "duration": 10,
    "start_time": "2025-03-07T02:07:04.728Z"
   },
   {
    "duration": 14,
    "start_time": "2025-03-07T02:07:14.663Z"
   },
   {
    "duration": 4,
    "start_time": "2025-03-07T02:07:26.312Z"
   },
   {
    "duration": 1071,
    "start_time": "2025-03-07T02:07:35.542Z"
   },
   {
    "duration": 29,
    "start_time": "2025-03-07T02:07:36.615Z"
   },
   {
    "duration": 31,
    "start_time": "2025-03-07T02:07:36.645Z"
   },
   {
    "duration": 4,
    "start_time": "2025-03-07T02:07:36.678Z"
   },
   {
    "duration": 5,
    "start_time": "2025-03-07T02:07:36.685Z"
   },
   {
    "duration": 667,
    "start_time": "2025-03-07T02:07:36.691Z"
   },
   {
    "duration": 15,
    "start_time": "2025-03-07T02:07:37.361Z"
   },
   {
    "duration": 15,
    "start_time": "2025-03-07T02:07:37.378Z"
   },
   {
    "duration": 4,
    "start_time": "2025-03-07T02:07:37.394Z"
   },
   {
    "duration": 10,
    "start_time": "2025-03-07T02:07:37.400Z"
   },
   {
    "duration": 13,
    "start_time": "2025-03-07T02:07:37.411Z"
   },
   {
    "duration": 5,
    "start_time": "2025-03-07T02:07:37.425Z"
   },
   {
    "duration": 4,
    "start_time": "2025-03-07T02:07:37.431Z"
   },
   {
    "duration": 3,
    "start_time": "2025-03-07T02:07:37.438Z"
   },
   {
    "duration": 3,
    "start_time": "2025-03-07T02:07:37.470Z"
   },
   {
    "duration": 461,
    "start_time": "2025-03-07T02:07:37.474Z"
   },
   {
    "duration": 0,
    "start_time": "2025-03-07T02:07:37.936Z"
   },
   {
    "duration": 0,
    "start_time": "2025-03-07T02:07:37.937Z"
   },
   {
    "duration": 0,
    "start_time": "2025-03-07T02:07:37.939Z"
   },
   {
    "duration": 0,
    "start_time": "2025-03-07T02:07:37.940Z"
   },
   {
    "duration": 0,
    "start_time": "2025-03-07T02:07:37.942Z"
   },
   {
    "duration": 0,
    "start_time": "2025-03-07T02:07:37.943Z"
   },
   {
    "duration": 1028,
    "start_time": "2025-03-07T02:08:34.263Z"
   },
   {
    "duration": 24,
    "start_time": "2025-03-07T02:08:35.293Z"
   },
   {
    "duration": 23,
    "start_time": "2025-03-07T02:08:35.319Z"
   },
   {
    "duration": 4,
    "start_time": "2025-03-07T02:08:35.343Z"
   },
   {
    "duration": 23,
    "start_time": "2025-03-07T02:08:35.349Z"
   },
   {
    "duration": 567,
    "start_time": "2025-03-07T02:08:35.375Z"
   },
   {
    "duration": 11,
    "start_time": "2025-03-07T02:08:35.944Z"
   },
   {
    "duration": 13,
    "start_time": "2025-03-07T02:08:35.956Z"
   },
   {
    "duration": 3,
    "start_time": "2025-03-07T02:08:35.971Z"
   },
   {
    "duration": 5,
    "start_time": "2025-03-07T02:08:35.976Z"
   },
   {
    "duration": 13,
    "start_time": "2025-03-07T02:08:35.982Z"
   },
   {
    "duration": 5,
    "start_time": "2025-03-07T02:08:35.996Z"
   },
   {
    "duration": 5,
    "start_time": "2025-03-07T02:08:36.003Z"
   },
   {
    "duration": 3,
    "start_time": "2025-03-07T02:08:36.011Z"
   },
   {
    "duration": 2,
    "start_time": "2025-03-07T02:08:36.016Z"
   },
   {
    "duration": 530,
    "start_time": "2025-03-07T02:08:36.020Z"
   },
   {
    "duration": 0,
    "start_time": "2025-03-07T02:08:36.552Z"
   },
   {
    "duration": 0,
    "start_time": "2025-03-07T02:08:36.553Z"
   },
   {
    "duration": 0,
    "start_time": "2025-03-07T02:08:36.555Z"
   },
   {
    "duration": 0,
    "start_time": "2025-03-07T02:08:36.555Z"
   },
   {
    "duration": 0,
    "start_time": "2025-03-07T02:08:36.556Z"
   },
   {
    "duration": 0,
    "start_time": "2025-03-07T02:08:36.558Z"
   },
   {
    "duration": 969,
    "start_time": "2025-03-07T02:09:02.342Z"
   },
   {
    "duration": 22,
    "start_time": "2025-03-07T02:09:03.314Z"
   },
   {
    "duration": 31,
    "start_time": "2025-03-07T02:09:03.339Z"
   },
   {
    "duration": 3,
    "start_time": "2025-03-07T02:09:03.372Z"
   },
   {
    "duration": 6,
    "start_time": "2025-03-07T02:09:03.377Z"
   },
   {
    "duration": 567,
    "start_time": "2025-03-07T02:09:03.384Z"
   },
   {
    "duration": 12,
    "start_time": "2025-03-07T02:09:03.952Z"
   },
   {
    "duration": 14,
    "start_time": "2025-03-07T02:09:03.965Z"
   },
   {
    "duration": 4,
    "start_time": "2025-03-07T02:09:03.980Z"
   },
   {
    "duration": 6,
    "start_time": "2025-03-07T02:09:03.987Z"
   },
   {
    "duration": 13,
    "start_time": "2025-03-07T02:09:03.995Z"
   },
   {
    "duration": 6,
    "start_time": "2025-03-07T02:09:04.010Z"
   },
   {
    "duration": 6,
    "start_time": "2025-03-07T02:09:04.018Z"
   },
   {
    "duration": 3,
    "start_time": "2025-03-07T02:09:04.026Z"
   },
   {
    "duration": 38,
    "start_time": "2025-03-07T02:09:04.032Z"
   },
   {
    "duration": 458,
    "start_time": "2025-03-07T02:09:04.072Z"
   },
   {
    "duration": 0,
    "start_time": "2025-03-07T02:09:04.532Z"
   },
   {
    "duration": 0,
    "start_time": "2025-03-07T02:09:04.533Z"
   },
   {
    "duration": 0,
    "start_time": "2025-03-07T02:09:04.535Z"
   },
   {
    "duration": 0,
    "start_time": "2025-03-07T02:09:04.537Z"
   },
   {
    "duration": 0,
    "start_time": "2025-03-07T02:09:04.538Z"
   },
   {
    "duration": 0,
    "start_time": "2025-03-07T02:09:04.540Z"
   },
   {
    "duration": 1002,
    "start_time": "2025-03-07T02:13:11.749Z"
   },
   {
    "duration": 27,
    "start_time": "2025-03-07T02:13:12.753Z"
   },
   {
    "duration": 22,
    "start_time": "2025-03-07T02:13:12.782Z"
   },
   {
    "duration": 3,
    "start_time": "2025-03-07T02:13:12.806Z"
   },
   {
    "duration": 4,
    "start_time": "2025-03-07T02:13:12.812Z"
   },
   {
    "duration": 608,
    "start_time": "2025-03-07T02:13:12.818Z"
   },
   {
    "duration": 12,
    "start_time": "2025-03-07T02:13:13.428Z"
   },
   {
    "duration": 13,
    "start_time": "2025-03-07T02:13:13.442Z"
   },
   {
    "duration": 4,
    "start_time": "2025-03-07T02:13:13.456Z"
   },
   {
    "duration": 11,
    "start_time": "2025-03-07T02:13:13.462Z"
   },
   {
    "duration": 18,
    "start_time": "2025-03-07T02:13:13.474Z"
   },
   {
    "duration": 6,
    "start_time": "2025-03-07T02:13:13.494Z"
   },
   {
    "duration": 5,
    "start_time": "2025-03-07T02:13:13.502Z"
   },
   {
    "duration": 2,
    "start_time": "2025-03-07T02:13:13.511Z"
   },
   {
    "duration": 3,
    "start_time": "2025-03-07T02:13:13.515Z"
   },
   {
    "duration": 490,
    "start_time": "2025-03-07T02:13:13.520Z"
   },
   {
    "duration": 0,
    "start_time": "2025-03-07T02:13:14.012Z"
   },
   {
    "duration": 0,
    "start_time": "2025-03-07T02:13:14.013Z"
   },
   {
    "duration": 0,
    "start_time": "2025-03-07T02:13:14.014Z"
   },
   {
    "duration": 0,
    "start_time": "2025-03-07T02:13:14.015Z"
   },
   {
    "duration": 0,
    "start_time": "2025-03-07T02:13:14.016Z"
   },
   {
    "duration": 0,
    "start_time": "2025-03-07T02:13:14.017Z"
   },
   {
    "duration": 160,
    "start_time": "2025-03-07T03:00:55.587Z"
   },
   {
    "duration": 2754,
    "start_time": "2025-03-07T03:01:12.783Z"
   },
   {
    "duration": 28,
    "start_time": "2025-03-07T03:01:15.539Z"
   },
   {
    "duration": 25,
    "start_time": "2025-03-07T03:01:15.569Z"
   },
   {
    "duration": 3,
    "start_time": "2025-03-07T03:01:15.596Z"
   },
   {
    "duration": 5,
    "start_time": "2025-03-07T03:01:15.600Z"
   },
   {
    "duration": 693,
    "start_time": "2025-03-07T03:01:15.607Z"
   },
   {
    "duration": 9,
    "start_time": "2025-03-07T03:01:16.302Z"
   },
   {
    "duration": 14,
    "start_time": "2025-03-07T03:01:16.312Z"
   },
   {
    "duration": 7,
    "start_time": "2025-03-07T03:01:16.327Z"
   },
   {
    "duration": 6,
    "start_time": "2025-03-07T03:01:16.338Z"
   },
   {
    "duration": 13,
    "start_time": "2025-03-07T03:01:16.346Z"
   },
   {
    "duration": 5,
    "start_time": "2025-03-07T03:01:16.360Z"
   },
   {
    "duration": 4,
    "start_time": "2025-03-07T03:01:16.367Z"
   },
   {
    "duration": 4,
    "start_time": "2025-03-07T03:01:16.372Z"
   },
   {
    "duration": 3,
    "start_time": "2025-03-07T03:01:16.378Z"
   },
   {
    "duration": 513,
    "start_time": "2025-03-07T03:01:16.383Z"
   },
   {
    "duration": 0,
    "start_time": "2025-03-07T03:01:16.898Z"
   },
   {
    "duration": 0,
    "start_time": "2025-03-07T03:01:16.899Z"
   },
   {
    "duration": 0,
    "start_time": "2025-03-07T03:01:16.900Z"
   },
   {
    "duration": 0,
    "start_time": "2025-03-07T03:01:16.901Z"
   },
   {
    "duration": 0,
    "start_time": "2025-03-07T03:01:16.902Z"
   },
   {
    "duration": 0,
    "start_time": "2025-03-07T03:01:16.903Z"
   },
   {
    "duration": 11,
    "start_time": "2025-03-07T03:02:07.822Z"
   },
   {
    "duration": 14,
    "start_time": "2025-03-07T03:02:15.468Z"
   },
   {
    "duration": 5,
    "start_time": "2025-03-07T03:02:18.243Z"
   },
   {
    "duration": 4,
    "start_time": "2025-03-07T03:02:20.440Z"
   },
   {
    "duration": 4,
    "start_time": "2025-03-07T03:02:35.038Z"
   },
   {
    "duration": 3,
    "start_time": "2025-03-07T03:02:36.615Z"
   },
   {
    "duration": 2,
    "start_time": "2025-03-07T03:02:39.274Z"
   },
   {
    "duration": 72,
    "start_time": "2025-03-07T03:02:41.116Z"
   },
   {
    "duration": 183,
    "start_time": "2025-03-07T03:02:49.663Z"
   },
   {
    "duration": 7,
    "start_time": "2025-03-07T03:05:03.854Z"
   },
   {
    "duration": 3,
    "start_time": "2025-03-07T03:05:06.388Z"
   },
   {
    "duration": 6,
    "start_time": "2025-03-07T03:05:07.346Z"
   },
   {
    "duration": 14,
    "start_time": "2025-03-07T03:05:09.025Z"
   },
   {
    "duration": 13,
    "start_time": "2025-03-07T03:05:21.093Z"
   },
   {
    "duration": 4,
    "start_time": "2025-03-07T03:05:23.285Z"
   },
   {
    "duration": 7,
    "start_time": "2025-03-07T03:05:25.271Z"
   },
   {
    "duration": 13,
    "start_time": "2025-03-07T03:05:27.781Z"
   },
   {
    "duration": 13,
    "start_time": "2025-03-07T03:05:31.806Z"
   },
   {
    "duration": 1042,
    "start_time": "2025-03-07T03:05:45.883Z"
   },
   {
    "duration": 25,
    "start_time": "2025-03-07T03:05:46.928Z"
   },
   {
    "duration": 23,
    "start_time": "2025-03-07T03:05:46.954Z"
   },
   {
    "duration": 3,
    "start_time": "2025-03-07T03:05:46.979Z"
   },
   {
    "duration": 4,
    "start_time": "2025-03-07T03:05:46.986Z"
   },
   {
    "duration": 607,
    "start_time": "2025-03-07T03:05:46.992Z"
   },
   {
    "duration": 9,
    "start_time": "2025-03-07T03:05:47.601Z"
   },
   {
    "duration": 12,
    "start_time": "2025-03-07T03:05:47.612Z"
   },
   {
    "duration": 8,
    "start_time": "2025-03-07T03:05:47.625Z"
   },
   {
    "duration": 250,
    "start_time": "2025-03-07T03:05:47.634Z"
   },
   {
    "duration": 0,
    "start_time": "2025-03-07T03:05:47.886Z"
   },
   {
    "duration": 0,
    "start_time": "2025-03-07T03:05:47.888Z"
   },
   {
    "duration": 0,
    "start_time": "2025-03-07T03:05:47.889Z"
   },
   {
    "duration": 0,
    "start_time": "2025-03-07T03:05:47.890Z"
   },
   {
    "duration": 0,
    "start_time": "2025-03-07T03:05:47.892Z"
   },
   {
    "duration": 0,
    "start_time": "2025-03-07T03:05:47.893Z"
   },
   {
    "duration": 0,
    "start_time": "2025-03-07T03:05:47.895Z"
   },
   {
    "duration": 0,
    "start_time": "2025-03-07T03:05:47.896Z"
   },
   {
    "duration": 0,
    "start_time": "2025-03-07T03:05:47.897Z"
   },
   {
    "duration": 0,
    "start_time": "2025-03-07T03:05:47.899Z"
   },
   {
    "duration": 0,
    "start_time": "2025-03-07T03:05:47.901Z"
   },
   {
    "duration": 0,
    "start_time": "2025-03-07T03:05:47.903Z"
   },
   {
    "duration": 9,
    "start_time": "2025-03-07T03:06:14.459Z"
   },
   {
    "duration": 13,
    "start_time": "2025-03-07T03:06:16.498Z"
   },
   {
    "duration": 14,
    "start_time": "2025-03-07T03:06:25.075Z"
   },
   {
    "duration": 80,
    "start_time": "2025-03-07T03:06:26.747Z"
   },
   {
    "duration": 14,
    "start_time": "2025-03-07T03:06:28.496Z"
   },
   {
    "duration": 14,
    "start_time": "2025-03-07T03:06:32.357Z"
   },
   {
    "duration": 1038,
    "start_time": "2025-03-07T03:07:05.984Z"
   },
   {
    "duration": 25,
    "start_time": "2025-03-07T03:07:07.024Z"
   },
   {
    "duration": 23,
    "start_time": "2025-03-07T03:07:07.051Z"
   },
   {
    "duration": 4,
    "start_time": "2025-03-07T03:07:07.076Z"
   },
   {
    "duration": 4,
    "start_time": "2025-03-07T03:07:07.082Z"
   },
   {
    "duration": 632,
    "start_time": "2025-03-07T03:07:07.088Z"
   },
   {
    "duration": 10,
    "start_time": "2025-03-07T03:07:07.721Z"
   },
   {
    "duration": 13,
    "start_time": "2025-03-07T03:07:07.734Z"
   },
   {
    "duration": 5,
    "start_time": "2025-03-07T03:07:07.748Z"
   },
   {
    "duration": 7,
    "start_time": "2025-03-07T03:07:07.757Z"
   },
   {
    "duration": 258,
    "start_time": "2025-03-07T03:07:07.766Z"
   },
   {
    "duration": 0,
    "start_time": "2025-03-07T03:07:08.026Z"
   },
   {
    "duration": 0,
    "start_time": "2025-03-07T03:07:08.031Z"
   },
   {
    "duration": 0,
    "start_time": "2025-03-07T03:07:08.033Z"
   },
   {
    "duration": 0,
    "start_time": "2025-03-07T03:07:08.034Z"
   },
   {
    "duration": 0,
    "start_time": "2025-03-07T03:07:08.035Z"
   },
   {
    "duration": 0,
    "start_time": "2025-03-07T03:07:08.036Z"
   },
   {
    "duration": 0,
    "start_time": "2025-03-07T03:07:08.038Z"
   },
   {
    "duration": 0,
    "start_time": "2025-03-07T03:07:08.039Z"
   },
   {
    "duration": 0,
    "start_time": "2025-03-07T03:07:08.040Z"
   },
   {
    "duration": 0,
    "start_time": "2025-03-07T03:07:08.041Z"
   },
   {
    "duration": 0,
    "start_time": "2025-03-07T03:07:08.042Z"
   },
   {
    "duration": 1099,
    "start_time": "2025-03-07T03:07:46.952Z"
   },
   {
    "duration": 23,
    "start_time": "2025-03-07T03:07:48.055Z"
   },
   {
    "duration": 23,
    "start_time": "2025-03-07T03:07:48.079Z"
   },
   {
    "duration": 3,
    "start_time": "2025-03-07T03:07:48.104Z"
   },
   {
    "duration": 4,
    "start_time": "2025-03-07T03:07:48.110Z"
   },
   {
    "duration": 616,
    "start_time": "2025-03-07T03:07:48.116Z"
   },
   {
    "duration": 8,
    "start_time": "2025-03-07T03:07:48.734Z"
   },
   {
    "duration": 13,
    "start_time": "2025-03-07T03:07:48.744Z"
   },
   {
    "duration": 4,
    "start_time": "2025-03-07T03:07:48.758Z"
   },
   {
    "duration": 8,
    "start_time": "2025-03-07T03:07:48.764Z"
   },
   {
    "duration": 258,
    "start_time": "2025-03-07T03:07:48.773Z"
   },
   {
    "duration": 0,
    "start_time": "2025-03-07T03:07:49.033Z"
   },
   {
    "duration": 0,
    "start_time": "2025-03-07T03:07:49.034Z"
   },
   {
    "duration": 0,
    "start_time": "2025-03-07T03:07:49.035Z"
   },
   {
    "duration": 0,
    "start_time": "2025-03-07T03:07:49.036Z"
   },
   {
    "duration": 0,
    "start_time": "2025-03-07T03:07:49.036Z"
   },
   {
    "duration": 0,
    "start_time": "2025-03-07T03:07:49.038Z"
   },
   {
    "duration": 0,
    "start_time": "2025-03-07T03:07:49.039Z"
   },
   {
    "duration": 0,
    "start_time": "2025-03-07T03:07:49.040Z"
   },
   {
    "duration": 0,
    "start_time": "2025-03-07T03:07:49.041Z"
   },
   {
    "duration": 0,
    "start_time": "2025-03-07T03:07:49.042Z"
   },
   {
    "duration": 0,
    "start_time": "2025-03-07T03:07:49.043Z"
   },
   {
    "duration": 4,
    "start_time": "2025-03-07T03:08:17.152Z"
   },
   {
    "duration": 6,
    "start_time": "2025-03-07T03:08:18.313Z"
   },
   {
    "duration": 15,
    "start_time": "2025-03-07T03:08:21.429Z"
   },
   {
    "duration": 5,
    "start_time": "2025-03-07T03:08:23.422Z"
   },
   {
    "duration": 14,
    "start_time": "2025-03-07T03:08:23.925Z"
   },
   {
    "duration": 5,
    "start_time": "2025-03-07T03:08:24.152Z"
   },
   {
    "duration": 4,
    "start_time": "2025-03-07T03:08:24.402Z"
   },
   {
    "duration": 3,
    "start_time": "2025-03-07T03:08:24.692Z"
   },
   {
    "duration": 237,
    "start_time": "2025-03-07T03:08:25.853Z"
   },
   {
    "duration": 114,
    "start_time": "2025-03-07T03:08:26.459Z"
   },
   {
    "duration": 87,
    "start_time": "2025-03-07T03:08:28.735Z"
   },
   {
    "duration": 384,
    "start_time": "2025-03-07T03:08:29.964Z"
   },
   {
    "duration": 1221,
    "start_time": "2025-03-07T03:08:31.145Z"
   },
   {
    "duration": 15757,
    "start_time": "2025-03-07T03:08:41.220Z"
   },
   {
    "duration": 11,
    "start_time": "2025-03-07T03:10:04.067Z"
   },
   {
    "duration": 6,
    "start_time": "2025-03-07T03:10:07.187Z"
   },
   {
    "duration": 10,
    "start_time": "2025-03-07T03:10:09.411Z"
   },
   {
    "duration": 6,
    "start_time": "2025-03-07T03:10:09.942Z"
   },
   {
    "duration": 4,
    "start_time": "2025-03-07T03:10:10.282Z"
   },
   {
    "duration": 4,
    "start_time": "2025-03-07T03:10:10.580Z"
   },
   {
    "duration": 68,
    "start_time": "2025-03-07T03:10:12.215Z"
   },
   {
    "duration": 65,
    "start_time": "2025-03-07T03:10:13.303Z"
   },
   {
    "duration": 64,
    "start_time": "2025-03-07T03:10:14.299Z"
   },
   {
    "duration": 14,
    "start_time": "2025-03-07T03:10:25.519Z"
   },
   {
    "duration": 14,
    "start_time": "2025-03-07T03:10:28.409Z"
   },
   {
    "duration": 6,
    "start_time": "2025-03-07T03:10:28.872Z"
   },
   {
    "duration": 4,
    "start_time": "2025-03-07T03:10:29.351Z"
   },
   {
    "duration": 4,
    "start_time": "2025-03-07T03:10:29.821Z"
   },
   {
    "duration": 76,
    "start_time": "2025-03-07T03:10:31.902Z"
   },
   {
    "duration": 69,
    "start_time": "2025-03-07T03:19:21.164Z"
   },
   {
    "duration": 72,
    "start_time": "2025-03-07T03:20:09.547Z"
   },
   {
    "duration": 13,
    "start_time": "2025-03-07T03:22:22.695Z"
   },
   {
    "duration": 6,
    "start_time": "2025-03-07T03:22:29.732Z"
   },
   {
    "duration": 66,
    "start_time": "2025-03-07T03:22:32.140Z"
   },
   {
    "duration": 14,
    "start_time": "2025-03-07T03:23:35.829Z"
   },
   {
    "duration": 12,
    "start_time": "2025-03-07T03:24:47.126Z"
   },
   {
    "duration": 14,
    "start_time": "2025-03-07T03:25:05.592Z"
   },
   {
    "duration": 3,
    "start_time": "2025-03-07T03:25:21.791Z"
   },
   {
    "duration": 20,
    "start_time": "2025-03-07T03:25:27.653Z"
   },
   {
    "duration": 5,
    "start_time": "2025-03-07T03:25:30.935Z"
   },
   {
    "duration": 4,
    "start_time": "2025-03-07T03:25:32.921Z"
   },
   {
    "duration": 3,
    "start_time": "2025-03-07T03:25:35.094Z"
   },
   {
    "duration": 7,
    "start_time": "2025-03-07T03:25:36.240Z"
   },
   {
    "duration": 64,
    "start_time": "2025-03-07T03:25:38.814Z"
   },
   {
    "duration": 2197,
    "start_time": "2025-03-07T03:27:08.043Z"
   },
   {
    "duration": 8,
    "start_time": "2025-03-07T03:29:34.822Z"
   },
   {
    "duration": 7,
    "start_time": "2025-03-07T03:37:19.299Z"
   },
   {
    "duration": 4,
    "start_time": "2025-03-07T03:37:48.819Z"
   },
   {
    "duration": 16,
    "start_time": "2025-03-07T03:38:12.988Z"
   },
   {
    "duration": 6,
    "start_time": "2025-03-07T03:39:43.844Z"
   },
   {
    "duration": 20,
    "start_time": "2025-03-07T03:39:43.852Z"
   },
   {
    "duration": 23,
    "start_time": "2025-03-07T03:39:43.874Z"
   },
   {
    "duration": 4,
    "start_time": "2025-03-07T03:39:43.899Z"
   },
   {
    "duration": 5,
    "start_time": "2025-03-07T03:39:43.904Z"
   },
   {
    "duration": 666,
    "start_time": "2025-03-07T03:39:43.910Z"
   },
   {
    "duration": 8,
    "start_time": "2025-03-07T03:39:44.578Z"
   },
   {
    "duration": 9,
    "start_time": "2025-03-07T03:39:44.588Z"
   },
   {
    "duration": 4,
    "start_time": "2025-03-07T03:39:44.600Z"
   },
   {
    "duration": 27,
    "start_time": "2025-03-07T03:39:44.605Z"
   },
   {
    "duration": 13,
    "start_time": "2025-03-07T03:39:44.634Z"
   },
   {
    "duration": 4,
    "start_time": "2025-03-07T03:39:44.649Z"
   },
   {
    "duration": 4,
    "start_time": "2025-03-07T03:39:44.655Z"
   },
   {
    "duration": 5,
    "start_time": "2025-03-07T03:39:44.660Z"
   },
   {
    "duration": 9,
    "start_time": "2025-03-07T03:39:44.667Z"
   },
   {
    "duration": 71,
    "start_time": "2025-03-07T03:40:07.905Z"
   },
   {
    "duration": 1037,
    "start_time": "2025-03-07T03:40:24.131Z"
   },
   {
    "duration": 24,
    "start_time": "2025-03-07T03:40:25.171Z"
   },
   {
    "duration": 24,
    "start_time": "2025-03-07T03:40:25.197Z"
   },
   {
    "duration": 3,
    "start_time": "2025-03-07T03:40:25.231Z"
   },
   {
    "duration": 5,
    "start_time": "2025-03-07T03:40:25.237Z"
   },
   {
    "duration": 643,
    "start_time": "2025-03-07T03:40:25.244Z"
   },
   {
    "duration": 10,
    "start_time": "2025-03-07T03:40:25.889Z"
   },
   {
    "duration": 10,
    "start_time": "2025-03-07T03:40:25.900Z"
   },
   {
    "duration": 4,
    "start_time": "2025-03-07T03:40:25.912Z"
   },
   {
    "duration": 5,
    "start_time": "2025-03-07T03:40:25.918Z"
   },
   {
    "duration": 14,
    "start_time": "2025-03-07T03:40:25.932Z"
   },
   {
    "duration": 5,
    "start_time": "2025-03-07T03:40:25.948Z"
   },
   {
    "duration": 4,
    "start_time": "2025-03-07T03:40:25.955Z"
   },
   {
    "duration": 3,
    "start_time": "2025-03-07T03:40:25.961Z"
   },
   {
    "duration": 9,
    "start_time": "2025-03-07T03:40:25.966Z"
   },
   {
    "duration": 506,
    "start_time": "2025-03-07T03:40:25.977Z"
   },
   {
    "duration": 0,
    "start_time": "2025-03-07T03:40:26.485Z"
   },
   {
    "duration": 0,
    "start_time": "2025-03-07T03:40:26.487Z"
   },
   {
    "duration": 0,
    "start_time": "2025-03-07T03:40:26.488Z"
   },
   {
    "duration": 0,
    "start_time": "2025-03-07T03:40:26.489Z"
   },
   {
    "duration": 0,
    "start_time": "2025-03-07T03:40:26.490Z"
   },
   {
    "duration": 0,
    "start_time": "2025-03-07T03:40:26.492Z"
   },
   {
    "duration": 9,
    "start_time": "2025-03-07T03:42:24.152Z"
   },
   {
    "duration": 68,
    "start_time": "2025-03-07T03:42:27.744Z"
   },
   {
    "duration": 67,
    "start_time": "2025-03-07T03:43:49.003Z"
   },
   {
    "duration": 1009,
    "start_time": "2025-03-07T03:45:30.932Z"
   },
   {
    "duration": 30,
    "start_time": "2025-03-07T03:45:31.944Z"
   },
   {
    "duration": 24,
    "start_time": "2025-03-07T03:45:31.977Z"
   },
   {
    "duration": 4,
    "start_time": "2025-03-07T03:45:32.002Z"
   },
   {
    "duration": 4,
    "start_time": "2025-03-07T03:45:32.009Z"
   },
   {
    "duration": 596,
    "start_time": "2025-03-07T03:45:32.015Z"
   },
   {
    "duration": 9,
    "start_time": "2025-03-07T03:45:32.614Z"
   },
   {
    "duration": 9,
    "start_time": "2025-03-07T03:45:32.625Z"
   },
   {
    "duration": 4,
    "start_time": "2025-03-07T03:45:32.636Z"
   },
   {
    "duration": 4,
    "start_time": "2025-03-07T03:45:32.643Z"
   },
   {
    "duration": 13,
    "start_time": "2025-03-07T03:45:32.649Z"
   },
   {
    "duration": 5,
    "start_time": "2025-03-07T03:45:32.664Z"
   },
   {
    "duration": 4,
    "start_time": "2025-03-07T03:45:32.671Z"
   },
   {
    "duration": 3,
    "start_time": "2025-03-07T03:45:32.678Z"
   },
   {
    "duration": 48,
    "start_time": "2025-03-07T03:45:32.682Z"
   },
   {
    "duration": 478,
    "start_time": "2025-03-07T03:45:32.732Z"
   },
   {
    "duration": 0,
    "start_time": "2025-03-07T03:45:33.211Z"
   },
   {
    "duration": 0,
    "start_time": "2025-03-07T03:45:33.213Z"
   },
   {
    "duration": 0,
    "start_time": "2025-03-07T03:45:33.214Z"
   },
   {
    "duration": 0,
    "start_time": "2025-03-07T03:45:33.215Z"
   },
   {
    "duration": 0,
    "start_time": "2025-03-07T03:45:33.216Z"
   },
   {
    "duration": 0,
    "start_time": "2025-03-07T03:45:33.217Z"
   },
   {
    "duration": 111,
    "start_time": "2025-03-07T04:06:16.460Z"
   },
   {
    "duration": 87,
    "start_time": "2025-03-07T04:06:20.882Z"
   },
   {
    "duration": 368,
    "start_time": "2025-03-07T04:06:26.773Z"
   },
   {
    "duration": 1207,
    "start_time": "2025-03-07T04:06:35.358Z"
   },
   {
    "duration": 15170,
    "start_time": "2025-03-07T04:06:49.429Z"
   },
   {
    "duration": 2032,
    "start_time": "2025-03-07T04:07:04.601Z"
   },
   {
    "duration": 25,
    "start_time": "2025-03-07T04:10:26.275Z"
   },
   {
    "duration": 14,
    "start_time": "2025-03-07T04:11:04.118Z"
   },
   {
    "duration": 4,
    "start_time": "2025-03-07T04:11:12.135Z"
   },
   {
    "duration": 6,
    "start_time": "2025-03-07T04:11:14.169Z"
   },
   {
    "duration": 11,
    "start_time": "2025-03-07T04:11:31.030Z"
   },
   {
    "duration": 4,
    "start_time": "2025-03-07T04:11:48.388Z"
   },
   {
    "duration": 6,
    "start_time": "2025-03-07T04:11:51.065Z"
   },
   {
    "duration": 5,
    "start_time": "2025-03-07T04:12:03.124Z"
   },
   {
    "duration": 3,
    "start_time": "2025-03-07T04:12:07.885Z"
   },
   {
    "duration": 6,
    "start_time": "2025-03-07T04:12:10.258Z"
   },
   {
    "duration": 14,
    "start_time": "2025-03-07T04:12:12.715Z"
   },
   {
    "duration": 6,
    "start_time": "2025-03-07T04:12:15.936Z"
   },
   {
    "duration": 8,
    "start_time": "2025-03-07T04:12:17.565Z"
   },
   {
    "duration": 3,
    "start_time": "2025-03-07T04:12:19.128Z"
   },
   {
    "duration": 9,
    "start_time": "2025-03-07T04:12:21.189Z"
   },
   {
    "duration": 14,
    "start_time": "2025-03-07T04:12:22.967Z"
   },
   {
    "duration": 539,
    "start_time": "2025-03-07T04:12:24.932Z"
   },
   {
    "duration": 11,
    "start_time": "2025-03-07T04:12:27.081Z"
   },
   {
    "duration": 300,
    "start_time": "2025-03-07T04:12:28.842Z"
   },
   {
    "duration": 932,
    "start_time": "2025-03-07T04:12:30.799Z"
   },
   {
    "duration": 13501,
    "start_time": "2025-03-07T04:12:36.795Z"
   },
   {
    "duration": 1546,
    "start_time": "2025-03-07T04:12:53.901Z"
   },
   {
    "duration": 4925,
    "start_time": "2025-03-07T04:17:16.409Z"
   },
   {
    "duration": 82,
    "start_time": "2025-03-07T04:18:43.549Z"
   },
   {
    "duration": 1062,
    "start_time": "2025-03-07T04:20:12.781Z"
   },
   {
    "duration": 26,
    "start_time": "2025-03-07T04:20:13.845Z"
   },
   {
    "duration": 22,
    "start_time": "2025-03-07T04:20:13.874Z"
   },
   {
    "duration": 3,
    "start_time": "2025-03-07T04:20:13.898Z"
   },
   {
    "duration": 4,
    "start_time": "2025-03-07T04:20:13.905Z"
   },
   {
    "duration": 600,
    "start_time": "2025-03-07T04:20:13.911Z"
   },
   {
    "duration": 10,
    "start_time": "2025-03-07T04:20:14.513Z"
   },
   {
    "duration": 9,
    "start_time": "2025-03-07T04:20:14.524Z"
   },
   {
    "duration": 28,
    "start_time": "2025-03-07T04:20:14.534Z"
   },
   {
    "duration": 4,
    "start_time": "2025-03-07T04:20:14.565Z"
   },
   {
    "duration": 3,
    "start_time": "2025-03-07T04:20:14.572Z"
   },
   {
    "duration": 5,
    "start_time": "2025-03-07T04:20:14.577Z"
   },
   {
    "duration": 13,
    "start_time": "2025-03-07T04:20:14.583Z"
   },
   {
    "duration": 5,
    "start_time": "2025-03-07T04:20:14.631Z"
   },
   {
    "duration": 4,
    "start_time": "2025-03-07T04:20:14.638Z"
   },
   {
    "duration": 4,
    "start_time": "2025-03-07T04:20:14.643Z"
   },
   {
    "duration": 9,
    "start_time": "2025-03-07T04:20:14.648Z"
   },
   {
    "duration": 13,
    "start_time": "2025-03-07T04:20:14.659Z"
   },
   {
    "duration": 618,
    "start_time": "2025-03-07T04:20:14.674Z"
   },
   {
    "duration": 9,
    "start_time": "2025-03-07T04:20:15.294Z"
   },
   {
    "duration": 501,
    "start_time": "2025-03-07T04:20:15.333Z"
   },
   {
    "duration": 1008,
    "start_time": "2025-03-07T04:20:15.838Z"
   },
   {
    "duration": 13657,
    "start_time": "2025-03-07T04:20:16.848Z"
   },
   {
    "duration": 5140,
    "start_time": "2025-03-07T04:20:30.507Z"
   },
   {
    "duration": 1980,
    "start_time": "2025-03-07T04:20:35.651Z"
   },
   {
    "duration": 117,
    "start_time": "2025-03-07T04:20:37.633Z"
   },
   {
    "duration": 1092,
    "start_time": "2025-03-07T04:30:29.055Z"
   },
   {
    "duration": 25,
    "start_time": "2025-03-07T04:30:30.149Z"
   },
   {
    "duration": 23,
    "start_time": "2025-03-07T04:30:30.176Z"
   },
   {
    "duration": 3,
    "start_time": "2025-03-07T04:30:30.202Z"
   },
   {
    "duration": 6,
    "start_time": "2025-03-07T04:30:30.207Z"
   },
   {
    "duration": 590,
    "start_time": "2025-03-07T04:30:30.214Z"
   },
   {
    "duration": 9,
    "start_time": "2025-03-07T04:30:30.805Z"
   },
   {
    "duration": 9,
    "start_time": "2025-03-07T04:30:30.816Z"
   },
   {
    "duration": 25,
    "start_time": "2025-03-07T04:30:30.827Z"
   },
   {
    "duration": 4,
    "start_time": "2025-03-07T04:30:30.854Z"
   },
   {
    "duration": 3,
    "start_time": "2025-03-07T04:30:30.860Z"
   },
   {
    "duration": 5,
    "start_time": "2025-03-07T04:30:30.865Z"
   },
   {
    "duration": 14,
    "start_time": "2025-03-07T04:30:30.871Z"
   },
   {
    "duration": 5,
    "start_time": "2025-03-07T04:30:30.886Z"
   },
   {
    "duration": 39,
    "start_time": "2025-03-07T04:30:30.892Z"
   },
   {
    "duration": 3,
    "start_time": "2025-03-07T04:30:30.933Z"
   },
   {
    "duration": 8,
    "start_time": "2025-03-07T04:30:30.938Z"
   },
   {
    "duration": 13,
    "start_time": "2025-03-07T04:30:30.949Z"
   },
   {
    "duration": 559,
    "start_time": "2025-03-07T04:30:30.964Z"
   },
   {
    "duration": 14,
    "start_time": "2025-03-07T04:30:31.526Z"
   },
   {
    "duration": 413,
    "start_time": "2025-03-07T04:30:31.541Z"
   },
   {
    "duration": 1099,
    "start_time": "2025-03-07T04:30:32.033Z"
   },
   {
    "duration": 4720,
    "start_time": "2025-03-07T04:30:33.135Z"
   },
   {
    "duration": 203,
    "start_time": "2025-03-07T04:30:37.931Z"
   }
  ],
  "kernelspec": {
   "display_name": "base",
   "language": "python",
   "name": "python3"
  },
  "language_info": {
   "codemirror_mode": {
    "name": "ipython",
    "version": 3
   },
   "file_extension": ".py",
   "mimetype": "text/x-python",
   "name": "python",
   "nbconvert_exporter": "python",
   "pygments_lexer": "ipython3",
   "version": "3.12.4"
  },
  "toc": {
   "base_numbering": 1,
   "nav_menu": {},
   "number_sections": true,
   "sideBar": true,
   "skip_h1_title": true,
   "title_cell": "Table of Contents",
   "title_sidebar": "Contents",
   "toc_cell": false,
   "toc_position": {},
   "toc_section_display": true,
   "toc_window_display": false
  }
 },
 "nbformat": 4,
 "nbformat_minor": 2
}
